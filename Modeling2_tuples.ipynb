{
 "cells": [
  {
   "cell_type": "code",
   "execution_count": 1,
   "metadata": {
    "ExecuteTime": {
     "end_time": "2021-01-31T14:44:42.069028Z",
     "start_time": "2021-01-31T14:44:39.363794Z"
    }
   },
   "outputs": [
    {
     "name": "stderr",
     "output_type": "stream",
     "text": [
      "In C:\\Users\\ZukiPC\\anaconda3\\lib\\site-packages\\matplotlib\\mpl-data\\stylelib\\_classic_test.mplstyle: \n",
      "The text.latex.preview rcparam was deprecated in Matplotlib 3.3 and will be removed two minor releases later.\n",
      "In C:\\Users\\ZukiPC\\anaconda3\\lib\\site-packages\\matplotlib\\mpl-data\\stylelib\\_classic_test.mplstyle: \n",
      "The mathtext.fallback_to_cm rcparam was deprecated in Matplotlib 3.3 and will be removed two minor releases later.\n",
      "In C:\\Users\\ZukiPC\\anaconda3\\lib\\site-packages\\matplotlib\\mpl-data\\stylelib\\_classic_test.mplstyle: Support for setting the 'mathtext.fallback_to_cm' rcParam is deprecated since 3.3 and will be removed two minor releases later; use 'mathtext.fallback : 'cm' instead.\n",
      "In C:\\Users\\ZukiPC\\anaconda3\\lib\\site-packages\\matplotlib\\mpl-data\\stylelib\\_classic_test.mplstyle: \n",
      "The validate_bool_maybe_none function was deprecated in Matplotlib 3.3 and will be removed two minor releases later.\n",
      "In C:\\Users\\ZukiPC\\anaconda3\\lib\\site-packages\\matplotlib\\mpl-data\\stylelib\\_classic_test.mplstyle: \n",
      "The savefig.jpeg_quality rcparam was deprecated in Matplotlib 3.3 and will be removed two minor releases later.\n",
      "In C:\\Users\\ZukiPC\\anaconda3\\lib\\site-packages\\matplotlib\\mpl-data\\stylelib\\_classic_test.mplstyle: \n",
      "The keymap.all_axes rcparam was deprecated in Matplotlib 3.3 and will be removed two minor releases later.\n",
      "In C:\\Users\\ZukiPC\\anaconda3\\lib\\site-packages\\matplotlib\\mpl-data\\stylelib\\_classic_test.mplstyle: \n",
      "The animation.avconv_path rcparam was deprecated in Matplotlib 3.3 and will be removed two minor releases later.\n",
      "In C:\\Users\\ZukiPC\\anaconda3\\lib\\site-packages\\matplotlib\\mpl-data\\stylelib\\_classic_test.mplstyle: \n",
      "The animation.avconv_args rcparam was deprecated in Matplotlib 3.3 and will be removed two minor releases later.\n"
     ]
    }
   ],
   "source": [
    "import pandas as pd\n",
    "import numpy as np\n",
    "\n",
    "import matplotlib.pyplot as plt\n",
    "\n",
    "from sklearn.model_selection import train_test_split\n",
    "from sklearn.compose import ColumnTransformer\n",
    "from sklearn.preprocessing import OneHotEncoder\n",
    "from sklearn.pipeline import Pipeline, make_pipeline\n",
    "from sklearn.ensemble import RandomForestClassifier\n",
    "from sklearn.metrics import precision_score, recall_score, precision_recall_curve\n",
    "from sklearn.linear_model import LogisticRegression"
   ]
  },
  {
   "cell_type": "code",
   "execution_count": 2,
   "metadata": {
    "ExecuteTime": {
     "end_time": "2021-01-31T14:44:43.809335Z",
     "start_time": "2021-01-31T14:44:42.105672Z"
    }
   },
   "outputs": [
    {
     "name": "stderr",
     "output_type": "stream",
     "text": [
      "C:\\Users\\ZukiPC\\anaconda3\\lib\\site-packages\\IPython\\core\\interactiveshell.py:3146: DtypeWarning: Columns (15) have mixed types.Specify dtype option on import or set low_memory=False.\n",
      "  interactivity=interactivity, compiler=compiler, result=result)\n"
     ]
    }
   ],
   "source": [
    "data = pd.read_csv('train_with_norelevant.csv').drop('Unnamed: 0', axis=1)"
   ]
  },
  {
   "cell_type": "code",
   "execution_count": 3,
   "metadata": {
    "ExecuteTime": {
     "end_time": "2021-01-31T14:44:47.566158Z",
     "start_time": "2021-01-31T14:44:47.525182Z"
    }
   },
   "outputs": [
    {
     "data": {
      "text/html": [
       "<div>\n",
       "<style scoped>\n",
       "    .dataframe tbody tr th:only-of-type {\n",
       "        vertical-align: middle;\n",
       "    }\n",
       "\n",
       "    .dataframe tbody tr th {\n",
       "        vertical-align: top;\n",
       "    }\n",
       "\n",
       "    .dataframe thead th {\n",
       "        text-align: right;\n",
       "    }\n",
       "</style>\n",
       "<table border=\"1\" class=\"dataframe\">\n",
       "  <thead>\n",
       "    <tr style=\"text-align: right;\">\n",
       "      <th></th>\n",
       "      <th>observation_id</th>\n",
       "      <th>Type</th>\n",
       "      <th>Date</th>\n",
       "      <th>Part of a policing operation</th>\n",
       "      <th>Latitude</th>\n",
       "      <th>Longitude</th>\n",
       "      <th>Gender</th>\n",
       "      <th>Age range</th>\n",
       "      <th>Self-defined ethnicity</th>\n",
       "      <th>Officer-defined ethnicity</th>\n",
       "      <th>...</th>\n",
       "      <th>Outcome</th>\n",
       "      <th>Outcome linked to object of search</th>\n",
       "      <th>Removal of more than just outer clothing</th>\n",
       "      <th>station</th>\n",
       "      <th>Year</th>\n",
       "      <th>Month</th>\n",
       "      <th>Hour</th>\n",
       "      <th>Day_of_week</th>\n",
       "      <th>Week</th>\n",
       "      <th>aux</th>\n",
       "    </tr>\n",
       "  </thead>\n",
       "  <tbody>\n",
       "    <tr>\n",
       "      <th>0</th>\n",
       "      <td>47b07238-a9b6-4ef7-a209-7a1fd8c88149</td>\n",
       "      <td>Vehicle search</td>\n",
       "      <td>2019-12-03 00:00:00+00:00</td>\n",
       "      <td>NaN</td>\n",
       "      <td>54.548325</td>\n",
       "      <td>-1.271298</td>\n",
       "      <td>Male</td>\n",
       "      <td>18-24</td>\n",
       "      <td>White - English/Welsh/Scottish/Northern Irish/...</td>\n",
       "      <td>White</td>\n",
       "      <td>...</td>\n",
       "      <td>Caution (simple or conditional)</td>\n",
       "      <td>False</td>\n",
       "      <td>NaN</td>\n",
       "      <td>cleveland</td>\n",
       "      <td>2019</td>\n",
       "      <td>12</td>\n",
       "      <td>0</td>\n",
       "      <td>Tuesday</td>\n",
       "      <td>49</td>\n",
       "      <td>('cleveland', 'White', 'Male')</td>\n",
       "    </tr>\n",
       "    <tr>\n",
       "      <th>1</th>\n",
       "      <td>be1ce6a4-89b7-49a2-bc2a-00868a115c42</td>\n",
       "      <td>Vehicle search</td>\n",
       "      <td>2019-12-04 12:12:00+00:00</td>\n",
       "      <td>False</td>\n",
       "      <td>51.382699</td>\n",
       "      <td>0.543110</td>\n",
       "      <td>Male</td>\n",
       "      <td>10-17</td>\n",
       "      <td>Asian/Asian British - Indian</td>\n",
       "      <td>Asian</td>\n",
       "      <td>...</td>\n",
       "      <td>Arrest</td>\n",
       "      <td>True</td>\n",
       "      <td>False</td>\n",
       "      <td>kent</td>\n",
       "      <td>2019</td>\n",
       "      <td>12</td>\n",
       "      <td>12</td>\n",
       "      <td>Wednesday</td>\n",
       "      <td>49</td>\n",
       "      <td>('kent', 'Asian', 'Male')</td>\n",
       "    </tr>\n",
       "    <tr>\n",
       "      <th>2</th>\n",
       "      <td>2f44c551-7fe3-475f-8ed6-ae3e24928505</td>\n",
       "      <td>Vehicle search</td>\n",
       "      <td>2018-09-25 00:41:00+00:00</td>\n",
       "      <td>False</td>\n",
       "      <td>53.608913</td>\n",
       "      <td>-2.138118</td>\n",
       "      <td>Male</td>\n",
       "      <td>18-24</td>\n",
       "      <td>Asian/Asian British - Pakistani</td>\n",
       "      <td>Asian</td>\n",
       "      <td>...</td>\n",
       "      <td>A no further action disposal</td>\n",
       "      <td>False</td>\n",
       "      <td>False</td>\n",
       "      <td>greater-manchester</td>\n",
       "      <td>2018</td>\n",
       "      <td>9</td>\n",
       "      <td>0</td>\n",
       "      <td>Tuesday</td>\n",
       "      <td>39</td>\n",
       "      <td>('greater-manchester', 'Asian', 'Male')</td>\n",
       "    </tr>\n",
       "    <tr>\n",
       "      <th>3</th>\n",
       "      <td>564e42e2-16e5-4fdc-a140-1e4406d8941e</td>\n",
       "      <td>Vehicle search</td>\n",
       "      <td>2018-09-07 19:00:00+00:00</td>\n",
       "      <td>True</td>\n",
       "      <td>51.190980</td>\n",
       "      <td>0.269950</td>\n",
       "      <td>Male</td>\n",
       "      <td>18-24</td>\n",
       "      <td>Other ethnic group - Not stated</td>\n",
       "      <td>Other</td>\n",
       "      <td>...</td>\n",
       "      <td>Summons / charged by post</td>\n",
       "      <td>False</td>\n",
       "      <td>NaN</td>\n",
       "      <td>kent</td>\n",
       "      <td>2018</td>\n",
       "      <td>9</td>\n",
       "      <td>19</td>\n",
       "      <td>Friday</td>\n",
       "      <td>36</td>\n",
       "      <td>('kent', 'Other', 'Male')</td>\n",
       "    </tr>\n",
       "    <tr>\n",
       "      <th>4</th>\n",
       "      <td>4fdcc05d-44c0-477a-a9c7-55c15efb319c</td>\n",
       "      <td>Vehicle search</td>\n",
       "      <td>2018-09-07 19:21:00+00:00</td>\n",
       "      <td>True</td>\n",
       "      <td>51.190980</td>\n",
       "      <td>0.269950</td>\n",
       "      <td>Male</td>\n",
       "      <td>18-24</td>\n",
       "      <td>White - English/Welsh/Scottish/Northern Irish/...</td>\n",
       "      <td>White</td>\n",
       "      <td>...</td>\n",
       "      <td>Summons / charged by post</td>\n",
       "      <td>False</td>\n",
       "      <td>NaN</td>\n",
       "      <td>kent</td>\n",
       "      <td>2018</td>\n",
       "      <td>9</td>\n",
       "      <td>19</td>\n",
       "      <td>Friday</td>\n",
       "      <td>36</td>\n",
       "      <td>('kent', 'White', 'Male')</td>\n",
       "    </tr>\n",
       "  </tbody>\n",
       "</table>\n",
       "<p>5 rows × 22 columns</p>\n",
       "</div>"
      ],
      "text/plain": [
       "                         observation_id            Type  \\\n",
       "0  47b07238-a9b6-4ef7-a209-7a1fd8c88149  Vehicle search   \n",
       "1  be1ce6a4-89b7-49a2-bc2a-00868a115c42  Vehicle search   \n",
       "2  2f44c551-7fe3-475f-8ed6-ae3e24928505  Vehicle search   \n",
       "3  564e42e2-16e5-4fdc-a140-1e4406d8941e  Vehicle search   \n",
       "4  4fdcc05d-44c0-477a-a9c7-55c15efb319c  Vehicle search   \n",
       "\n",
       "                        Date Part of a policing operation   Latitude  \\\n",
       "0  2019-12-03 00:00:00+00:00                          NaN  54.548325   \n",
       "1  2019-12-04 12:12:00+00:00                        False  51.382699   \n",
       "2  2018-09-25 00:41:00+00:00                        False  53.608913   \n",
       "3  2018-09-07 19:00:00+00:00                         True  51.190980   \n",
       "4  2018-09-07 19:21:00+00:00                         True  51.190980   \n",
       "\n",
       "   Longitude Gender Age range  \\\n",
       "0  -1.271298   Male     18-24   \n",
       "1   0.543110   Male     10-17   \n",
       "2  -2.138118   Male     18-24   \n",
       "3   0.269950   Male     18-24   \n",
       "4   0.269950   Male     18-24   \n",
       "\n",
       "                              Self-defined ethnicity  \\\n",
       "0  White - English/Welsh/Scottish/Northern Irish/...   \n",
       "1                       Asian/Asian British - Indian   \n",
       "2                    Asian/Asian British - Pakistani   \n",
       "3                    Other ethnic group - Not stated   \n",
       "4  White - English/Welsh/Scottish/Northern Irish/...   \n",
       "\n",
       "  Officer-defined ethnicity  ...                          Outcome  \\\n",
       "0                     White  ...  Caution (simple or conditional)   \n",
       "1                     Asian  ...                           Arrest   \n",
       "2                     Asian  ...     A no further action disposal   \n",
       "3                     Other  ...        Summons / charged by post   \n",
       "4                     White  ...        Summons / charged by post   \n",
       "\n",
       "  Outcome linked to object of search Removal of more than just outer clothing  \\\n",
       "0                              False                                      NaN   \n",
       "1                               True                                    False   \n",
       "2                              False                                    False   \n",
       "3                              False                                      NaN   \n",
       "4                              False                                      NaN   \n",
       "\n",
       "              station  Year Month  Hour  Day_of_week  Week  \\\n",
       "0           cleveland  2019    12     0      Tuesday    49   \n",
       "1                kent  2019    12    12    Wednesday    49   \n",
       "2  greater-manchester  2018     9     0      Tuesday    39   \n",
       "3                kent  2018     9    19       Friday    36   \n",
       "4                kent  2018     9    19       Friday    36   \n",
       "\n",
       "                                       aux  \n",
       "0           ('cleveland', 'White', 'Male')  \n",
       "1                ('kent', 'Asian', 'Male')  \n",
       "2  ('greater-manchester', 'Asian', 'Male')  \n",
       "3                ('kent', 'Other', 'Male')  \n",
       "4                ('kent', 'White', 'Male')  \n",
       "\n",
       "[5 rows x 22 columns]"
      ]
     },
     "execution_count": 3,
     "metadata": {},
     "output_type": "execute_result"
    }
   ],
   "source": [
    "data.head()"
   ]
  },
  {
   "cell_type": "code",
   "execution_count": 4,
   "metadata": {
    "ExecuteTime": {
     "end_time": "2021-01-31T14:44:51.182288Z",
     "start_time": "2021-01-31T14:44:51.162300Z"
    }
   },
   "outputs": [
    {
     "data": {
      "text/plain": [
       "(309044, 22)"
      ]
     },
     "execution_count": 4,
     "metadata": {},
     "output_type": "execute_result"
    }
   ],
   "source": [
    "data.shape"
   ]
  },
  {
   "cell_type": "code",
   "execution_count": 5,
   "metadata": {
    "ExecuteTime": {
     "end_time": "2021-01-31T14:44:51.689728Z",
     "start_time": "2021-01-31T14:44:51.622714Z"
    }
   },
   "outputs": [],
   "source": [
    "relevance = data.groupby([data.aux]).size().reset_index()\n",
    "relevance.columns = ('aux', 'nb')"
   ]
  },
  {
   "cell_type": "code",
   "execution_count": 6,
   "metadata": {
    "ExecuteTime": {
     "end_time": "2021-01-31T14:44:52.147102Z",
     "start_time": "2021-01-31T14:44:52.120057Z"
    }
   },
   "outputs": [],
   "source": [
    "no_relevant = relevance[relevance.nb < 30].aux.unique()"
   ]
  },
  {
   "cell_type": "code",
   "execution_count": 7,
   "metadata": {
    "ExecuteTime": {
     "end_time": "2021-01-31T14:44:52.571985Z",
     "start_time": "2021-01-31T14:44:52.558992Z"
    }
   },
   "outputs": [
    {
     "data": {
      "text/plain": [
       "109"
      ]
     },
     "execution_count": 7,
     "metadata": {},
     "output_type": "execute_result"
    }
   ],
   "source": [
    "len(no_relevant)"
   ]
  },
  {
   "cell_type": "code",
   "execution_count": 8,
   "metadata": {
    "ExecuteTime": {
     "end_time": "2021-01-31T14:44:54.613396Z",
     "start_time": "2021-01-31T14:44:54.501632Z"
    }
   },
   "outputs": [],
   "source": [
    "train = data[data.aux.isin(no_relevant)==False]"
   ]
  },
  {
   "cell_type": "code",
   "execution_count": 9,
   "metadata": {
    "ExecuteTime": {
     "end_time": "2021-01-31T14:44:55.381787Z",
     "start_time": "2021-01-31T14:44:55.368812Z"
    }
   },
   "outputs": [
    {
     "data": {
      "text/plain": [
       "(308048, 22)"
      ]
     },
     "execution_count": 9,
     "metadata": {},
     "output_type": "execute_result"
    }
   ],
   "source": [
    "train.shape"
   ]
  },
  {
   "cell_type": "code",
   "execution_count": 10,
   "metadata": {
    "ExecuteTime": {
     "end_time": "2021-01-31T14:44:57.616280Z",
     "start_time": "2021-01-31T14:44:57.603289Z"
    }
   },
   "outputs": [
    {
     "name": "stderr",
     "output_type": "stream",
     "text": [
      "C:\\Users\\ZukiPC\\anaconda3\\lib\\site-packages\\ipykernel_launcher.py:5: SettingWithCopyWarning: \n",
      "A value is trying to be set on a copy of a slice from a DataFrame.\n",
      "Try using .loc[row_indexer,col_indexer] = value instead\n",
      "\n",
      "See the caveats in the documentation: https://pandas.pydata.org/pandas-docs/stable/user_guide/indexing.html#returning-a-view-versus-a-copy\n",
      "  \"\"\"\n"
     ]
    }
   ],
   "source": [
    "train['target']= (\n",
    "    np.where(\n",
    "    train['Outcome linked to object of search']==True,\n",
    "    1,\n",
    "    0)\n",
    ")"
   ]
  },
  {
   "cell_type": "code",
   "execution_count": 11,
   "metadata": {
    "ExecuteTime": {
     "end_time": "2021-01-31T14:44:58.408740Z",
     "start_time": "2021-01-31T14:44:58.396729Z"
    }
   },
   "outputs": [],
   "source": [
    "columns_to_drop = ['observation_id', 'Part of a policing operation',\n",
    "       'Latitude', 'Longitude', \n",
    "       'Self-defined ethnicity', 'Legislation',\n",
    "       'Outcome', 'Outcome linked to object of search',\n",
    "       'Removal of more than just outer clothing', 'target', 'aux']"
   ]
  },
  {
   "cell_type": "code",
   "execution_count": 12,
   "metadata": {
    "ExecuteTime": {
     "end_time": "2021-01-31T14:44:59.178917Z",
     "start_time": "2021-01-31T14:44:59.134848Z"
    }
   },
   "outputs": [],
   "source": [
    "X = train.drop(columns=columns_to_drop)\n",
    "y = train['target']"
   ]
  },
  {
   "cell_type": "code",
   "execution_count": 51,
   "metadata": {
    "ExecuteTime": {
     "end_time": "2021-01-31T15:02:47.298798Z",
     "start_time": "2021-01-31T15:02:47.279791Z"
    }
   },
   "outputs": [],
   "source": [
    "categorical_features = ['Type', 'Gender', 'Age range', 'Officer-defined ethnicity',\n",
    "       'Object of search', 'station']\n",
    "\n",
    "numerical_features = ['Year', 'Month', 'Hour', 'Day_of_week',\n",
    "       'Week']"
   ]
  },
  {
   "cell_type": "code",
   "execution_count": 14,
   "metadata": {
    "ExecuteTime": {
     "end_time": "2021-01-31T14:45:02.447945Z",
     "start_time": "2021-01-31T14:45:02.305808Z"
    }
   },
   "outputs": [],
   "source": [
    "X_train, X_test, y_train, y_test = train_test_split(X, y, test_size=0.25, random_state=42)"
   ]
  },
  {
   "cell_type": "code",
   "execution_count": 33,
   "metadata": {
    "ExecuteTime": {
     "end_time": "2021-01-31T14:47:34.787956Z",
     "start_time": "2021-01-31T14:47:34.771945Z"
    }
   },
   "outputs": [],
   "source": [
    "categorical_transformer = Pipeline(steps=[('onehot', OneHotEncoder(handle_unknown='ignore'))])\n",
    "\n",
    "preprocessor = ColumnTransformer(\n",
    "    transformers=[('cat', categorical_transformer, categorical_features)])\n",
    "\n",
    "pipeline = make_pipeline(\n",
    "    preprocessor,\n",
    "    RandomForestClassifier(n_jobs=-1, random_state=42, n_estimators=7, max_depth = 30, min_samples_split= 200, max_leaf_nodes=5),\n",
    ")"
   ]
  },
  {
   "cell_type": "code",
   "execution_count": 34,
   "metadata": {
    "ExecuteTime": {
     "end_time": "2021-01-31T14:47:36.540081Z",
     "start_time": "2021-01-31T14:47:35.678009Z"
    }
   },
   "outputs": [
    {
     "data": {
      "text/plain": [
       "Pipeline(steps=[('columntransformer',\n",
       "                 ColumnTransformer(transformers=[('cat',\n",
       "                                                  Pipeline(steps=[('onehot',\n",
       "                                                                   OneHotEncoder(handle_unknown='ignore'))]),\n",
       "                                                  ['Type', 'Gender',\n",
       "                                                   'Age range',\n",
       "                                                   'Officer-defined ethnicity',\n",
       "                                                   'Object of search',\n",
       "                                                   'station'])])),\n",
       "                ('randomforestclassifier',\n",
       "                 RandomForestClassifier(max_depth=30, max_leaf_nodes=5,\n",
       "                                        min_samples_split=200, n_estimators=7,\n",
       "                                        n_jobs=-1, random_state=42))])"
      ]
     },
     "execution_count": 34,
     "metadata": {},
     "output_type": "execute_result"
    }
   ],
   "source": [
    "pipeline.fit(X_train, y_train)"
   ]
  },
  {
   "cell_type": "code",
   "execution_count": 35,
   "metadata": {
    "ExecuteTime": {
     "end_time": "2021-01-31T14:47:37.886167Z",
     "start_time": "2021-01-31T14:47:37.599524Z"
    }
   },
   "outputs": [],
   "source": [
    "preds = pipeline.predict(X_test)"
   ]
  },
  {
   "cell_type": "code",
   "execution_count": 18,
   "metadata": {
    "ExecuteTime": {
     "end_time": "2021-01-31T14:45:09.670967Z",
     "start_time": "2021-01-31T14:45:09.658028Z"
    }
   },
   "outputs": [],
   "source": [
    "def verify_success_rate_above(y_true, y_pred, min_success_rate=0.5):\n",
    "    \"\"\"\n",
    "    Verifies the success rate on a test set is above a provided minimum\n",
    "    \n",
    "    \n",
    "    \"\"\"\n",
    "    \n",
    "    precision = precision_score(y_true, y_pred, pos_label=True)\n",
    "    is_satisfied = (precision >= min_success_rate)\n",
    "    \n",
    "    return is_satisfied, precision"
   ]
  },
  {
   "cell_type": "code",
   "execution_count": 19,
   "metadata": {
    "ExecuteTime": {
     "end_time": "2021-01-31T14:45:11.802467Z",
     "start_time": "2021-01-31T14:45:11.797450Z"
    }
   },
   "outputs": [],
   "source": [
    "def verify_amount_found(y_true, y_pred):\n",
    "    \"\"\"\n",
    "    Verifies the amout of contraband found in the test dataset - a.k.a the recall in our test set\n",
    "    \"\"\"\n",
    "    \n",
    "    recall = recall_score(y_true, y_pred)    \n",
    "    return recall"
   ]
  },
  {
   "cell_type": "code",
   "execution_count": 36,
   "metadata": {
    "ExecuteTime": {
     "end_time": "2021-01-31T14:47:42.376978Z",
     "start_time": "2021-01-31T14:47:42.332002Z"
    }
   },
   "outputs": [
    {
     "data": {
      "text/plain": [
       "(True, 0.8421900161030595)"
      ]
     },
     "execution_count": 36,
     "metadata": {},
     "output_type": "execute_result"
    }
   ],
   "source": [
    "verify_success_rate_above(y_test, preds)"
   ]
  },
  {
   "cell_type": "code",
   "execution_count": 37,
   "metadata": {
    "ExecuteTime": {
     "end_time": "2021-01-31T14:47:43.302940Z",
     "start_time": "2021-01-31T14:47:43.257964Z"
    }
   },
   "outputs": [
    {
     "data": {
      "text/plain": [
       "0.08455258265297874"
      ]
     },
     "execution_count": 37,
     "metadata": {},
     "output_type": "execute_result"
    }
   ],
   "source": [
    "verify_amount_found(y_test, preds)"
   ]
  },
  {
   "cell_type": "code",
   "execution_count": 23,
   "metadata": {
    "ExecuteTime": {
     "end_time": "2021-01-31T14:45:22.699960Z",
     "start_time": "2021-01-31T14:45:22.682973Z"
    }
   },
   "outputs": [],
   "source": [
    "def verify_no_discrimination(X_test, y_true, y_pred, sensitive_column='Officer-defined ethnicity', max_diff=0.10, min_samples=500):\n",
    "    \"\"\"\n",
    "    Verifies that no subdeparment has discrimination in between protected races\n",
    "    \n",
    "    \n",
    "    \"\"\"\n",
    "    \n",
    "    departments = X_test['station'].unique()\n",
    "    sensitive_classes = X_test[sensitive_column].unique()\n",
    "    \n",
    "    is_satisfied = True\n",
    "    problematic_departments = []\n",
    "    good_deparments = []\n",
    "    for department in departments:\n",
    "        precisions = {}\n",
    "        for sensitive_class in sensitive_classes:\n",
    "            mask = (X_test[sensitive_column] == sensitive_class) & (X_test['station'] == department)\n",
    "            if mask.sum():\n",
    "                precisions[sensitive_class] = precision_score(y_true[mask], y_pred[mask], pos_label=1)\n",
    "                \n",
    "        if len(precisions) > 1:    \n",
    "            diff = np.max(list(precisions.values())) - np.min(list(precisions.values()))\n",
    "\n",
    "            if diff > max_diff:\n",
    "                is_satisfied = False\n",
    "                problematic_departments.append((department, diff, precisions))\n",
    "            else:\n",
    "                good_deparments.append((department, diff, precisions))\n",
    "        else:\n",
    "            ignored_departments.append((department, None, []))\n",
    "    \n",
    "    global_precisions = {}\n",
    "    for sensitive_class in sensitive_classes:\n",
    "        mask = (X_test[sensitive_column] == sensitive_class)\n",
    "        if np.sum(mask) > min_samples:\n",
    "            global_precisions[sensitive_class] = precision_score(y_true[mask], y_pred[mask], pos_label=1)\n",
    "    \n",
    "    if len(precisions) > 1:    \n",
    "        diff = np.max(list(precisions.values())) - np.min(list(precisions.values()))\n",
    "        if diff > max_diff:\n",
    "            is_satisfied = False\n",
    "        \n",
    "    return is_satisfied, problematic_departments, good_deparments, global_precisions"
   ]
  },
  {
   "cell_type": "code",
   "execution_count": 38,
   "metadata": {
    "ExecuteTime": {
     "end_time": "2021-01-31T14:47:51.588494Z",
     "start_time": "2021-01-31T14:47:49.162636Z"
    }
   },
   "outputs": [
    {
     "name": "stderr",
     "output_type": "stream",
     "text": [
      "C:\\Users\\ZukiPC\\anaconda3\\lib\\site-packages\\sklearn\\metrics\\_classification.py:1221: UndefinedMetricWarning: Precision is ill-defined and being set to 0.0 due to no predicted samples. Use `zero_division` parameter to control this behavior.\n",
      "  _warn_prf(average, modifier, msg_start, len(result))\n"
     ]
    },
    {
     "name": "stdout",
     "output_type": "stream",
     "text": [
      "Requirement satisfied! 🚀\n",
      "avg diff: nan\n"
     ]
    },
    {
     "name": "stderr",
     "output_type": "stream",
     "text": [
      "C:\\Users\\ZukiPC\\anaconda3\\lib\\site-packages\\numpy\\core\\fromnumeric.py:3335: RuntimeWarning: Mean of empty slice.\n",
      "  out=out, **kwargs)\n",
      "C:\\Users\\ZukiPC\\anaconda3\\lib\\site-packages\\numpy\\core\\_methods.py:161: RuntimeWarning: invalid value encountered in double_scalars\n",
      "  ret = ret.dtype.type(ret / rcount)\n"
     ]
    }
   ],
   "source": [
    "is_satisfied, problematic_departments, good_deparments, global_precisions  = verify_no_discrimination(\n",
    "    X_test, y_test, preds)\n",
    "\n",
    "if not is_satisfied:\n",
    "    print(\"Requirement failed 😢\")\n",
    "    print(\"Num problematic departments: {}\".format(len(problematic_departments)))\n",
    "    print(\"Num good departments: {}\".format(len(good_deparments)))\n",
    "else:\n",
    "    print(\"Requirement satisfied! 🚀\")\n",
    "\n",
    "    print(\"avg diff:\", np.mean([p[1] for p in problematic_departments]))"
   ]
  },
  {
   "cell_type": "code",
   "execution_count": 39,
   "metadata": {
    "ExecuteTime": {
     "end_time": "2021-01-31T14:47:53.458404Z",
     "start_time": "2021-01-31T14:47:52.418409Z"
    }
   },
   "outputs": [
    {
     "name": "stderr",
     "output_type": "stream",
     "text": [
      "C:\\Users\\ZukiPC\\anaconda3\\lib\\site-packages\\sklearn\\metrics\\_classification.py:1221: UndefinedMetricWarning: Precision is ill-defined and being set to 0.0 due to no predicted samples. Use `zero_division` parameter to control this behavior.\n",
      "  _warn_prf(average, modifier, msg_start, len(result))\n"
     ]
    },
    {
     "name": "stdout",
     "output_type": "stream",
     "text": [
      "Requirement satisfied! 🚀\n",
      "avg diff: nan\n"
     ]
    },
    {
     "name": "stderr",
     "output_type": "stream",
     "text": [
      "C:\\Users\\ZukiPC\\anaconda3\\lib\\site-packages\\numpy\\core\\fromnumeric.py:3335: RuntimeWarning: Mean of empty slice.\n",
      "  out=out, **kwargs)\n",
      "C:\\Users\\ZukiPC\\anaconda3\\lib\\site-packages\\numpy\\core\\_methods.py:161: RuntimeWarning: invalid value encountered in double_scalars\n",
      "  ret = ret.dtype.type(ret / rcount)\n"
     ]
    }
   ],
   "source": [
    "is_satisfied, problematic_departments, good_deparments, global_precisions  = verify_no_discrimination(\n",
    "    X_test, y_test, preds, sensitive_column='Gender')\n",
    "\n",
    "if not is_satisfied:\n",
    "    print(\"Requirement failed 😢\")\n",
    "    print(\"Num problematic departments: {}\".format(len(problematic_departments)))\n",
    "    print(\"Num good departments: {}\".format(len(good_deparments)))\n",
    "else:\n",
    "    print(\"Requirement satisfied! 🚀\")\n",
    "\n",
    "print(\"avg diff:\", np.mean([p[1] for p in problematic_departments]))"
   ]
  },
  {
   "cell_type": "code",
   "execution_count": 40,
   "metadata": {
    "ExecuteTime": {
     "end_time": "2021-01-31T14:47:57.303162Z",
     "start_time": "2021-01-31T14:47:57.039101Z"
    }
   },
   "outputs": [],
   "source": [
    "proba = pipeline.predict_proba(X_test)\n",
    "precision, recall, thresholds = precision_recall_curve(y_test, proba[:, 1])"
   ]
  },
  {
   "cell_type": "code",
   "execution_count": 41,
   "metadata": {
    "ExecuteTime": {
     "end_time": "2021-01-31T14:47:58.901181Z",
     "start_time": "2021-01-31T14:47:58.889168Z"
    }
   },
   "outputs": [],
   "source": [
    "precision = precision[:-1]\n",
    "recall = recall[:-1]"
   ]
  },
  {
   "cell_type": "code",
   "execution_count": 42,
   "metadata": {
    "ExecuteTime": {
     "end_time": "2021-01-31T14:48:00.049261Z",
     "start_time": "2021-01-31T14:47:59.783427Z"
    }
   },
   "outputs": [
    {
     "data": {
      "image/png": "[encoded data removed]",
      "text/plain": [
       "<Figure size 432x288 with 2 Axes>"
      ]
     },
     "metadata": {
      "needs_background": "light"
     },
     "output_type": "display_data"
    }
   ],
   "source": [
    "fig=plt.figure()\n",
    "ax1 = plt.subplot(211)\n",
    "ax2 = plt.subplot(212)\n",
    "ax1.hlines(y=0.1,xmin=0, xmax=1, colors='red')\n",
    "ax1.plot(thresholds,precision)\n",
    "ax2.plot(thresholds,recall)\n",
    "ax1.get_shared_x_axes().join(ax1, ax2)\n",
    "ax1.set_xticklabels([])\n",
    "ax1.set_title('Precision')\n",
    "ax2.set_title('Recall')\n",
    "plt.xlabel('Threshold')\n",
    "plt.show()"
   ]
  },
  {
   "cell_type": "code",
   "execution_count": 43,
   "metadata": {
    "ExecuteTime": {
     "end_time": "2021-01-31T14:48:27.077106Z",
     "start_time": "2021-01-31T14:48:27.058099Z"
    }
   },
   "outputs": [],
   "source": [
    "min_index = [i for i, prec in enumerate(precision) if prec >= 0.1][0]"
   ]
  },
  {
   "cell_type": "code",
   "execution_count": 44,
   "metadata": {
    "ExecuteTime": {
     "end_time": "2021-01-31T14:48:27.965872Z",
     "start_time": "2021-01-31T14:48:27.953880Z"
    }
   },
   "outputs": [
    {
     "data": {
      "text/plain": [
       "0.15900632952143962"
      ]
     },
     "execution_count": 44,
     "metadata": {},
     "output_type": "execute_result"
    }
   ],
   "source": [
    "thresholds[min_index]"
   ]
  },
  {
   "cell_type": "code",
   "execution_count": 45,
   "metadata": {
    "ExecuteTime": {
     "end_time": "2021-01-31T14:48:28.979302Z",
     "start_time": "2021-01-31T14:48:28.934331Z"
    }
   },
   "outputs": [],
   "source": [
    "best_preds = [1 if pred > thresholds[min_index] else 0 for pred in proba[:, 1]]"
   ]
  },
  {
   "cell_type": "code",
   "execution_count": 46,
   "metadata": {
    "ExecuteTime": {
     "end_time": "2021-01-31T14:48:29.979729Z",
     "start_time": "2021-01-31T14:48:29.891304Z"
    }
   },
   "outputs": [
    {
     "data": {
      "text/plain": [
       "(False, 0.32481224725592145)"
      ]
     },
     "execution_count": 46,
     "metadata": {},
     "output_type": "execute_result"
    }
   ],
   "source": [
    "verify_success_rate_above(y_test, best_preds)"
   ]
  },
  {
   "cell_type": "code",
   "execution_count": 47,
   "metadata": {
    "ExecuteTime": {
     "end_time": "2021-01-31T14:48:30.913520Z",
     "start_time": "2021-01-31T14:48:30.841246Z"
    }
   },
   "outputs": [
    {
     "data": {
      "text/plain": [
       "0.9998787486864441"
      ]
     },
     "execution_count": 47,
     "metadata": {},
     "output_type": "execute_result"
    }
   ],
   "source": [
    "verify_amount_found(y_test, best_preds)"
   ]
  },
  {
   "cell_type": "markdown",
   "metadata": {},
   "source": [
    "# Try Logistic Regression"
   ]
  },
  {
   "cell_type": "code",
   "execution_count": 125,
   "metadata": {
    "ExecuteTime": {
     "end_time": "2021-01-31T12:44:04.201245Z",
     "start_time": "2021-01-31T12:44:04.190235Z"
    }
   },
   "outputs": [],
   "source": [
    "categorical_transformer = Pipeline(steps=[('onehot', OneHotEncoder(handle_unknown='ignore'))])\n",
    "\n",
    "preprocessor = ColumnTransformer(\n",
    "    transformers=[('cat', categorical_transformer, categorical_features)])\n",
    "\n",
    "pipeline = make_pipeline(\n",
    "    preprocessor,\n",
    "    LogisticRegression(),\n",
    ")"
   ]
  },
  {
   "cell_type": "code",
   "execution_count": 126,
   "metadata": {
    "ExecuteTime": {
     "end_time": "2021-01-31T12:44:08.280281Z",
     "start_time": "2021-01-31T12:44:05.098603Z"
    }
   },
   "outputs": [
    {
     "name": "stderr",
     "output_type": "stream",
     "text": [
      "C:\\Users\\ZukiPC\\anaconda3\\lib\\site-packages\\sklearn\\linear_model\\_logistic.py:764: ConvergenceWarning: lbfgs failed to converge (status=1):\n",
      "STOP: TOTAL NO. of ITERATIONS REACHED LIMIT.\n",
      "\n",
      "Increase the number of iterations (max_iter) or scale the data as shown in:\n",
      "    https://scikit-learn.org/stable/modules/preprocessing.html\n",
      "Please also refer to the documentation for alternative solver options:\n",
      "    https://scikit-learn.org/stable/modules/linear_model.html#logistic-regression\n",
      "  extra_warning_msg=_LOGISTIC_SOLVER_CONVERGENCE_MSG)\n"
     ]
    },
    {
     "data": {
      "text/plain": [
       "Pipeline(steps=[('columntransformer',\n",
       "                 ColumnTransformer(transformers=[('cat',\n",
       "                                                  Pipeline(steps=[('onehot',\n",
       "                                                                   OneHotEncoder(handle_unknown='ignore'))]),\n",
       "                                                  ['Type', 'Gender',\n",
       "                                                   'Age range',\n",
       "                                                   'Officer-defined ethnicity',\n",
       "                                                   'Object of search',\n",
       "                                                   'station'])])),\n",
       "                ('logisticregression', LogisticRegression(C=10))])"
      ]
     },
     "execution_count": 126,
     "metadata": {},
     "output_type": "execute_result"
    }
   ],
   "source": [
    "pipeline.fit(X_train, y_train)"
   ]
  },
  {
   "cell_type": "code",
   "execution_count": 127,
   "metadata": {
    "ExecuteTime": {
     "end_time": "2021-01-31T12:44:10.154498Z",
     "start_time": "2021-01-31T12:44:10.005569Z"
    }
   },
   "outputs": [],
   "source": [
    "preds2 = pipeline.predict(X_test)"
   ]
  },
  {
   "cell_type": "code",
   "execution_count": 128,
   "metadata": {
    "ExecuteTime": {
     "end_time": "2021-01-31T12:44:11.040067Z",
     "start_time": "2021-01-31T12:44:10.995073Z"
    }
   },
   "outputs": [
    {
     "data": {
      "text/plain": [
       "(True, 0.7591785061190041)"
      ]
     },
     "execution_count": 128,
     "metadata": {},
     "output_type": "execute_result"
    }
   ],
   "source": [
    "verify_success_rate_above(y_test, preds2)"
   ]
  },
  {
   "cell_type": "code",
   "execution_count": 129,
   "metadata": {
    "ExecuteTime": {
     "end_time": "2021-01-31T12:44:13.219247Z",
     "start_time": "2021-01-31T12:44:13.175271Z"
    }
   },
   "outputs": [
    {
     "data": {
      "text/plain": [
       "0.43626222617411686"
      ]
     },
     "execution_count": 129,
     "metadata": {},
     "output_type": "execute_result"
    }
   ],
   "source": [
    "verify_amount_found(y_test, preds2)"
   ]
  },
  {
   "cell_type": "code",
   "execution_count": 130,
   "metadata": {
    "ExecuteTime": {
     "end_time": "2021-01-31T12:44:16.658748Z",
     "start_time": "2021-01-31T12:44:14.164347Z"
    }
   },
   "outputs": [
    {
     "name": "stderr",
     "output_type": "stream",
     "text": [
      "C:\\Users\\ZukiPC\\anaconda3\\lib\\site-packages\\sklearn\\metrics\\_classification.py:1221: UndefinedMetricWarning: Precision is ill-defined and being set to 0.0 due to no predicted samples. Use `zero_division` parameter to control this behavior.\n",
      "  _warn_prf(average, modifier, msg_start, len(result))\n"
     ]
    },
    {
     "name": "stdout",
     "output_type": "stream",
     "text": [
      "Requirement failed 😢\n",
      "Num problematic departments: 5\n",
      "Num good departments: 36\n",
      "avg diff: 0.367565410929704\n"
     ]
    }
   ],
   "source": [
    "is_satisfied, problematic_departments, good_deparments, global_precisions  = verify_no_discrimination(\n",
    "    X_test, y_test, preds2)\n",
    "\n",
    "if not is_satisfied:\n",
    "    print(\"Requirement failed 😢\")\n",
    "    print(\"Num problematic departments: {}\".format(len(problematic_departments)))\n",
    "    print(\"Num good departments: {}\".format(len(good_deparments)))\n",
    "else:\n",
    "    print(\"Requirement satisfied! 🚀\")\n",
    "\n",
    "print(\"avg diff:\", np.mean([p[1] for p in problematic_departments]))"
   ]
  },
  {
   "cell_type": "code",
   "execution_count": 118,
   "metadata": {
    "ExecuteTime": {
     "end_time": "2021-01-31T12:43:27.131612Z",
     "start_time": "2021-01-31T12:43:26.040826Z"
    }
   },
   "outputs": [
    {
     "name": "stderr",
     "output_type": "stream",
     "text": [
      "C:\\Users\\ZukiPC\\anaconda3\\lib\\site-packages\\sklearn\\metrics\\_classification.py:1221: UndefinedMetricWarning: Precision is ill-defined and being set to 0.0 due to no predicted samples. Use `zero_division` parameter to control this behavior.\n",
      "  _warn_prf(average, modifier, msg_start, len(result))\n"
     ]
    },
    {
     "name": "stdout",
     "output_type": "stream",
     "text": [
      "Requirement failed 😢\n",
      "Num problematic departments: 2\n",
      "Num good departments: 39\n",
      "avg diff: 0.13578627053203327\n"
     ]
    }
   ],
   "source": [
    "is_satisfied, problematic_departments, good_deparments, global_precisions  = verify_no_discrimination(\n",
    "    X_test, y_test, preds2, sensitive_column='Gender')\n",
    "\n",
    "if not is_satisfied:\n",
    "    print(\"Requirement failed 😢\")\n",
    "    print(\"Num problematic departments: {}\".format(len(problematic_departments)))\n",
    "    print(\"Num good departments: {}\".format(len(good_deparments)))\n",
    "else:\n",
    "    print(\"Requirement satisfied! 🚀\")\n",
    "\n",
    "print(\"avg diff:\", np.mean([p[1] for p in problematic_departments]))"
   ]
  },
  {
   "cell_type": "code",
   "execution_count": 109,
   "metadata": {
    "ExecuteTime": {
     "end_time": "2021-01-31T12:35:41.649454Z",
     "start_time": "2021-01-31T12:35:38.942272Z"
    }
   },
   "outputs": [
    {
     "name": "stderr",
     "output_type": "stream",
     "text": [
      "C:\\Users\\ZukiPC\\anaconda3\\lib\\site-packages\\sklearn\\metrics\\_classification.py:1221: UndefinedMetricWarning: Precision is ill-defined and being set to 0.0 due to no predicted samples. Use `zero_division` parameter to control this behavior.\n",
      "  _warn_prf(average, modifier, msg_start, len(result))\n"
     ]
    },
    {
     "name": "stdout",
     "output_type": "stream",
     "text": [
      "Requirement failed 😢\n",
      "Num problematic departments: 7\n",
      "Num good departments: 34\n",
      "avg diff: 0.3924828918246974\n"
     ]
    }
   ],
   "source": [
    "is_satisfied, problematic_departments, good_deparments, global_precisions  = verify_no_discrimination(\n",
    "    X_test, y_test, preds2, sensitive_column='Age range')\n",
    "\n",
    "if not is_satisfied:\n",
    "    print(\"Requirement failed 😢\")\n",
    "    print(\"Num problematic departments: {}\".format(len(problematic_departments)))\n",
    "    print(\"Num good departments: {}\".format(len(good_deparments)))\n",
    "else:\n",
    "    print(\"Requirement satisfied! 🚀\")\n",
    "\n",
    "print(\"avg diff:\", np.mean([p[1] for p in problematic_departments]))"
   ]
  },
  {
   "cell_type": "code",
   "execution_count": null,
   "metadata": {},
   "outputs": [],
   "source": []
  }
 ],
 "metadata": {
  "kernelspec": {
   "display_name": "Python 3",
   "language": "python",
   "name": "python3"
  },
  "language_info": {
   "codemirror_mode": {
    "name": "ipython",
    "version": 3
   },
   "file_extension": ".py",
   "mimetype": "text/x-python",
   "name": "python",
   "nbconvert_exporter": "python",
   "pygments_lexer": "ipython3",
   "version": "3.7.6"
  },
  "toc": {
   "base_numbering": 1,
   "nav_menu": {},
   "number_sections": true,
   "sideBar": true,
   "skip_h1_title": false,
   "title_cell": "Table of Contents",
   "title_sidebar": "Contents",
   "toc_cell": false,
   "toc_position": {},
   "toc_section_display": true,
   "toc_window_display": false
  },
  "varInspector": {
   "cols": {
    "lenName": 16,
    "lenType": 16,
    "lenVar": 40
   },
   "kernels_config": {
    "python": {
     "delete_cmd_postfix": "",
     "delete_cmd_prefix": "del ",
     "library": "var_list.py",
     "varRefreshCmd": "print(var_dic_list())"
    },
    "r": {
     "delete_cmd_postfix": ") ",
     "delete_cmd_prefix": "rm(",
     "library": "var_list.r",
     "varRefreshCmd": "cat(var_dic_list()) "
    }
   },
   "types_to_exclude": [
    "module",
    "function",
    "builtin_function_or_method",
    "instance",
    "_Feature"
   ],
   "window_display": false
  }
 },
 "nbformat": 4,
 "nbformat_minor": 4
}
