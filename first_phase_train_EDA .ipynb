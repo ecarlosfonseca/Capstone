{
 "cells": [
  {
   "cell_type": "code",
   "execution_count": 1,
   "metadata": {
    "ExecuteTime": {
     "end_time": "2021-02-06T14:26:06.374864Z",
     "start_time": "2021-02-06T14:26:05.262401Z"
    }
   },
   "outputs": [
    {
     "name": "stderr",
     "output_type": "stream",
     "text": [
      "In C:\\Users\\ZukiPC\\anaconda3\\lib\\site-packages\\matplotlib\\mpl-data\\stylelib\\_classic_test.mplstyle: \n",
      "The text.latex.preview rcparam was deprecated in Matplotlib 3.3 and will be removed two minor releases later.\n",
      "In C:\\Users\\ZukiPC\\anaconda3\\lib\\site-packages\\matplotlib\\mpl-data\\stylelib\\_classic_test.mplstyle: \n",
      "The mathtext.fallback_to_cm rcparam was deprecated in Matplotlib 3.3 and will be removed two minor releases later.\n",
      "In C:\\Users\\ZukiPC\\anaconda3\\lib\\site-packages\\matplotlib\\mpl-data\\stylelib\\_classic_test.mplstyle: Support for setting the 'mathtext.fallback_to_cm' rcParam is deprecated since 3.3 and will be removed two minor releases later; use 'mathtext.fallback : 'cm' instead.\n",
      "In C:\\Users\\ZukiPC\\anaconda3\\lib\\site-packages\\matplotlib\\mpl-data\\stylelib\\_classic_test.mplstyle: \n",
      "The validate_bool_maybe_none function was deprecated in Matplotlib 3.3 and will be removed two minor releases later.\n",
      "In C:\\Users\\ZukiPC\\anaconda3\\lib\\site-packages\\matplotlib\\mpl-data\\stylelib\\_classic_test.mplstyle: \n",
      "The savefig.jpeg_quality rcparam was deprecated in Matplotlib 3.3 and will be removed two minor releases later.\n",
      "In C:\\Users\\ZukiPC\\anaconda3\\lib\\site-packages\\matplotlib\\mpl-data\\stylelib\\_classic_test.mplstyle: \n",
      "The keymap.all_axes rcparam was deprecated in Matplotlib 3.3 and will be removed two minor releases later.\n",
      "In C:\\Users\\ZukiPC\\anaconda3\\lib\\site-packages\\matplotlib\\mpl-data\\stylelib\\_classic_test.mplstyle: \n",
      "The animation.avconv_path rcparam was deprecated in Matplotlib 3.3 and will be removed two minor releases later.\n",
      "In C:\\Users\\ZukiPC\\anaconda3\\lib\\site-packages\\matplotlib\\mpl-data\\stylelib\\_classic_test.mplstyle: \n",
      "The animation.avconv_args rcparam was deprecated in Matplotlib 3.3 and will be removed two minor releases later.\n"
     ]
    }
   ],
   "source": [
    "import pandas as pd\n",
    "import matplotlib.pyplot as plt\n",
    "import numpy as np"
   ]
  },
  {
   "cell_type": "code",
   "execution_count": 2,
   "metadata": {
    "ExecuteTime": {
     "end_time": "2021-02-06T14:26:10.618724Z",
     "start_time": "2021-02-06T14:26:06.408846Z"
    }
   },
   "outputs": [],
   "source": [
    "train = pd.read_csv('train.csv')"
   ]
  },
  {
   "cell_type": "code",
   "execution_count": 3,
   "metadata": {
    "ExecuteTime": {
     "end_time": "2021-02-04T18:12:37.726354Z",
     "start_time": "2021-02-04T18:12:37.714363Z"
    }
   },
   "outputs": [
    {
     "data": {
      "text/plain": [
       "(660611, 16)"
      ]
     },
     "execution_count": 3,
     "metadata": {},
     "output_type": "execute_result"
    }
   ],
   "source": [
    "train.shape"
   ]
  },
  {
   "cell_type": "code",
   "execution_count": 4,
   "metadata": {
    "ExecuteTime": {
     "end_time": "2021-02-04T18:12:37.881285Z",
     "start_time": "2021-02-04T18:12:37.759336Z"
    }
   },
   "outputs": [
    {
     "data": {
      "text/html": [
       "<div>\n",
       "<style scoped>\n",
       "    .dataframe tbody tr th:only-of-type {\n",
       "        vertical-align: middle;\n",
       "    }\n",
       "\n",
       "    .dataframe tbody tr th {\n",
       "        vertical-align: top;\n",
       "    }\n",
       "\n",
       "    .dataframe thead th {\n",
       "        text-align: right;\n",
       "    }\n",
       "</style>\n",
       "<table border=\"1\" class=\"dataframe\">\n",
       "  <thead>\n",
       "    <tr style=\"text-align: right;\">\n",
       "      <th></th>\n",
       "      <th>observation_id</th>\n",
       "      <th>Type</th>\n",
       "      <th>Date</th>\n",
       "      <th>Part of a policing operation</th>\n",
       "      <th>Latitude</th>\n",
       "      <th>Longitude</th>\n",
       "      <th>Gender</th>\n",
       "      <th>Age range</th>\n",
       "      <th>Self-defined ethnicity</th>\n",
       "      <th>Officer-defined ethnicity</th>\n",
       "      <th>Legislation</th>\n",
       "      <th>Object of search</th>\n",
       "      <th>Outcome</th>\n",
       "      <th>Outcome linked to object of search</th>\n",
       "      <th>Removal of more than just outer clothing</th>\n",
       "      <th>station</th>\n",
       "    </tr>\n",
       "  </thead>\n",
       "  <tbody>\n",
       "    <tr>\n",
       "      <th>0</th>\n",
       "      <td>34d76816-cfc2-4bdd-b3a2-bf0c40b12689</td>\n",
       "      <td>Person search</td>\n",
       "      <td>2019-12-01T00:00:00+00:00</td>\n",
       "      <td>True</td>\n",
       "      <td>NaN</td>\n",
       "      <td>NaN</td>\n",
       "      <td>Male</td>\n",
       "      <td>18-24</td>\n",
       "      <td>Asian/Asian British - Any other Asian background</td>\n",
       "      <td>Asian</td>\n",
       "      <td>Misuse of Drugs Act 1971 (section 23)</td>\n",
       "      <td>Controlled drugs</td>\n",
       "      <td>A no further action disposal</td>\n",
       "      <td>NaN</td>\n",
       "      <td>False</td>\n",
       "      <td>devon-and-cornwall</td>\n",
       "    </tr>\n",
       "    <tr>\n",
       "      <th>1</th>\n",
       "      <td>83c87ec1-e6d4-4bbb-8e0c-159516706359</td>\n",
       "      <td>Person search</td>\n",
       "      <td>2019-12-01T00:09:00+00:00</td>\n",
       "      <td>True</td>\n",
       "      <td>NaN</td>\n",
       "      <td>NaN</td>\n",
       "      <td>Male</td>\n",
       "      <td>18-24</td>\n",
       "      <td>NaN</td>\n",
       "      <td>White</td>\n",
       "      <td>Misuse of Drugs Act 1971 (section 23)</td>\n",
       "      <td>Controlled drugs</td>\n",
       "      <td>A no further action disposal</td>\n",
       "      <td>NaN</td>\n",
       "      <td>False</td>\n",
       "      <td>devon-and-cornwall</td>\n",
       "    </tr>\n",
       "    <tr>\n",
       "      <th>2</th>\n",
       "      <td>8c2eae4b-035a-492f-92d6-cd27e6c900a1</td>\n",
       "      <td>Person search</td>\n",
       "      <td>2019-12-01T00:10:00+00:00</td>\n",
       "      <td>True</td>\n",
       "      <td>NaN</td>\n",
       "      <td>NaN</td>\n",
       "      <td>Female</td>\n",
       "      <td>18-24</td>\n",
       "      <td>White - English/Welsh/Scottish/Northern Irish/...</td>\n",
       "      <td>White</td>\n",
       "      <td>Misuse of Drugs Act 1971 (section 23)</td>\n",
       "      <td>Controlled drugs</td>\n",
       "      <td>A no further action disposal</td>\n",
       "      <td>NaN</td>\n",
       "      <td>False</td>\n",
       "      <td>devon-and-cornwall</td>\n",
       "    </tr>\n",
       "    <tr>\n",
       "      <th>3</th>\n",
       "      <td>e63a036a-a728-4efe-8e08-7198f56d6d0a</td>\n",
       "      <td>Person search</td>\n",
       "      <td>2019-12-01T00:10:00+00:00</td>\n",
       "      <td>False</td>\n",
       "      <td>NaN</td>\n",
       "      <td>NaN</td>\n",
       "      <td>Male</td>\n",
       "      <td>18-24</td>\n",
       "      <td>NaN</td>\n",
       "      <td>Asian</td>\n",
       "      <td>Misuse of Drugs Act 1971 (section 23)</td>\n",
       "      <td>Controlled drugs</td>\n",
       "      <td>A no further action disposal</td>\n",
       "      <td>NaN</td>\n",
       "      <td>False</td>\n",
       "      <td>devon-and-cornwall</td>\n",
       "    </tr>\n",
       "    <tr>\n",
       "      <th>4</th>\n",
       "      <td>40c70aca-1f7f-4efe-8c5b-ade0f2e9937d</td>\n",
       "      <td>Person search</td>\n",
       "      <td>2019-12-01T00:12:00+00:00</td>\n",
       "      <td>True</td>\n",
       "      <td>50.368247</td>\n",
       "      <td>-4.126646</td>\n",
       "      <td>Male</td>\n",
       "      <td>18-24</td>\n",
       "      <td>NaN</td>\n",
       "      <td>White</td>\n",
       "      <td>Misuse of Drugs Act 1971 (section 23)</td>\n",
       "      <td>Controlled drugs</td>\n",
       "      <td>A no further action disposal</td>\n",
       "      <td>NaN</td>\n",
       "      <td>False</td>\n",
       "      <td>devon-and-cornwall</td>\n",
       "    </tr>\n",
       "  </tbody>\n",
       "</table>\n",
       "</div>"
      ],
      "text/plain": [
       "                         observation_id           Type  \\\n",
       "0  34d76816-cfc2-4bdd-b3a2-bf0c40b12689  Person search   \n",
       "1  83c87ec1-e6d4-4bbb-8e0c-159516706359  Person search   \n",
       "2  8c2eae4b-035a-492f-92d6-cd27e6c900a1  Person search   \n",
       "3  e63a036a-a728-4efe-8e08-7198f56d6d0a  Person search   \n",
       "4  40c70aca-1f7f-4efe-8c5b-ade0f2e9937d  Person search   \n",
       "\n",
       "                        Date Part of a policing operation   Latitude  \\\n",
       "0  2019-12-01T00:00:00+00:00                         True        NaN   \n",
       "1  2019-12-01T00:09:00+00:00                         True        NaN   \n",
       "2  2019-12-01T00:10:00+00:00                         True        NaN   \n",
       "3  2019-12-01T00:10:00+00:00                        False        NaN   \n",
       "4  2019-12-01T00:12:00+00:00                         True  50.368247   \n",
       "\n",
       "   Longitude  Gender Age range  \\\n",
       "0        NaN    Male     18-24   \n",
       "1        NaN    Male     18-24   \n",
       "2        NaN  Female     18-24   \n",
       "3        NaN    Male     18-24   \n",
       "4  -4.126646    Male     18-24   \n",
       "\n",
       "                              Self-defined ethnicity  \\\n",
       "0   Asian/Asian British - Any other Asian background   \n",
       "1                                                NaN   \n",
       "2  White - English/Welsh/Scottish/Northern Irish/...   \n",
       "3                                                NaN   \n",
       "4                                                NaN   \n",
       "\n",
       "  Officer-defined ethnicity                            Legislation  \\\n",
       "0                     Asian  Misuse of Drugs Act 1971 (section 23)   \n",
       "1                     White  Misuse of Drugs Act 1971 (section 23)   \n",
       "2                     White  Misuse of Drugs Act 1971 (section 23)   \n",
       "3                     Asian  Misuse of Drugs Act 1971 (section 23)   \n",
       "4                     White  Misuse of Drugs Act 1971 (section 23)   \n",
       "\n",
       "   Object of search                       Outcome  \\\n",
       "0  Controlled drugs  A no further action disposal   \n",
       "1  Controlled drugs  A no further action disposal   \n",
       "2  Controlled drugs  A no further action disposal   \n",
       "3  Controlled drugs  A no further action disposal   \n",
       "4  Controlled drugs  A no further action disposal   \n",
       "\n",
       "  Outcome linked to object of search Removal of more than just outer clothing  \\\n",
       "0                                NaN                                    False   \n",
       "1                                NaN                                    False   \n",
       "2                                NaN                                    False   \n",
       "3                                NaN                                    False   \n",
       "4                                NaN                                    False   \n",
       "\n",
       "              station  \n",
       "0  devon-and-cornwall  \n",
       "1  devon-and-cornwall  \n",
       "2  devon-and-cornwall  \n",
       "3  devon-and-cornwall  \n",
       "4  devon-and-cornwall  "
      ]
     },
     "execution_count": 4,
     "metadata": {},
     "output_type": "execute_result"
    }
   ],
   "source": [
    "train.head()"
   ]
  },
  {
   "cell_type": "code",
   "execution_count": 5,
   "metadata": {
    "ExecuteTime": {
     "end_time": "2021-02-04T18:12:37.960241Z",
     "start_time": "2021-02-04T18:12:37.919244Z"
    }
   },
   "outputs": [],
   "source": [
    "def prep_train(df):\n",
    "    \n",
    "    df_ =  df.copy()\n",
    "    \n",
    "    df_.Date = pd.to_datetime(df_.Date, infer_datetime_format=True)\n",
    "    df_['Year'] = df_.Date.dt.year\n",
    "    df_['Month'] = df_.Date.dt.month\n",
    "    df_['Hour'] = df_.Date.dt.hour\n",
    "    df_['Day_of_week'] = df_.Date.dt.day_name()\n",
    "    df_['Week'] = df_.Date.dt.week\n",
    "    \n",
    "    return df_"
   ]
  },
  {
   "cell_type": "code",
   "execution_count": 6,
   "metadata": {
    "ExecuteTime": {
     "end_time": "2021-02-04T18:12:39.764766Z",
     "start_time": "2021-02-04T18:12:37.996201Z"
    }
   },
   "outputs": [
    {
     "name": "stderr",
     "output_type": "stream",
     "text": [
      "C:\\Users\\ZukiPC\\anaconda3\\lib\\site-packages\\ipykernel_launcher.py:10: FutureWarning: Series.dt.weekofyear and Series.dt.week have been deprecated.  Please use Series.dt.isocalendar().week instead.\n",
      "  # Remove the CWD from sys.path while we load stuff.\n"
     ]
    }
   ],
   "source": [
    "train = prep_train(train)"
   ]
  },
  {
   "cell_type": "code",
   "execution_count": 7,
   "metadata": {
    "ExecuteTime": {
     "end_time": "2021-02-04T18:12:40.465168Z",
     "start_time": "2021-02-04T18:12:40.453155Z"
    }
   },
   "outputs": [],
   "source": [
    "def analyse_df(data):\n",
    "    \n",
    "    analysis_dict = {'variables': list(data.columns.values),\n",
    "                 'count': list(data.count().values),\n",
    "                 'v_types': list(data.dtypes.values),\n",
    "                 'n_null': list(data.isnull().sum().values),\n",
    "                 'n_uniques': list(data.nunique().values)}\n",
    "    \n",
    "    analysis = pd.DataFrame(analysis_dict)\n",
    "    \n",
    "    return analysis"
   ]
  },
  {
   "cell_type": "code",
   "execution_count": 8,
   "metadata": {
    "ExecuteTime": {
     "end_time": "2021-02-04T18:12:43.107465Z",
     "start_time": "2021-02-04T18:12:40.957864Z"
    }
   },
   "outputs": [
    {
     "data": {
      "text/html": [
       "<div>\n",
       "<style scoped>\n",
       "    .dataframe tbody tr th:only-of-type {\n",
       "        vertical-align: middle;\n",
       "    }\n",
       "\n",
       "    .dataframe tbody tr th {\n",
       "        vertical-align: top;\n",
       "    }\n",
       "\n",
       "    .dataframe thead th {\n",
       "        text-align: right;\n",
       "    }\n",
       "</style>\n",
       "<table border=\"1\" class=\"dataframe\">\n",
       "  <thead>\n",
       "    <tr style=\"text-align: right;\">\n",
       "      <th></th>\n",
       "      <th>variables</th>\n",
       "      <th>count</th>\n",
       "      <th>v_types</th>\n",
       "      <th>n_null</th>\n",
       "      <th>n_uniques</th>\n",
       "    </tr>\n",
       "  </thead>\n",
       "  <tbody>\n",
       "    <tr>\n",
       "      <th>0</th>\n",
       "      <td>observation_id</td>\n",
       "      <td>660611</td>\n",
       "      <td>object</td>\n",
       "      <td>0</td>\n",
       "      <td>660611</td>\n",
       "    </tr>\n",
       "    <tr>\n",
       "      <th>1</th>\n",
       "      <td>Type</td>\n",
       "      <td>660611</td>\n",
       "      <td>object</td>\n",
       "      <td>0</td>\n",
       "      <td>3</td>\n",
       "    </tr>\n",
       "    <tr>\n",
       "      <th>2</th>\n",
       "      <td>Date</td>\n",
       "      <td>660611</td>\n",
       "      <td>datetime64[ns, UTC]</td>\n",
       "      <td>0</td>\n",
       "      <td>339759</td>\n",
       "    </tr>\n",
       "    <tr>\n",
       "      <th>3</th>\n",
       "      <td>Part of a policing operation</td>\n",
       "      <td>507047</td>\n",
       "      <td>object</td>\n",
       "      <td>153564</td>\n",
       "      <td>2</td>\n",
       "    </tr>\n",
       "    <tr>\n",
       "      <th>4</th>\n",
       "      <td>Latitude</td>\n",
       "      <td>548295</td>\n",
       "      <td>float64</td>\n",
       "      <td>112316</td>\n",
       "      <td>103638</td>\n",
       "    </tr>\n",
       "    <tr>\n",
       "      <th>5</th>\n",
       "      <td>Longitude</td>\n",
       "      <td>548295</td>\n",
       "      <td>float64</td>\n",
       "      <td>112316</td>\n",
       "      <td>105045</td>\n",
       "    </tr>\n",
       "    <tr>\n",
       "      <th>6</th>\n",
       "      <td>Gender</td>\n",
       "      <td>660611</td>\n",
       "      <td>object</td>\n",
       "      <td>0</td>\n",
       "      <td>3</td>\n",
       "    </tr>\n",
       "    <tr>\n",
       "      <th>7</th>\n",
       "      <td>Age range</td>\n",
       "      <td>660611</td>\n",
       "      <td>object</td>\n",
       "      <td>0</td>\n",
       "      <td>5</td>\n",
       "    </tr>\n",
       "    <tr>\n",
       "      <th>8</th>\n",
       "      <td>Self-defined ethnicity</td>\n",
       "      <td>655037</td>\n",
       "      <td>object</td>\n",
       "      <td>5574</td>\n",
       "      <td>19</td>\n",
       "    </tr>\n",
       "    <tr>\n",
       "      <th>9</th>\n",
       "      <td>Officer-defined ethnicity</td>\n",
       "      <td>660611</td>\n",
       "      <td>object</td>\n",
       "      <td>0</td>\n",
       "      <td>5</td>\n",
       "    </tr>\n",
       "    <tr>\n",
       "      <th>10</th>\n",
       "      <td>Legislation</td>\n",
       "      <td>632671</td>\n",
       "      <td>object</td>\n",
       "      <td>27940</td>\n",
       "      <td>17</td>\n",
       "    </tr>\n",
       "    <tr>\n",
       "      <th>11</th>\n",
       "      <td>Object of search</td>\n",
       "      <td>660611</td>\n",
       "      <td>object</td>\n",
       "      <td>0</td>\n",
       "      <td>16</td>\n",
       "    </tr>\n",
       "    <tr>\n",
       "      <th>12</th>\n",
       "      <td>Outcome</td>\n",
       "      <td>660611</td>\n",
       "      <td>object</td>\n",
       "      <td>0</td>\n",
       "      <td>16</td>\n",
       "    </tr>\n",
       "    <tr>\n",
       "      <th>13</th>\n",
       "      <td>Outcome linked to object of search</td>\n",
       "      <td>187511</td>\n",
       "      <td>object</td>\n",
       "      <td>473100</td>\n",
       "      <td>2</td>\n",
       "    </tr>\n",
       "    <tr>\n",
       "      <th>14</th>\n",
       "      <td>Removal of more than just outer clothing</td>\n",
       "      <td>234062</td>\n",
       "      <td>object</td>\n",
       "      <td>426549</td>\n",
       "      <td>2</td>\n",
       "    </tr>\n",
       "    <tr>\n",
       "      <th>15</th>\n",
       "      <td>station</td>\n",
       "      <td>660611</td>\n",
       "      <td>object</td>\n",
       "      <td>0</td>\n",
       "      <td>42</td>\n",
       "    </tr>\n",
       "    <tr>\n",
       "      <th>16</th>\n",
       "      <td>Year</td>\n",
       "      <td>660611</td>\n",
       "      <td>int64</td>\n",
       "      <td>0</td>\n",
       "      <td>3</td>\n",
       "    </tr>\n",
       "    <tr>\n",
       "      <th>17</th>\n",
       "      <td>Month</td>\n",
       "      <td>660611</td>\n",
       "      <td>int64</td>\n",
       "      <td>0</td>\n",
       "      <td>12</td>\n",
       "    </tr>\n",
       "    <tr>\n",
       "      <th>18</th>\n",
       "      <td>Hour</td>\n",
       "      <td>660611</td>\n",
       "      <td>int64</td>\n",
       "      <td>0</td>\n",
       "      <td>24</td>\n",
       "    </tr>\n",
       "    <tr>\n",
       "      <th>19</th>\n",
       "      <td>Day_of_week</td>\n",
       "      <td>660611</td>\n",
       "      <td>object</td>\n",
       "      <td>0</td>\n",
       "      <td>7</td>\n",
       "    </tr>\n",
       "    <tr>\n",
       "      <th>20</th>\n",
       "      <td>Week</td>\n",
       "      <td>660611</td>\n",
       "      <td>int64</td>\n",
       "      <td>0</td>\n",
       "      <td>52</td>\n",
       "    </tr>\n",
       "  </tbody>\n",
       "</table>\n",
       "</div>"
      ],
      "text/plain": [
       "                                   variables   count              v_types  \\\n",
       "0                             observation_id  660611               object   \n",
       "1                                       Type  660611               object   \n",
       "2                                       Date  660611  datetime64[ns, UTC]   \n",
       "3               Part of a policing operation  507047               object   \n",
       "4                                   Latitude  548295              float64   \n",
       "5                                  Longitude  548295              float64   \n",
       "6                                     Gender  660611               object   \n",
       "7                                  Age range  660611               object   \n",
       "8                     Self-defined ethnicity  655037               object   \n",
       "9                  Officer-defined ethnicity  660611               object   \n",
       "10                               Legislation  632671               object   \n",
       "11                          Object of search  660611               object   \n",
       "12                                   Outcome  660611               object   \n",
       "13        Outcome linked to object of search  187511               object   \n",
       "14  Removal of more than just outer clothing  234062               object   \n",
       "15                                   station  660611               object   \n",
       "16                                      Year  660611                int64   \n",
       "17                                     Month  660611                int64   \n",
       "18                                      Hour  660611                int64   \n",
       "19                               Day_of_week  660611               object   \n",
       "20                                      Week  660611                int64   \n",
       "\n",
       "    n_null  n_uniques  \n",
       "0        0     660611  \n",
       "1        0          3  \n",
       "2        0     339759  \n",
       "3   153564          2  \n",
       "4   112316     103638  \n",
       "5   112316     105045  \n",
       "6        0          3  \n",
       "7        0          5  \n",
       "8     5574         19  \n",
       "9        0          5  \n",
       "10   27940         17  \n",
       "11       0         16  \n",
       "12       0         16  \n",
       "13  473100          2  \n",
       "14  426549          2  \n",
       "15       0         42  \n",
       "16       0          3  \n",
       "17       0         12  \n",
       "18       0         24  \n",
       "19       0          7  \n",
       "20       0         52  "
      ]
     },
     "execution_count": 8,
     "metadata": {},
     "output_type": "execute_result"
    }
   ],
   "source": [
    "analyse_df(train)"
   ]
  },
  {
   "cell_type": "code",
   "execution_count": 9,
   "metadata": {
    "ExecuteTime": {
     "end_time": "2021-02-04T18:12:43.757590Z",
     "start_time": "2021-02-04T18:12:43.491742Z"
    }
   },
   "outputs": [
    {
     "data": {
      "text/plain": [
       "660611"
      ]
     },
     "execution_count": 9,
     "metadata": {},
     "output_type": "execute_result"
    }
   ],
   "source": [
    "train.observation_id.nunique()"
   ]
  },
  {
   "cell_type": "markdown",
   "metadata": {},
   "source": [
    "# Type"
   ]
  },
  {
   "cell_type": "code",
   "execution_count": 10,
   "metadata": {
    "ExecuteTime": {
     "end_time": "2021-02-04T18:12:44.272295Z",
     "start_time": "2021-02-04T18:12:44.120383Z"
    },
    "scrolled": true
   },
   "outputs": [
    {
     "data": {
      "text/plain": [
       "Person search                503503\n",
       "Person and Vehicle search    156156\n",
       "Vehicle search                  952\n",
       "Name: Type, dtype: int64"
      ]
     },
     "execution_count": 10,
     "metadata": {},
     "output_type": "execute_result"
    }
   ],
   "source": [
    "train.Type.value_counts()"
   ]
  },
  {
   "cell_type": "code",
   "execution_count": 11,
   "metadata": {
    "ExecuteTime": {
     "end_time": "2021-02-04T18:12:46.459394Z",
     "start_time": "2021-02-04T18:12:44.680060Z"
    }
   },
   "outputs": [
    {
     "data": {
      "text/plain": [
       "<AxesSubplot:>"
      ]
     },
     "execution_count": 11,
     "metadata": {},
     "output_type": "execute_result"
    },
    {
     "data": {
      "image/png": "[encoded data removed]",
      "text/plain": [
       "<Figure size 432x288 with 1 Axes>"
      ]
     },
     "metadata": {
      "needs_background": "light"
     },
     "output_type": "display_data"
    }
   ],
   "source": [
    "train.Type.value_counts().plot(kind='bar')"
   ]
  },
  {
   "cell_type": "markdown",
   "metadata": {
    "ExecuteTime": {
     "end_time": "2021-01-21T15:48:54.795033Z",
     "start_time": "2021-01-21T15:48:54.786019Z"
    }
   },
   "source": [
    "# Date and created time features"
   ]
  },
  {
   "cell_type": "code",
   "execution_count": 12,
   "metadata": {
    "ExecuteTime": {
     "end_time": "2021-02-04T18:12:47.038043Z",
     "start_time": "2021-02-04T18:12:46.843155Z"
    }
   },
   "outputs": [
    {
     "data": {
      "text/plain": [
       "<AxesSubplot:>"
      ]
     },
     "execution_count": 12,
     "metadata": {},
     "output_type": "execute_result"
    },
    {
     "data": {
      "image/png": "[encoded data removed]",
      "text/plain": [
       "<Figure size 432x288 with 1 Axes>"
      ]
     },
     "metadata": {
      "needs_background": "light"
     },
     "output_type": "display_data"
    }
   ],
   "source": [
    "train.Year.value_counts().plot(kind='bar')"
   ]
  },
  {
   "cell_type": "code",
   "execution_count": 13,
   "metadata": {
    "ExecuteTime": {
     "end_time": "2021-02-04T18:12:47.718654Z",
     "start_time": "2021-02-04T18:12:47.438812Z"
    }
   },
   "outputs": [
    {
     "data": {
      "text/plain": [
       "<AxesSubplot:>"
      ]
     },
     "execution_count": 13,
     "metadata": {},
     "output_type": "execute_result"
    },
    {
     "data": {
      "image/png": "[encoded data removed]",
      "text/plain": [
       "<Figure size 432x288 with 1 Axes>"
      ]
     },
     "metadata": {
      "needs_background": "light"
     },
     "output_type": "display_data"
    }
   ],
   "source": [
    "train.Month.value_counts().plot(kind='barh')"
   ]
  },
  {
   "cell_type": "code",
   "execution_count": 14,
   "metadata": {
    "ExecuteTime": {
     "end_time": "2021-02-04T18:12:49.263684Z",
     "start_time": "2021-02-04T18:12:48.116424Z"
    }
   },
   "outputs": [
    {
     "data": {
      "text/plain": [
       "<AxesSubplot:xlabel='Year,Month'>"
      ]
     },
     "execution_count": 14,
     "metadata": {},
     "output_type": "execute_result"
    },
    {
     "data": {
      "image/png": "[encoded data removed]",
      "text/plain": [
       "<Figure size 432x288 with 1 Axes>"
      ]
     },
     "metadata": {
      "needs_background": "light"
     },
     "output_type": "display_data"
    }
   ],
   "source": [
    "train.groupby(['Year', 'Month']).count()['observation_id'].plot()"
   ]
  },
  {
   "cell_type": "markdown",
   "metadata": {},
   "source": [
    "# Part of a policing operation"
   ]
  },
  {
   "cell_type": "markdown",
   "metadata": {},
   "source": [
    "1/4 of values missing, 153.564"
   ]
  },
  {
   "cell_type": "code",
   "execution_count": 15,
   "metadata": {
    "ExecuteTime": {
     "end_time": "2021-02-04T18:12:49.909294Z",
     "start_time": "2021-02-04T18:12:49.674428Z"
    }
   },
   "outputs": [
    {
     "data": {
      "text/plain": [
       "<AxesSubplot:>"
      ]
     },
     "execution_count": 15,
     "metadata": {},
     "output_type": "execute_result"
    },
    {
     "data": {
      "image/png": "[encoded data removed]",
      "text/plain": [
       "<Figure size 432x288 with 1 Axes>"
      ]
     },
     "metadata": {
      "needs_background": "light"
     },
     "output_type": "display_data"
    }
   ],
   "source": [
    "train['Part of a policing operation'].value_counts().plot(kind='bar')"
   ]
  },
  {
   "cell_type": "markdown",
   "metadata": {},
   "source": [
    "# Gender"
   ]
  },
  {
   "cell_type": "code",
   "execution_count": 16,
   "metadata": {
    "ExecuteTime": {
     "end_time": "2021-02-04T18:12:50.401011Z",
     "start_time": "2021-02-04T18:12:50.294073Z"
    }
   },
   "outputs": [
    {
     "data": {
      "text/plain": [
       "Male      605422\n",
       "Female     54812\n",
       "Other        377\n",
       "Name: Gender, dtype: int64"
      ]
     },
     "execution_count": 16,
     "metadata": {},
     "output_type": "execute_result"
    }
   ],
   "source": [
    "train.Gender.value_counts()"
   ]
  },
  {
   "cell_type": "code",
   "execution_count": 17,
   "metadata": {
    "ExecuteTime": {
     "end_time": "2021-02-04T18:12:50.813775Z",
     "start_time": "2021-02-04T18:12:50.800783Z"
    }
   },
   "outputs": [
    {
     "data": {
      "text/plain": [
       "0.9164576430001923"
      ]
     },
     "execution_count": 17,
     "metadata": {},
     "output_type": "execute_result"
    }
   ],
   "source": [
    "605422/(605422+54812+377)"
   ]
  },
  {
   "cell_type": "code",
   "execution_count": 18,
   "metadata": {
    "ExecuteTime": {
     "end_time": "2021-02-04T18:12:51.328481Z",
     "start_time": "2021-02-04T18:12:51.317487Z"
    }
   },
   "outputs": [
    {
     "data": {
      "text/plain": [
       "0.08297167319345272"
      ]
     },
     "execution_count": 18,
     "metadata": {},
     "output_type": "execute_result"
    }
   ],
   "source": [
    "54812/(605422+54812+377)"
   ]
  },
  {
   "cell_type": "code",
   "execution_count": 19,
   "metadata": {
    "ExecuteTime": {
     "end_time": "2021-02-04T18:12:52.101038Z",
     "start_time": "2021-02-04T18:12:51.788217Z"
    },
    "scrolled": false
   },
   "outputs": [
    {
     "data": {
      "text/plain": [
       "<AxesSubplot:>"
      ]
     },
     "execution_count": 19,
     "metadata": {},
     "output_type": "execute_result"
    },
    {
     "data": {
      "image/png": "[encoded data removed]",
      "text/plain": [
       "<Figure size 432x288 with 1 Axes>"
      ]
     },
     "metadata": {
      "needs_background": "light"
     },
     "output_type": "display_data"
    }
   ],
   "source": [
    "train.Gender.value_counts().plot(kind='bar')"
   ]
  },
  {
   "cell_type": "code",
   "execution_count": 20,
   "metadata": {
    "ExecuteTime": {
     "end_time": "2021-02-04T18:12:53.333352Z",
     "start_time": "2021-02-04T18:12:52.486817Z"
    }
   },
   "outputs": [
    {
     "data": {
      "text/html": [
       "<div>\n",
       "<style scoped>\n",
       "    .dataframe tbody tr th:only-of-type {\n",
       "        vertical-align: middle;\n",
       "    }\n",
       "\n",
       "    .dataframe tbody tr th {\n",
       "        vertical-align: top;\n",
       "    }\n",
       "\n",
       "    .dataframe thead th {\n",
       "        text-align: right;\n",
       "    }\n",
       "</style>\n",
       "<table border=\"1\" class=\"dataframe\">\n",
       "  <thead>\n",
       "    <tr style=\"text-align: right;\">\n",
       "      <th>Gender</th>\n",
       "      <th>Officer-defined ethnicity</th>\n",
       "      <th>Female</th>\n",
       "      <th>Male</th>\n",
       "      <th>Other</th>\n",
       "    </tr>\n",
       "  </thead>\n",
       "  <tbody>\n",
       "    <tr>\n",
       "      <th>0</th>\n",
       "      <td>Asian</td>\n",
       "      <td>2728</td>\n",
       "      <td>83256</td>\n",
       "      <td>51</td>\n",
       "    </tr>\n",
       "    <tr>\n",
       "      <th>1</th>\n",
       "      <td>Black</td>\n",
       "      <td>8281</td>\n",
       "      <td>166258</td>\n",
       "      <td>54</td>\n",
       "    </tr>\n",
       "    <tr>\n",
       "      <th>2</th>\n",
       "      <td>Mixed</td>\n",
       "      <td>177</td>\n",
       "      <td>1652</td>\n",
       "      <td>1</td>\n",
       "    </tr>\n",
       "    <tr>\n",
       "      <th>3</th>\n",
       "      <td>Other</td>\n",
       "      <td>847</td>\n",
       "      <td>18976</td>\n",
       "      <td>19</td>\n",
       "    </tr>\n",
       "    <tr>\n",
       "      <th>4</th>\n",
       "      <td>White</td>\n",
       "      <td>42779</td>\n",
       "      <td>335280</td>\n",
       "      <td>252</td>\n",
       "    </tr>\n",
       "  </tbody>\n",
       "</table>\n",
       "</div>"
      ],
      "text/plain": [
       "Gender Officer-defined ethnicity  Female    Male  Other\n",
       "0                          Asian    2728   83256     51\n",
       "1                          Black    8281  166258     54\n",
       "2                          Mixed     177    1652      1\n",
       "3                          Other     847   18976     19\n",
       "4                          White   42779  335280    252"
      ]
     },
     "execution_count": 20,
     "metadata": {},
     "output_type": "execute_result"
    }
   ],
   "source": [
    "a = train.groupby(['Officer-defined ethnicity', 'Gender']).count()['observation_id'].unstack().reset_index()\n",
    "a.head()"
   ]
  },
  {
   "cell_type": "code",
   "execution_count": 21,
   "metadata": {
    "ExecuteTime": {
     "end_time": "2021-02-04T18:12:53.984959Z",
     "start_time": "2021-02-04T18:12:53.732105Z"
    }
   },
   "outputs": [
    {
     "data": {
      "image/png": "[encoded data removed]",
      "text/plain": [
       "<Figure size 432x288 with 1 Axes>"
      ]
     },
     "metadata": {
      "needs_background": "light"
     },
     "output_type": "display_data"
    }
   ],
   "source": [
    "p1 = plt.bar(a['Officer-defined ethnicity'], a.Male)\n",
    "p2 = plt.bar(a['Officer-defined ethnicity'], a.Female, bottom=a.Male)\n",
    "\n",
    "plt.ylabel('Count')\n",
    "plt.title('Count by gender and race')\n",
    "plt.xticks(a['Officer-defined ethnicity'])\n",
    "plt.legend((p1[0], p2[0]), ('Men', 'Women'))\n",
    "\n",
    "plt.show()"
   ]
  },
  {
   "cell_type": "markdown",
   "metadata": {},
   "source": [
    "# Age range"
   ]
  },
  {
   "cell_type": "code",
   "execution_count": 22,
   "metadata": {
    "ExecuteTime": {
     "end_time": "2021-02-04T18:12:54.486672Z",
     "start_time": "2021-02-04T18:12:54.380732Z"
    },
    "scrolled": true
   },
   "outputs": [
    {
     "data": {
      "text/plain": [
       "18-24       241905\n",
       "25-34       158181\n",
       "10-17       131763\n",
       "over 34     128378\n",
       "under 10       384\n",
       "Name: Age range, dtype: int64"
      ]
     },
     "execution_count": 22,
     "metadata": {},
     "output_type": "execute_result"
    }
   ],
   "source": [
    "train['Age range'].value_counts()"
   ]
  },
  {
   "cell_type": "code",
   "execution_count": 23,
   "metadata": {
    "ExecuteTime": {
     "end_time": "2021-02-04T18:12:55.021364Z",
     "start_time": "2021-02-04T18:12:54.883443Z"
    }
   },
   "outputs": [],
   "source": [
    "a = train['Age range'].value_counts().reset_index()"
   ]
  },
  {
   "cell_type": "code",
   "execution_count": 24,
   "metadata": {
    "ExecuteTime": {
     "end_time": "2021-02-04T18:12:55.449141Z",
     "start_time": "2021-02-04T18:12:55.428131Z"
    }
   },
   "outputs": [
    {
     "data": {
      "text/html": [
       "<div>\n",
       "<style scoped>\n",
       "    .dataframe tbody tr th:only-of-type {\n",
       "        vertical-align: middle;\n",
       "    }\n",
       "\n",
       "    .dataframe tbody tr th {\n",
       "        vertical-align: top;\n",
       "    }\n",
       "\n",
       "    .dataframe thead th {\n",
       "        text-align: right;\n",
       "    }\n",
       "</style>\n",
       "<table border=\"1\" class=\"dataframe\">\n",
       "  <thead>\n",
       "    <tr style=\"text-align: right;\">\n",
       "      <th></th>\n",
       "      <th>index</th>\n",
       "      <th>Age range</th>\n",
       "      <th>Percentange</th>\n",
       "    </tr>\n",
       "  </thead>\n",
       "  <tbody>\n",
       "    <tr>\n",
       "      <th>0</th>\n",
       "      <td>18-24</td>\n",
       "      <td>241905</td>\n",
       "      <td>36.618373</td>\n",
       "    </tr>\n",
       "    <tr>\n",
       "      <th>1</th>\n",
       "      <td>25-34</td>\n",
       "      <td>158181</td>\n",
       "      <td>23.944651</td>\n",
       "    </tr>\n",
       "    <tr>\n",
       "      <th>2</th>\n",
       "      <td>10-17</td>\n",
       "      <td>131763</td>\n",
       "      <td>19.945626</td>\n",
       "    </tr>\n",
       "    <tr>\n",
       "      <th>3</th>\n",
       "      <td>over 34</td>\n",
       "      <td>128378</td>\n",
       "      <td>19.433222</td>\n",
       "    </tr>\n",
       "    <tr>\n",
       "      <th>4</th>\n",
       "      <td>under 10</td>\n",
       "      <td>384</td>\n",
       "      <td>0.058128</td>\n",
       "    </tr>\n",
       "  </tbody>\n",
       "</table>\n",
       "</div>"
      ],
      "text/plain": [
       "      index  Age range  Percentange\n",
       "0     18-24     241905    36.618373\n",
       "1     25-34     158181    23.944651\n",
       "2     10-17     131763    19.945626\n",
       "3   over 34     128378    19.433222\n",
       "4  under 10        384     0.058128"
      ]
     },
     "execution_count": 24,
     "metadata": {},
     "output_type": "execute_result"
    }
   ],
   "source": [
    "a['Percentange'] = a['Age range'].apply(lambda x: x*100/660611)\n",
    "a.head()"
   ]
  },
  {
   "cell_type": "code",
   "execution_count": 25,
   "metadata": {
    "ExecuteTime": {
     "end_time": "2021-02-04T18:12:57.035230Z",
     "start_time": "2021-02-04T18:12:55.865880Z"
    }
   },
   "outputs": [
    {
     "data": {
      "text/plain": [
       "<AxesSubplot:ylabel='Age range'>"
      ]
     },
     "execution_count": 25,
     "metadata": {},
     "output_type": "execute_result"
    },
    {
     "data": {
      "image/png": "[encoded data removed]",
      "text/plain": [
       "<Figure size 432x432 with 1 Axes>"
      ]
     },
     "metadata": {},
     "output_type": "display_data"
    }
   ],
   "source": [
    "train['Age range'].value_counts().plot(kind='pie', figsize=(6, 6))"
   ]
  },
  {
   "cell_type": "markdown",
   "metadata": {},
   "source": [
    "# Self-defined ethnicity"
   ]
  },
  {
   "cell_type": "code",
   "execution_count": 26,
   "metadata": {
    "ExecuteTime": {
     "end_time": "2021-02-04T18:12:57.555932Z",
     "start_time": "2021-02-04T18:12:57.431983Z"
    }
   },
   "outputs": [
    {
     "data": {
      "text/plain": [
       "White - English/Welsh/Scottish/Northern Irish/British                                   272053\n",
       "Other ethnic group - Not stated                                                          86421\n",
       "White - Any other White background                                                       57875\n",
       "Black/African/Caribbean/Black British - Any other Black/African/Caribbean background     54036\n",
       "Black/African/Caribbean/Black British - African                                          43297\n",
       "Black/African/Caribbean/Black British - Caribbean                                        31315\n",
       "Asian/Asian British - Any other Asian background                                         29169\n",
       "Asian/Asian British - Bangladeshi                                                        17083\n",
       "Asian/Asian British - Pakistani                                                          15720\n",
       "Other ethnic group - Any other ethnic group                                              11276\n",
       "Mixed/Multiple ethnic groups - Any other Mixed/Multiple ethnic background                 9601\n",
       "Asian/Asian British - Indian                                                              8191\n",
       "Mixed/Multiple ethnic groups - White and Black Caribbean                                  7701\n",
       "White - Irish                                                                             5059\n",
       "Mixed/Multiple ethnic groups - White and Black African                                    2442\n",
       "Mixed/Multiple ethnic groups - White and Asian                                            2025\n",
       "Asian/Asian British - Chinese                                                              929\n",
       "White - Gypsy or Irish Traveller                                                           755\n",
       "Other ethnic group - Arab                                                                   89\n",
       "Name: Self-defined ethnicity, dtype: int64"
      ]
     },
     "execution_count": 26,
     "metadata": {},
     "output_type": "execute_result"
    }
   ],
   "source": [
    "train['Self-defined ethnicity'].value_counts()"
   ]
  },
  {
   "cell_type": "code",
   "execution_count": 27,
   "metadata": {
    "ExecuteTime": {
     "end_time": "2021-02-04T18:12:58.546345Z",
     "start_time": "2021-02-04T18:12:57.995660Z"
    }
   },
   "outputs": [
    {
     "data": {
      "text/plain": [
       "<AxesSubplot:>"
      ]
     },
     "execution_count": 27,
     "metadata": {},
     "output_type": "execute_result"
    },
    {
     "data": {
      "image/png": "[encoded data removed]",
      "text/plain": [
       "<Figure size 864x432 with 1 Axes>"
      ]
     },
     "metadata": {
      "needs_background": "light"
     },
     "output_type": "display_data"
    }
   ],
   "source": [
    "train['Self-defined ethnicity'].value_counts().plot(kind='barh', figsize=(12,6))"
   ]
  },
  {
   "cell_type": "markdown",
   "metadata": {},
   "source": [
    "# Officer-defined ethnicity"
   ]
  },
  {
   "cell_type": "code",
   "execution_count": 28,
   "metadata": {
    "ExecuteTime": {
     "end_time": "2021-02-04T18:12:59.052054Z",
     "start_time": "2021-02-04T18:12:58.961108Z"
    },
    "scrolled": true
   },
   "outputs": [
    {
     "data": {
      "text/plain": [
       "White    378311\n",
       "Black    174593\n",
       "Asian     86035\n",
       "Other     19842\n",
       "Mixed      1830\n",
       "Name: Officer-defined ethnicity, dtype: int64"
      ]
     },
     "execution_count": 28,
     "metadata": {},
     "output_type": "execute_result"
    }
   ],
   "source": [
    "train['Officer-defined ethnicity'].value_counts()"
   ]
  },
  {
   "cell_type": "code",
   "execution_count": 29,
   "metadata": {
    "ExecuteTime": {
     "end_time": "2021-02-04T18:12:59.461819Z",
     "start_time": "2021-02-04T18:12:59.448827Z"
    }
   },
   "outputs": [
    {
     "name": "stdout",
     "output_type": "stream",
     "text": [
      "White:  0.5726683328009978\n",
      "Black:  0.26429017984865527\n",
      "Asian:  0.13023549411075505\n",
      "Other:  0.03003583046603826\n",
      "Mixed:  0.0027701627735535737\n"
     ]
    }
   ],
   "source": [
    "print('White: ', 378311/(378311+174593+86035+19842+1830))\n",
    "print('Black: ', 174593/(378311+174593+86035+19842+1830))\n",
    "print('Asian: ', 86035/(378311+174593+86035+19842+1830))\n",
    "print('Other: ', 19842/(378311+174593+86035+19842+1830))\n",
    "print('Mixed: ', 1830/(378311+174593+86035+19842+1830))"
   ]
  },
  {
   "cell_type": "markdown",
   "metadata": {
    "ExecuteTime": {
     "end_time": "2021-01-18T19:27:39.200006Z",
     "start_time": "2021-01-18T19:27:39.189992Z"
    }
   },
   "source": [
    "# Legislation"
   ]
  },
  {
   "cell_type": "code",
   "execution_count": 30,
   "metadata": {
    "ExecuteTime": {
     "end_time": "2021-02-04T18:12:59.987539Z",
     "start_time": "2021-02-04T18:12:59.864589Z"
    }
   },
   "outputs": [
    {
     "data": {
      "text/plain": [
       "Misuse of Drugs Act 1971 (section 23)                      385307\n",
       "Police and Criminal Evidence Act 1984 (section 1)          224682\n",
       "Criminal Justice and Public Order Act 1994 (section 60)     17259\n",
       "Firearms Act 1968 (section 47)                               4352\n",
       "Criminal Justice Act 1988 (section 139B)                      746\n",
       "Poaching Prevention Act 1862 (section 2)                      152\n",
       "Psychoactive Substances Act 2016 (s36(2))                      90\n",
       "Wildlife and Countryside Act 1981 (section 19)                 31\n",
       "Police and Criminal Evidence Act 1984 (section 6)              15\n",
       "Aviation Security Act 1982 (section 27(1))                     11\n",
       "Customs and Excise Management Act 1979 (section 163)           10\n",
       "Crossbows Act 1987 (section 4)                                  5\n",
       "Protection of Badgers Act 1992 (section 11)                     4\n",
       "Psychoactive Substances Act 2016 (s37(2))                       4\n",
       "Conservation of Seals Act 1970 (section 4)                      1\n",
       "Public Stores Act 1875 (section 6)                              1\n",
       "Deer Act 1991 (section 12)                                      1\n",
       "Name: Legislation, dtype: int64"
      ]
     },
     "execution_count": 30,
     "metadata": {},
     "output_type": "execute_result"
    }
   ],
   "source": [
    "train.Legislation.value_counts()"
   ]
  },
  {
   "cell_type": "code",
   "execution_count": 31,
   "metadata": {
    "ExecuteTime": {
     "end_time": "2021-02-04T18:13:00.902994Z",
     "start_time": "2021-02-04T18:13:00.400282Z"
    }
   },
   "outputs": [
    {
     "data": {
      "text/plain": [
       "<AxesSubplot:>"
      ]
     },
     "execution_count": 31,
     "metadata": {},
     "output_type": "execute_result"
    },
    {
     "data": {
      "image/png": "[encoded data removed]",
      "text/plain": [
       "<Figure size 864x432 with 1 Axes>"
      ]
     },
     "metadata": {
      "needs_background": "light"
     },
     "output_type": "display_data"
    }
   ],
   "source": [
    "train.Legislation.value_counts().plot(kind='barh', figsize=(12, 6))"
   ]
  },
  {
   "cell_type": "markdown",
   "metadata": {},
   "source": [
    "# Object of Search"
   ]
  },
  {
   "cell_type": "code",
   "execution_count": 32,
   "metadata": {
    "ExecuteTime": {
     "end_time": "2021-02-04T18:13:01.423994Z",
     "start_time": "2021-02-04T18:13:01.301766Z"
    }
   },
   "outputs": [
    {
     "data": {
      "text/plain": [
       "Controlled drugs                              398873\n",
       "Offensive weapons                             102107\n",
       "Stolen goods                                   67636\n",
       "Article for use in theft                       30836\n",
       "Evidence of offences under the Act             19911\n",
       "Anything to threaten or harm anyone            19762\n",
       "Articles for use in criminal damage            11060\n",
       "Firearms                                        5479\n",
       "Fireworks                                       2948\n",
       "Psychoactive substances                         1701\n",
       "Detailed object of search unavailable            129\n",
       "Game or poaching equipment                       102\n",
       "Evidence of wildlife offences                     25\n",
       "Goods on which duty has not been paid etc.        23\n",
       "Crossbows                                         17\n",
       "Seals or hunting equipment                         2\n",
       "Name: Object of search, dtype: int64"
      ]
     },
     "execution_count": 32,
     "metadata": {},
     "output_type": "execute_result"
    }
   ],
   "source": [
    "train['Object of search'].value_counts()"
   ]
  },
  {
   "cell_type": "code",
   "execution_count": 33,
   "metadata": {
    "ExecuteTime": {
     "end_time": "2021-02-04T18:13:02.283525Z",
     "start_time": "2021-02-04T18:13:01.826766Z"
    }
   },
   "outputs": [
    {
     "data": {
      "text/plain": [
       "<AxesSubplot:>"
      ]
     },
     "execution_count": 33,
     "metadata": {},
     "output_type": "execute_result"
    },
    {
     "data": {
      "image/png": "[encoded data removed]",
      "text/plain": [
       "<Figure size 864x432 with 1 Axes>"
      ]
     },
     "metadata": {
      "needs_background": "light"
     },
     "output_type": "display_data"
    }
   ],
   "source": [
    "train['Object of search'].value_counts().plot(kind='barh', figsize=(12,6))"
   ]
  },
  {
   "cell_type": "markdown",
   "metadata": {
    "ExecuteTime": {
     "end_time": "2021-01-18T19:29:55.136623Z",
     "start_time": "2021-01-18T19:29:55.118613Z"
    }
   },
   "source": [
    "# Outcome"
   ]
  },
  {
   "cell_type": "code",
   "execution_count": 34,
   "metadata": {
    "ExecuteTime": {
     "end_time": "2021-02-04T18:13:02.785467Z",
     "start_time": "2021-02-04T18:13:02.679547Z"
    }
   },
   "outputs": [
    {
     "data": {
      "text/plain": [
       "A no further action disposal                                    455342\n",
       "Arrest                                                           94118\n",
       "Community resolution                                             41311\n",
       "Khat or Cannabis warning                                         17173\n",
       "Nothing found - no further action                                16188\n",
       "Summons / charged by post                                        12232\n",
       "Penalty Notice for Disorder                                      11214\n",
       "Suspect arrested                                                  4649\n",
       "Caution (simple or conditional)                                   3179\n",
       "Offender given drugs possession warning                           2102\n",
       "Local resolution                                                  1333\n",
       "Suspect summonsed to court                                         636\n",
       "Article found - Detailed outcome unavailable                       524\n",
       "Offender given penalty notice                                      414\n",
       "Offender cautioned                                                 189\n",
       "Suspected psychoactive substances seized - No further action         7\n",
       "Name: Outcome, dtype: int64"
      ]
     },
     "execution_count": 34,
     "metadata": {},
     "output_type": "execute_result"
    }
   ],
   "source": [
    "train.Outcome.value_counts()"
   ]
  },
  {
   "cell_type": "code",
   "execution_count": 35,
   "metadata": {
    "ExecuteTime": {
     "end_time": "2021-02-04T18:13:03.285344Z",
     "start_time": "2021-02-04T18:13:03.197398Z"
    }
   },
   "outputs": [
    {
     "data": {
      "text/plain": [
       "16"
      ]
     },
     "execution_count": 35,
     "metadata": {},
     "output_type": "execute_result"
    }
   ],
   "source": [
    "len(train.Outcome.unique())"
   ]
  },
  {
   "cell_type": "code",
   "execution_count": 36,
   "metadata": {
    "ExecuteTime": {
     "end_time": "2021-02-04T18:13:04.057569Z",
     "start_time": "2021-02-04T18:13:03.679623Z"
    }
   },
   "outputs": [
    {
     "data": {
      "text/plain": [
       "<AxesSubplot:>"
      ]
     },
     "execution_count": 36,
     "metadata": {},
     "output_type": "execute_result"
    },
    {
     "data": {
      "image/png": "[encoded data removed]",
      "text/plain": [
       "<Figure size 864x432 with 1 Axes>"
      ]
     },
     "metadata": {
      "needs_background": "light"
     },
     "output_type": "display_data"
    }
   ],
   "source": [
    "train.Outcome.value_counts().plot(kind='barh', figsize=(12,6))"
   ]
  },
  {
   "cell_type": "markdown",
   "metadata": {},
   "source": [
    "# Outcome linked to object of search"
   ]
  },
  {
   "cell_type": "code",
   "execution_count": 37,
   "metadata": {
    "ExecuteTime": {
     "end_time": "2021-02-04T18:13:04.515815Z",
     "start_time": "2021-02-04T18:13:04.439775Z"
    }
   },
   "outputs": [
    {
     "data": {
      "text/plain": [
       "True     100273\n",
       "False     87238\n",
       "Name: Outcome linked to object of search, dtype: int64"
      ]
     },
     "execution_count": 37,
     "metadata": {},
     "output_type": "execute_result"
    }
   ],
   "source": [
    "train['Outcome linked to object of search'].value_counts()"
   ]
  },
  {
   "cell_type": "code",
   "execution_count": 38,
   "metadata": {
    "ExecuteTime": {
     "end_time": "2021-02-04T18:13:05.162811Z",
     "start_time": "2021-02-04T18:13:04.949545Z"
    }
   },
   "outputs": [
    {
     "data": {
      "text/plain": [
       "<AxesSubplot:>"
      ]
     },
     "execution_count": 38,
     "metadata": {},
     "output_type": "execute_result"
    },
    {
     "data": {
      "image/png": "[encoded data removed]",
      "text/plain": [
       "<Figure size 432x288 with 1 Axes>"
      ]
     },
     "metadata": {
      "needs_background": "light"
     },
     "output_type": "display_data"
    }
   ],
   "source": [
    "train['Outcome linked to object of search'].value_counts().plot(kind='bar')"
   ]
  },
  {
   "cell_type": "markdown",
   "metadata": {},
   "source": [
    "# Removal of more than just outer clothing"
   ]
  },
  {
   "cell_type": "markdown",
   "metadata": {},
   "source": [
    "60% of missing values, 426.549"
   ]
  },
  {
   "cell_type": "code",
   "execution_count": 39,
   "metadata": {
    "ExecuteTime": {
     "end_time": "2021-02-04T18:13:05.796124Z",
     "start_time": "2021-02-04T18:13:05.547570Z"
    }
   },
   "outputs": [
    {
     "data": {
      "text/plain": [
       "False    50\n",
       "True      1\n",
       "Name: Removal of more than just outer clothing, dtype: int64"
      ]
     },
     "execution_count": 39,
     "metadata": {},
     "output_type": "execute_result"
    }
   ],
   "source": [
    "train[train.Type=='Vehicle search']['Removal of more than just outer clothing'].value_counts()"
   ]
  },
  {
   "cell_type": "code",
   "execution_count": 40,
   "metadata": {
    "ExecuteTime": {
     "end_time": "2021-02-04T18:13:06.265839Z",
     "start_time": "2021-02-04T18:13:06.189412Z"
    },
    "scrolled": true
   },
   "outputs": [
    {
     "data": {
      "text/plain": [
       "False    223397\n",
       "True      10665\n",
       "Name: Removal of more than just outer clothing, dtype: int64"
      ]
     },
     "execution_count": 40,
     "metadata": {},
     "output_type": "execute_result"
    }
   ],
   "source": [
    "train['Removal of more than just outer clothing'].value_counts()"
   ]
  },
  {
   "cell_type": "code",
   "execution_count": 41,
   "metadata": {
    "ExecuteTime": {
     "end_time": "2021-02-04T18:13:06.892076Z",
     "start_time": "2021-02-04T18:13:06.676278Z"
    }
   },
   "outputs": [
    {
     "data": {
      "text/plain": [
       "<AxesSubplot:ylabel='Removal of more than just outer clothing'>"
      ]
     },
     "execution_count": 41,
     "metadata": {},
     "output_type": "execute_result"
    },
    {
     "data": {
      "image/png": "[encoded data removed]",
      "text/plain": [
       "<Figure size 432x288 with 1 Axes>"
      ]
     },
     "metadata": {},
     "output_type": "display_data"
    }
   ],
   "source": [
    "train['Removal of more than just outer clothing'].value_counts().plot(kind='pie')"
   ]
  },
  {
   "cell_type": "code",
   "execution_count": 42,
   "metadata": {
    "ExecuteTime": {
     "end_time": "2021-02-04T18:13:07.491718Z",
     "start_time": "2021-02-04T18:13:07.291953Z"
    }
   },
   "outputs": [
    {
     "data": {
      "text/plain": [
       "<AxesSubplot:>"
      ]
     },
     "execution_count": 42,
     "metadata": {},
     "output_type": "execute_result"
    },
    {
     "data": {
      "image/png": "[encoded data removed]",
      "text/plain": [
       "<Figure size 432x288 with 1 Axes>"
      ]
     },
     "metadata": {
      "needs_background": "light"
     },
     "output_type": "display_data"
    }
   ],
   "source": [
    "train[train['Removal of more than just outer clothing']==True]['Part of a policing operation'].value_counts().plot(kind='bar')"
   ]
  },
  {
   "cell_type": "code",
   "execution_count": 43,
   "metadata": {
    "ExecuteTime": {
     "end_time": "2021-02-04T18:13:07.728890Z",
     "start_time": "2021-02-04T18:13:07.495714Z"
    }
   },
   "outputs": [
    {
     "data": {
      "text/plain": [
       "<AxesSubplot:>"
      ]
     },
     "execution_count": 43,
     "metadata": {},
     "output_type": "execute_result"
    },
    {
     "data": {
      "image/png": "[encoded data removed]",
      "text/plain": [
       "<Figure size 432x288 with 1 Axes>"
      ]
     },
     "metadata": {
      "needs_background": "light"
     },
     "output_type": "display_data"
    }
   ],
   "source": [
    "train[train['Removal of more than just outer clothing']==True].Type.value_counts().plot(kind='bar')"
   ]
  },
  {
   "cell_type": "code",
   "execution_count": 44,
   "metadata": {
    "ExecuteTime": {
     "end_time": "2021-02-04T18:13:08.873061Z",
     "start_time": "2021-02-04T18:13:08.544278Z"
    }
   },
   "outputs": [
    {
     "data": {
      "text/plain": [
       "<AxesSubplot:>"
      ]
     },
     "execution_count": 44,
     "metadata": {},
     "output_type": "execute_result"
    },
    {
     "data": {
      "image/png": "[encoded data removed]",
      "text/plain": [
       "<Figure size 432x288 with 1 Axes>"
      ]
     },
     "metadata": {
      "needs_background": "light"
     },
     "output_type": "display_data"
    }
   ],
   "source": [
    "train[train['Removal of more than just outer clothing']==True].Outcome.value_counts().plot(kind='barh')"
   ]
  },
  {
   "cell_type": "code",
   "execution_count": 45,
   "metadata": {
    "ExecuteTime": {
     "end_time": "2021-02-04T18:13:09.731948Z",
     "start_time": "2021-02-04T18:13:09.256336Z"
    }
   },
   "outputs": [
    {
     "data": {
      "text/plain": [
       "<AxesSubplot:>"
      ]
     },
     "execution_count": 45,
     "metadata": {},
     "output_type": "execute_result"
    },
    {
     "data": {
      "image/png": "[encoded data removed]",
      "text/plain": [
       "<Figure size 432x864 with 1 Axes>"
      ]
     },
     "metadata": {
      "needs_background": "light"
     },
     "output_type": "display_data"
    }
   ],
   "source": [
    "train[train['Removal of more than just outer clothing']==True].station.value_counts().plot(kind='barh', figsize=(6,12))"
   ]
  },
  {
   "cell_type": "markdown",
   "metadata": {},
   "source": [
    "## by gender"
   ]
  },
  {
   "cell_type": "code",
   "execution_count": 46,
   "metadata": {
    "ExecuteTime": {
     "end_time": "2021-02-04T18:13:10.187173Z",
     "start_time": "2021-02-04T18:13:10.128190Z"
    }
   },
   "outputs": [
    {
     "data": {
      "text/plain": [
       "Male      9346\n",
       "Female    1307\n",
       "Other       12\n",
       "Name: Gender, dtype: int64"
      ]
     },
     "execution_count": 46,
     "metadata": {},
     "output_type": "execute_result"
    }
   ],
   "source": [
    "train[train['Removal of more than just outer clothing']==True].Gender.value_counts()"
   ]
  },
  {
   "cell_type": "code",
   "execution_count": 47,
   "metadata": {
    "ExecuteTime": {
     "end_time": "2021-02-04T18:13:10.585926Z",
     "start_time": "2021-02-04T18:13:10.572933Z"
    }
   },
   "outputs": [
    {
     "data": {
      "text/plain": [
       "0.1225503984997656"
      ]
     },
     "execution_count": 47,
     "metadata": {},
     "output_type": "execute_result"
    }
   ],
   "source": [
    "1307 / (9346 + 1307 + 12)"
   ]
  },
  {
   "cell_type": "code",
   "execution_count": 48,
   "metadata": {
    "ExecuteTime": {
     "end_time": "2021-02-04T18:13:10.857768Z",
     "start_time": "2021-02-04T18:13:10.590922Z"
    }
   },
   "outputs": [
    {
     "data": {
      "text/plain": [
       "<AxesSubplot:>"
      ]
     },
     "execution_count": 48,
     "metadata": {},
     "output_type": "execute_result"
    },
    {
     "data": {
      "image/png": "[encoded data removed]",
      "text/plain": [
       "<Figure size 432x288 with 1 Axes>"
      ]
     },
     "metadata": {
      "needs_background": "light"
     },
     "output_type": "display_data"
    }
   ],
   "source": [
    "train[train['Removal of more than just outer clothing']==True].Gender.value_counts().plot(kind='bar')"
   ]
  },
  {
   "cell_type": "markdown",
   "metadata": {},
   "source": [
    "## by race"
   ]
  },
  {
   "cell_type": "code",
   "execution_count": 49,
   "metadata": {
    "ExecuteTime": {
     "end_time": "2021-02-04T18:13:11.297053Z",
     "start_time": "2021-02-04T18:13:11.238088Z"
    }
   },
   "outputs": [
    {
     "data": {
      "text/plain": [
       "2019    6162\n",
       "2018    4172\n",
       "2017     331\n",
       "Name: Year, dtype: int64"
      ]
     },
     "execution_count": 49,
     "metadata": {},
     "output_type": "execute_result"
    }
   ],
   "source": [
    "train[train['Removal of more than just outer clothing']==True]['Year'].value_counts()"
   ]
  },
  {
   "cell_type": "code",
   "execution_count": 50,
   "metadata": {
    "ExecuteTime": {
     "end_time": "2021-02-04T18:13:11.436126Z",
     "start_time": "2021-02-04T18:13:11.300052Z"
    },
    "scrolled": true
   },
   "outputs": [
    {
     "data": {
      "text/plain": [
       "White    7056\n",
       "Black    2313\n",
       "Asian     977\n",
       "Other     209\n",
       "Mixed     110\n",
       "Name: Officer-defined ethnicity, dtype: int64"
      ]
     },
     "execution_count": 50,
     "metadata": {},
     "output_type": "execute_result"
    }
   ],
   "source": [
    "train[train['Removal of more than just outer clothing']==True]['Officer-defined ethnicity'].value_counts()"
   ]
  },
  {
   "cell_type": "code",
   "execution_count": 51,
   "metadata": {
    "ExecuteTime": {
     "end_time": "2021-02-04T18:13:11.515045Z",
     "start_time": "2021-02-04T18:13:11.439067Z"
    }
   },
   "outputs": [
    {
     "data": {
      "text/plain": [
       "0.0916080637599625"
      ]
     },
     "execution_count": 51,
     "metadata": {},
     "output_type": "execute_result"
    }
   ],
   "source": [
    "977 / (2313+7056+977+209+110)"
   ]
  },
  {
   "cell_type": "code",
   "execution_count": 52,
   "metadata": {
    "ExecuteTime": {
     "end_time": "2021-02-04T18:13:11.828845Z",
     "start_time": "2021-02-04T18:13:11.518022Z"
    }
   },
   "outputs": [
    {
     "data": {
      "text/plain": [
       "<AxesSubplot:>"
      ]
     },
     "execution_count": 52,
     "metadata": {},
     "output_type": "execute_result"
    },
    {
     "data": {
      "image/png": "[encoded data removed]",
      "text/plain": [
       "<Figure size 432x288 with 1 Axes>"
      ]
     },
     "metadata": {
      "needs_background": "light"
     },
     "output_type": "display_data"
    }
   ],
   "source": [
    "train[train['Removal of more than just outer clothing']==True]['Officer-defined ethnicity'].value_counts().plot(kind='bar')"
   ]
  },
  {
   "cell_type": "code",
   "execution_count": 53,
   "metadata": {
    "ExecuteTime": {
     "end_time": "2021-02-04T18:13:14.667901Z",
     "start_time": "2021-02-04T18:13:13.912626Z"
    }
   },
   "outputs": [
    {
     "data": {
      "text/html": [
       "<div>\n",
       "<style scoped>\n",
       "    .dataframe tbody tr th:only-of-type {\n",
       "        vertical-align: middle;\n",
       "    }\n",
       "\n",
       "    .dataframe tbody tr th {\n",
       "        vertical-align: top;\n",
       "    }\n",
       "\n",
       "    .dataframe thead th {\n",
       "        text-align: right;\n",
       "    }\n",
       "</style>\n",
       "<table border=\"1\" class=\"dataframe\">\n",
       "  <thead>\n",
       "    <tr style=\"text-align: right;\">\n",
       "      <th>Removal of more than just outer clothing</th>\n",
       "      <th>False</th>\n",
       "      <th>True</th>\n",
       "    </tr>\n",
       "    <tr>\n",
       "      <th>Officer-defined ethnicity</th>\n",
       "      <th></th>\n",
       "      <th></th>\n",
       "    </tr>\n",
       "  </thead>\n",
       "  <tbody>\n",
       "    <tr>\n",
       "      <th>Asian</th>\n",
       "      <td>16193</td>\n",
       "      <td>977</td>\n",
       "    </tr>\n",
       "    <tr>\n",
       "      <th>Black</th>\n",
       "      <td>22225</td>\n",
       "      <td>2313</td>\n",
       "    </tr>\n",
       "    <tr>\n",
       "      <th>Mixed</th>\n",
       "      <td>1375</td>\n",
       "      <td>110</td>\n",
       "    </tr>\n",
       "    <tr>\n",
       "      <th>Other</th>\n",
       "      <td>4020</td>\n",
       "      <td>209</td>\n",
       "    </tr>\n",
       "    <tr>\n",
       "      <th>White</th>\n",
       "      <td>179584</td>\n",
       "      <td>7056</td>\n",
       "    </tr>\n",
       "  </tbody>\n",
       "</table>\n",
       "</div>"
      ],
      "text/plain": [
       "Removal of more than just outer clothing   False  True \n",
       "Officer-defined ethnicity                              \n",
       "Asian                                      16193    977\n",
       "Black                                      22225   2313\n",
       "Mixed                                       1375    110\n",
       "Other                                       4020    209\n",
       "White                                     179584   7056"
      ]
     },
     "execution_count": 53,
     "metadata": {},
     "output_type": "execute_result"
    }
   ],
   "source": [
    "train.groupby(['Officer-defined ethnicity', 'Removal of more than just outer clothing']).count()['observation_id'].unstack()"
   ]
  },
  {
   "cell_type": "code",
   "execution_count": 54,
   "metadata": {
    "ExecuteTime": {
     "end_time": "2021-02-04T18:13:15.340448Z",
     "start_time": "2021-02-04T18:13:15.097662Z"
    },
    "scrolled": true
   },
   "outputs": [
    {
     "data": {
      "text/plain": [
       "<AxesSubplot:>"
      ]
     },
     "execution_count": 54,
     "metadata": {},
     "output_type": "execute_result"
    },
    {
     "data": {
      "image/png": "[encoded data removed]",
      "text/plain": [
       "<Figure size 432x288 with 1 Axes>"
      ]
     },
     "metadata": {
      "needs_background": "light"
     },
     "output_type": "display_data"
    }
   ],
   "source": [
    "train[train['Removal of more than just outer clothing']==True].Year.value_counts().plot(kind='line')"
   ]
  },
  {
   "cell_type": "code",
   "execution_count": 55,
   "metadata": {
    "ExecuteTime": {
     "end_time": "2021-02-04T18:13:15.847976Z",
     "start_time": "2021-02-04T18:13:15.714214Z"
    }
   },
   "outputs": [
    {
     "data": {
      "text/html": [
       "<div>\n",
       "<style scoped>\n",
       "    .dataframe tbody tr th:only-of-type {\n",
       "        vertical-align: middle;\n",
       "    }\n",
       "\n",
       "    .dataframe tbody tr th {\n",
       "        vertical-align: top;\n",
       "    }\n",
       "\n",
       "    .dataframe thead th {\n",
       "        text-align: right;\n",
       "    }\n",
       "</style>\n",
       "<table border=\"1\" class=\"dataframe\">\n",
       "  <thead>\n",
       "    <tr style=\"text-align: right;\">\n",
       "      <th>Gender</th>\n",
       "      <th>Year</th>\n",
       "      <th>Female</th>\n",
       "      <th>Male</th>\n",
       "      <th>Other</th>\n",
       "    </tr>\n",
       "  </thead>\n",
       "  <tbody>\n",
       "    <tr>\n",
       "      <th>0</th>\n",
       "      <td>2017</td>\n",
       "      <td>50.0</td>\n",
       "      <td>281.0</td>\n",
       "      <td>NaN</td>\n",
       "    </tr>\n",
       "    <tr>\n",
       "      <th>1</th>\n",
       "      <td>2018</td>\n",
       "      <td>510.0</td>\n",
       "      <td>3652.0</td>\n",
       "      <td>10.0</td>\n",
       "    </tr>\n",
       "    <tr>\n",
       "      <th>2</th>\n",
       "      <td>2019</td>\n",
       "      <td>747.0</td>\n",
       "      <td>5413.0</td>\n",
       "      <td>2.0</td>\n",
       "    </tr>\n",
       "  </tbody>\n",
       "</table>\n",
       "</div>"
      ],
      "text/plain": [
       "Gender  Year  Female    Male  Other\n",
       "0       2017    50.0   281.0    NaN\n",
       "1       2018   510.0  3652.0   10.0\n",
       "2       2019   747.0  5413.0    2.0"
      ]
     },
     "execution_count": 55,
     "metadata": {},
     "output_type": "execute_result"
    }
   ],
   "source": [
    "a = train[train['Removal of more than just outer clothing']==True].groupby(['Year', 'Gender']).count()['observation_id'].unstack().reset_index()\n",
    "a.head()"
   ]
  },
  {
   "cell_type": "markdown",
   "metadata": {},
   "source": [
    "# Station"
   ]
  },
  {
   "cell_type": "code",
   "execution_count": 56,
   "metadata": {
    "ExecuteTime": {
     "end_time": "2021-02-04T18:13:16.355664Z",
     "start_time": "2021-02-04T18:13:16.248726Z"
    },
    "scrolled": true
   },
   "outputs": [
    {
     "data": {
      "text/plain": [
       "metropolitan          351294\n",
       "merseyside             41597\n",
       "essex                  19039\n",
       "thames-valley          17898\n",
       "west-yorkshire         17144\n",
       "hampshire              13963\n",
       "hertfordshire          13328\n",
       "kent                   13309\n",
       "south-yorkshire        13165\n",
       "surrey                 10972\n",
       "avon-and-somerset      10015\n",
       "btp                     9555\n",
       "lancashire              9154\n",
       "west-mercia             7904\n",
       "devon-and-cornwall      7569\n",
       "staffordshire           7318\n",
       "nottinghamshire         7103\n",
       "northumbria             7049\n",
       "sussex                  6941\n",
       "north-wales             5215\n",
       "lincolnshire            5047\n",
       "leicestershire          4980\n",
       "greater-manchester      4851\n",
       "cheshire                4845\n",
       "norfolk                 4779\n",
       "dyfed-powys             4315\n",
       "bedfordshire            4209\n",
       "humberside              3783\n",
       "city-of-london          3575\n",
       "northamptonshire        3526\n",
       "suffolk                 3355\n",
       "warwickshire            3249\n",
       "gloucestershire         2871\n",
       "derbyshire              2852\n",
       "dorset                  2825\n",
       "durham                  2778\n",
       "north-yorkshire         2234\n",
       "cumbria                 2129\n",
       "cleveland               1872\n",
       "wiltshire               1355\n",
       "cambridgeshire           877\n",
       "gwent                    772\n",
       "Name: station, dtype: int64"
      ]
     },
     "execution_count": 56,
     "metadata": {},
     "output_type": "execute_result"
    }
   ],
   "source": [
    "train.station.value_counts()"
   ]
  },
  {
   "cell_type": "code",
   "execution_count": 57,
   "metadata": {
    "ExecuteTime": {
     "end_time": "2021-02-04T18:13:17.152986Z",
     "start_time": "2021-02-04T18:13:16.779421Z"
    },
    "scrolled": true
   },
   "outputs": [
    {
     "data": {
      "text/plain": [
       "<AxesSubplot:>"
      ]
     },
     "execution_count": 57,
     "metadata": {},
     "output_type": "execute_result"
    },
    {
     "data": {
      "image/png": "[encoded data removed]",
      "text/plain": [
       "<Figure size 432x288 with 1 Axes>"
      ]
     },
     "metadata": {
      "needs_background": "light"
     },
     "output_type": "display_data"
    }
   ],
   "source": [
    "train.station.value_counts().head(15).plot(kind='barh')"
   ]
  },
  {
   "cell_type": "markdown",
   "metadata": {},
   "source": [
    "# Pre-model analysis on possible discrimination (General)"
   ]
  },
  {
   "cell_type": "code",
   "execution_count": 202,
   "metadata": {
    "ExecuteTime": {
     "end_time": "2021-01-30T18:48:20.273401Z",
     "start_time": "2021-01-30T18:48:19.802669Z"
    }
   },
   "outputs": [],
   "source": [
    "stations = train.station.unique()\n",
    "general_female_percentage = train[train.Gender=='Female'].shape[0]*100/ train.shape[0]\n",
    "general_other_percentage =  train[train.Gender=='Other'].shape[0]*100/ train.shape[0]\n",
    "general_black_percentage = train[train['Officer-defined ethnicity']=='Black'].shape[0]*100/ train.shape[0]\n",
    "general_asian_percentage = train[train['Officer-defined ethnicity']=='Asian'].shape[0]*100/ train.shape[0]\n",
    "general_mixed_other_percentage = train[train['Officer-defined ethnicity'].isin(['Mixed', 'Other'])].shape[0]*100/ train.shape[0]"
   ]
  },
  {
   "cell_type": "code",
   "execution_count": 203,
   "metadata": {
    "ExecuteTime": {
     "end_time": "2021-01-30T18:48:20.288394Z",
     "start_time": "2021-01-30T18:48:20.276398Z"
    }
   },
   "outputs": [
    {
     "data": {
      "text/plain": [
       "42"
      ]
     },
     "execution_count": 203,
     "metadata": {},
     "output_type": "execute_result"
    }
   ],
   "source": [
    "len(stations)"
   ]
  },
  {
   "cell_type": "code",
   "execution_count": 204,
   "metadata": {
    "ExecuteTime": {
     "end_time": "2021-01-30T18:48:20.411321Z",
     "start_time": "2021-01-30T18:48:20.291388Z"
    }
   },
   "outputs": [
    {
     "data": {
      "text/plain": [
       "['avon-and-somerset',\n",
       " 'bedfordshire',\n",
       " 'btp',\n",
       " 'cambridgeshire',\n",
       " 'cheshire',\n",
       " 'city-of-london',\n",
       " 'cleveland',\n",
       " 'cumbria',\n",
       " 'derbyshire',\n",
       " 'devon-and-cornwall',\n",
       " 'dorset',\n",
       " 'durham',\n",
       " 'dyfed-powys',\n",
       " 'essex',\n",
       " 'gloucestershire',\n",
       " 'greater-manchester',\n",
       " 'gwent',\n",
       " 'hampshire',\n",
       " 'hertfordshire',\n",
       " 'humberside',\n",
       " 'kent',\n",
       " 'lancashire',\n",
       " 'leicestershire',\n",
       " 'lincolnshire',\n",
       " 'merseyside',\n",
       " 'metropolitan',\n",
       " 'norfolk',\n",
       " 'north-wales',\n",
       " 'north-yorkshire',\n",
       " 'northamptonshire',\n",
       " 'northumbria',\n",
       " 'nottinghamshire',\n",
       " 'south-yorkshire',\n",
       " 'staffordshire',\n",
       " 'suffolk',\n",
       " 'surrey',\n",
       " 'sussex',\n",
       " 'thames-valley',\n",
       " 'warwickshire',\n",
       " 'west-mercia',\n",
       " 'west-yorkshire',\n",
       " 'wiltshire']"
      ]
     },
     "execution_count": 204,
     "metadata": {},
     "output_type": "execute_result"
    }
   ],
   "source": [
    "sorted(stations)"
   ]
  },
  {
   "cell_type": "code",
   "execution_count": 205,
   "metadata": {
    "ExecuteTime": {
     "end_time": "2021-01-30T18:48:47.644743Z",
     "start_time": "2021-01-30T18:48:20.414318Z"
    }
   },
   "outputs": [],
   "source": [
    "suspected_fgender_discrimination = []\n",
    "suspected_ogender_discrimination = []\n",
    "suspected_b_et_discrimination=[]\n",
    "suspected_a_et_discrimination=[]\n",
    "suspected_mo_et_discrimination=[]\n",
    "\n",
    "for s in stations:\n",
    "    if train[(train.station==s) & (train.Gender=='Female')].shape[0]* 100/train[train.station==s].shape[0] - general_female_percentage> 10:\n",
    "        suspected_fgender_discrimination.append(s)\n",
    "    if train[(train.station==s) & (train.Gender=='Other')].shape[0] * 100 / train[train.station==s].shape[0] - general_other_percentage> 10:\n",
    "        suspected_ogender_discrimination.append(s)\n",
    "    if train[(train.station==s) & (train['Officer-defined ethnicity']=='Black')].shape[0] * 100 / train[train.station==s].shape[0] - general_black_percentage> 10:\n",
    "        suspected_b_et_discrimination.append(s)\n",
    "    if train[(train.station==s) & (train['Officer-defined ethnicity']=='Asian')].shape[0] * 100  / train[train.station==s].shape[0] - general_asian_percentage > 10:\n",
    "        suspected_a_et_discrimination.append(s)\n",
    "    if train[(train.station==s) & (train['Officer-defined ethnicity'].isin(['Mixed', 'Other']))].shape[0] * 100 / train[train.station==s].shape[0] - general_mixed_other_percentage> 10:\n",
    "        suspected_mo_et_discrimination.append(s)        "
   ]
  },
  {
   "cell_type": "code",
   "execution_count": 206,
   "metadata": {
    "ExecuteTime": {
     "end_time": "2021-01-30T18:48:47.660759Z",
     "start_time": "2021-01-30T18:48:47.647747Z"
    }
   },
   "outputs": [
    {
     "data": {
      "text/plain": [
       "[]"
      ]
     },
     "execution_count": 206,
     "metadata": {},
     "output_type": "execute_result"
    }
   ],
   "source": [
    "suspected_fgender_discrimination"
   ]
  },
  {
   "cell_type": "code",
   "execution_count": 207,
   "metadata": {
    "ExecuteTime": {
     "end_time": "2021-01-30T18:48:47.800678Z",
     "start_time": "2021-01-30T18:48:47.663737Z"
    }
   },
   "outputs": [
    {
     "data": {
      "text/plain": [
       "[]"
      ]
     },
     "execution_count": 207,
     "metadata": {},
     "output_type": "execute_result"
    }
   ],
   "source": [
    "suspected_ogender_discrimination"
   ]
  },
  {
   "cell_type": "code",
   "execution_count": 208,
   "metadata": {
    "ExecuteTime": {
     "end_time": "2021-01-30T18:48:47.878612Z",
     "start_time": "2021-01-30T18:48:47.803656Z"
    }
   },
   "outputs": [
    {
     "data": {
      "text/plain": [
       "['metropolitan']"
      ]
     },
     "execution_count": 208,
     "metadata": {},
     "output_type": "execute_result"
    }
   ],
   "source": [
    "suspected_b_et_discrimination"
   ]
  },
  {
   "cell_type": "code",
   "execution_count": 209,
   "metadata": {
    "ExecuteTime": {
     "end_time": "2021-01-30T18:48:47.972561Z",
     "start_time": "2021-01-30T18:48:47.881610Z"
    }
   },
   "outputs": [
    {
     "data": {
      "text/plain": [
       "['bedfordshire', 'west-yorkshire']"
      ]
     },
     "execution_count": 209,
     "metadata": {},
     "output_type": "execute_result"
    }
   ],
   "source": [
    "suspected_a_et_discrimination"
   ]
  },
  {
   "cell_type": "code",
   "execution_count": 210,
   "metadata": {
    "ExecuteTime": {
     "end_time": "2021-01-30T18:48:48.066508Z",
     "start_time": "2021-01-30T18:48:47.975558Z"
    }
   },
   "outputs": [
    {
     "data": {
      "text/plain": [
       "[]"
      ]
     },
     "execution_count": 210,
     "metadata": {},
     "output_type": "execute_result"
    }
   ],
   "source": [
    "suspected_mo_et_discrimination"
   ]
  },
  {
   "cell_type": "markdown",
   "metadata": {
    "ExecuteTime": {
     "end_time": "2021-01-21T16:01:11.534695Z",
     "start_time": "2021-01-21T16:01:11.517685Z"
    }
   },
   "source": [
    "# Pre-model analysis on possible discrimination by age"
   ]
  },
  {
   "cell_type": "markdown",
   "metadata": {
    "ExecuteTime": {
     "end_time": "2021-01-21T16:08:00.898047Z",
     "start_time": "2021-01-21T16:08:00.893050Z"
    }
   },
   "source": [
    "## '18-24'"
   ]
  },
  {
   "cell_type": "code",
   "execution_count": 211,
   "metadata": {
    "ExecuteTime": {
     "end_time": "2021-01-30T18:49:23.459825Z",
     "start_time": "2021-01-30T18:48:48.069506Z"
    }
   },
   "outputs": [],
   "source": [
    "general_female_percentage = train[(train['Age range']=='18-24') & (train.Gender=='Female')].shape[0]*100/ train.shape[0]\n",
    "general_other_percentage =  train[(train['Age range']=='18-24') & train.Gender=='Other'].shape[0]*100/ train.shape[0]\n",
    "general_black_percentage = train[(train['Age range']=='18-24') & train['Officer-defined ethnicity']=='Black'].shape[0]*100/ train.shape[0]\n",
    "general_asian_percentage = train[(train['Age range']=='18-24') & train['Officer-defined ethnicity']=='Asian'].shape[0]*100/ train.shape[0]\n",
    "general_mixed_other_percentage = train[(train['Age range']=='18-24') & train['Officer-defined ethnicity'].isin(['Mixed', 'Other'])].shape[0]*100/ train.shape[0]\n",
    "\n",
    "suspected_fgender_discrimination = []\n",
    "suspected_ogender_discrimination = []\n",
    "suspected_b_et_discrimination=[]\n",
    "suspected_a_et_discrimination=[]\n",
    "suspected_mo_et_discrimination=[]\n",
    "\n",
    "for s in stations:\n",
    "    if train[(train['Age range']=='18-24') & (train.station==s) & (train.Gender=='Female')].shape[0]* 100/train[train.station==s].shape[0] - general_female_percentage> 10:\n",
    "        suspected_fgender_discrimination.append(s)\n",
    "    if train[(train['Age range']=='18-24') & (train.station==s) & (train.Gender=='Other')].shape[0] * 100 / train[train.station==s].shape[0] - general_other_percentage> 10:\n",
    "        suspected_ogender_discrimination.append(s)\n",
    "    if train[(train['Age range']=='18-24') & (train.station==s) & (train['Officer-defined ethnicity']=='Black')].shape[0] * 100 / train[train.station==s].shape[0] - general_black_percentage> 10:\n",
    "        suspected_b_et_discrimination.append(s)\n",
    "    if train[(train['Age range']=='18-24') & (train.station==s) & (train['Officer-defined ethnicity']=='Asian')].shape[0] * 100  / train[train.station==s].shape[0] - general_asian_percentage > 10:\n",
    "        suspected_a_et_discrimination.append(s)\n",
    "    if train[(train['Age range']=='18-24') & (train.station==s) & (train['Officer-defined ethnicity'].isin(['Mixed', 'Other']))].shape[0] * 100 / train[train.station==s].shape[0] - general_mixed_other_percentage> 10:\n",
    "        suspected_mo_et_discrimination.append(s)        "
   ]
  },
  {
   "cell_type": "code",
   "execution_count": 212,
   "metadata": {
    "ExecuteTime": {
     "end_time": "2021-01-30T18:49:23.491498Z",
     "start_time": "2021-01-30T18:49:23.473512Z"
    }
   },
   "outputs": [
    {
     "data": {
      "text/plain": [
       "[]"
      ]
     },
     "execution_count": 212,
     "metadata": {},
     "output_type": "execute_result"
    }
   ],
   "source": [
    "suspected_fgender_discrimination"
   ]
  },
  {
   "cell_type": "code",
   "execution_count": 213,
   "metadata": {
    "ExecuteTime": {
     "end_time": "2021-01-30T18:49:23.635437Z",
     "start_time": "2021-01-30T18:49:23.504492Z"
    }
   },
   "outputs": [
    {
     "data": {
      "text/plain": [
       "[]"
      ]
     },
     "execution_count": 213,
     "metadata": {},
     "output_type": "execute_result"
    }
   ],
   "source": [
    "suspected_ogender_discrimination"
   ]
  },
  {
   "cell_type": "code",
   "execution_count": 214,
   "metadata": {
    "ExecuteTime": {
     "end_time": "2021-01-30T18:49:23.715370Z",
     "start_time": "2021-01-30T18:49:23.638415Z"
    }
   },
   "outputs": [
    {
     "data": {
      "text/plain": [
       "['metropolitan', 'btp']"
      ]
     },
     "execution_count": 214,
     "metadata": {},
     "output_type": "execute_result"
    }
   ],
   "source": [
    "suspected_b_et_discrimination"
   ]
  },
  {
   "cell_type": "code",
   "execution_count": 215,
   "metadata": {
    "ExecuteTime": {
     "end_time": "2021-01-30T18:49:23.808318Z",
     "start_time": "2021-01-30T18:49:23.719368Z"
    }
   },
   "outputs": [
    {
     "data": {
      "text/plain": [
       "['bedfordshire', 'west-yorkshire']"
      ]
     },
     "execution_count": 215,
     "metadata": {},
     "output_type": "execute_result"
    }
   ],
   "source": [
    "suspected_a_et_discrimination"
   ]
  },
  {
   "cell_type": "code",
   "execution_count": 216,
   "metadata": {
    "ExecuteTime": {
     "end_time": "2021-01-30T18:49:23.917275Z",
     "start_time": "2021-01-30T18:49:23.811315Z"
    }
   },
   "outputs": [
    {
     "data": {
      "text/plain": [
       "[]"
      ]
     },
     "execution_count": 216,
     "metadata": {},
     "output_type": "execute_result"
    }
   ],
   "source": [
    "suspected_mo_et_discrimination"
   ]
  },
  {
   "cell_type": "markdown",
   "metadata": {
    "ExecuteTime": {
     "end_time": "2021-01-21T16:09:46.052528Z",
     "start_time": "2021-01-21T16:09:46.044533Z"
    }
   },
   "source": [
    "## '25-34'"
   ]
  },
  {
   "cell_type": "code",
   "execution_count": 217,
   "metadata": {
    "ExecuteTime": {
     "end_time": "2021-01-30T18:49:58.629662Z",
     "start_time": "2021-01-30T18:49:23.920252Z"
    }
   },
   "outputs": [],
   "source": [
    "general_female_percentage = train[(train['Age range']=='25-34') & (train.Gender=='Female')].shape[0]*100/ train.shape[0]\n",
    "general_other_percentage =  train[(train['Age range']=='25-34') & train.Gender=='Other'].shape[0]*100/ train.shape[0]\n",
    "general_black_percentage = train[(train['Age range']=='25-34') & train['Officer-defined ethnicity']=='Black'].shape[0]*100/ train.shape[0]\n",
    "general_asian_percentage = train[(train['Age range']=='25-34') & train['Officer-defined ethnicity']=='Asian'].shape[0]*100/ train.shape[0]\n",
    "general_mixed_other_percentage = train[(train['Age range']=='25-34') & train['Officer-defined ethnicity'].isin(['Mixed', 'Other'])].shape[0]*100/ train.shape[0]\n",
    "\n",
    "suspected_fgender_discrimination = []\n",
    "suspected_ogender_discrimination = []\n",
    "suspected_b_et_discrimination=[]\n",
    "suspected_a_et_discrimination=[]\n",
    "suspected_mo_et_discrimination=[]\n",
    "\n",
    "for s in stations:\n",
    "    if train[(train['Age range']=='25-34') & (train.station==s) & (train.Gender=='Female')].shape[0]* 100/train[train.station==s].shape[0] - general_female_percentage> 10:\n",
    "        suspected_fgender_discrimination.append(s)\n",
    "    if train[(train['Age range']=='25-34') & (train.station==s) & (train.Gender=='Other')].shape[0] * 100 / train[train.station==s].shape[0] - general_other_percentage> 10:\n",
    "        suspected_ogender_discrimination.append(s)\n",
    "    if train[(train['Age range']=='25-34') & (train.station==s) & (train['Officer-defined ethnicity']=='Black')].shape[0] * 100 / train[train.station==s].shape[0] - general_black_percentage> 10:\n",
    "        suspected_b_et_discrimination.append(s)\n",
    "    if train[(train['Age range']=='25-34') & (train.station==s) & (train['Officer-defined ethnicity']=='Asian')].shape[0] * 100  / train[train.station==s].shape[0] - general_asian_percentage > 10:\n",
    "        suspected_a_et_discrimination.append(s)\n",
    "    if train[(train['Age range']=='25-34') & (train.station==s) & (train['Officer-defined ethnicity'].isin(['Mixed', 'Other']))].shape[0] * 100 / train[train.station==s].shape[0] - general_mixed_other_percentage> 10:\n",
    "        suspected_mo_et_discrimination.append(s)  "
   ]
  },
  {
   "cell_type": "code",
   "execution_count": 218,
   "metadata": {
    "ExecuteTime": {
     "end_time": "2021-01-30T18:49:58.644760Z",
     "start_time": "2021-01-30T18:49:58.629662Z"
    }
   },
   "outputs": [
    {
     "data": {
      "text/plain": [
       "[]"
      ]
     },
     "execution_count": 218,
     "metadata": {},
     "output_type": "execute_result"
    }
   ],
   "source": [
    "suspected_fgender_discrimination"
   ]
  },
  {
   "cell_type": "code",
   "execution_count": 219,
   "metadata": {
    "ExecuteTime": {
     "end_time": "2021-01-30T18:49:58.782665Z",
     "start_time": "2021-01-30T18:49:58.647744Z"
    }
   },
   "outputs": [
    {
     "data": {
      "text/plain": [
       "[]"
      ]
     },
     "execution_count": 219,
     "metadata": {},
     "output_type": "execute_result"
    }
   ],
   "source": [
    "suspected_ogender_discrimination"
   ]
  },
  {
   "cell_type": "code",
   "execution_count": 220,
   "metadata": {
    "ExecuteTime": {
     "end_time": "2021-01-30T18:49:58.877610Z",
     "start_time": "2021-01-30T18:49:58.785664Z"
    }
   },
   "outputs": [
    {
     "data": {
      "text/plain": [
       "[]"
      ]
     },
     "execution_count": 220,
     "metadata": {},
     "output_type": "execute_result"
    }
   ],
   "source": [
    "suspected_b_et_discrimination"
   ]
  },
  {
   "cell_type": "code",
   "execution_count": 221,
   "metadata": {
    "ExecuteTime": {
     "end_time": "2021-01-30T18:49:58.970577Z",
     "start_time": "2021-01-30T18:49:58.881608Z"
    }
   },
   "outputs": [
    {
     "data": {
      "text/plain": [
       "[]"
      ]
     },
     "execution_count": 221,
     "metadata": {},
     "output_type": "execute_result"
    }
   ],
   "source": [
    "suspected_a_et_discrimination"
   ]
  },
  {
   "cell_type": "code",
   "execution_count": 222,
   "metadata": {
    "ExecuteTime": {
     "end_time": "2021-01-30T18:49:59.081513Z",
     "start_time": "2021-01-30T18:49:58.973557Z"
    }
   },
   "outputs": [
    {
     "data": {
      "text/plain": [
       "[]"
      ]
     },
     "execution_count": 222,
     "metadata": {},
     "output_type": "execute_result"
    }
   ],
   "source": [
    "suspected_mo_et_discrimination"
   ]
  },
  {
   "cell_type": "markdown",
   "metadata": {
    "ExecuteTime": {
     "end_time": "2021-01-21T16:18:12.015469Z",
     "start_time": "2021-01-21T16:18:12.005479Z"
    }
   },
   "source": [
    "## '10-17'"
   ]
  },
  {
   "cell_type": "code",
   "execution_count": 223,
   "metadata": {
    "ExecuteTime": {
     "end_time": "2021-01-30T18:50:34.239198Z",
     "start_time": "2021-01-30T18:49:59.084491Z"
    }
   },
   "outputs": [],
   "source": [
    "general_female_percentage = train[(train['Age range']=='10-17') & (train.Gender=='Female')].shape[0]*100/ train.shape[0]\n",
    "general_other_percentage =  train[(train['Age range']=='10-17') & train.Gender=='Other'].shape[0]*100/ train.shape[0]\n",
    "general_black_percentage = train[(train['Age range']=='10-17') & train['Officer-defined ethnicity']=='Black'].shape[0]*100/ train.shape[0]\n",
    "general_asian_percentage = train[(train['Age range']=='10-17') & train['Officer-defined ethnicity']=='Asian'].shape[0]*100/ train.shape[0]\n",
    "general_mixed_other_percentage = train[(train['Age range']=='10-17') & train['Officer-defined ethnicity'].isin(['Mixed', 'Other'])].shape[0]*100/ train.shape[0]\n",
    "\n",
    "suspected_fgender_discrimination = []\n",
    "suspected_ogender_discrimination = []\n",
    "suspected_b_et_discrimination=[]\n",
    "suspected_a_et_discrimination=[]\n",
    "suspected_mo_et_discrimination=[]\n",
    "\n",
    "for s in stations:\n",
    "    if train[(train['Age range']=='10-17') & (train.station==s) & (train.Gender=='Female')].shape[0]* 100/train[train.station==s].shape[0] - general_female_percentage> 10:\n",
    "        suspected_fgender_discrimination.append(s)\n",
    "    if train[(train['Age range']=='10-17') & (train.station==s) & (train.Gender=='Other')].shape[0] * 100 / train[train.station==s].shape[0] - general_other_percentage> 10:\n",
    "        suspected_ogender_discrimination.append(s)\n",
    "    if train[(train['Age range']=='10-17') & (train.station==s) & (train['Officer-defined ethnicity']=='Black')].shape[0] * 100 / train[train.station==s].shape[0] - general_black_percentage> 10:\n",
    "        suspected_b_et_discrimination.append(s)\n",
    "    if train[(train['Age range']=='10-17') & (train.station==s) & (train['Officer-defined ethnicity']=='Asian')].shape[0] * 100  / train[train.station==s].shape[0] - general_asian_percentage > 10:\n",
    "        suspected_a_et_discrimination.append(s)\n",
    "    if train[(train['Age range']=='10-17') & (train.station==s) & (train['Officer-defined ethnicity'].isin(['Mixed', 'Other']))].shape[0] * 100 / train[train.station==s].shape[0] - general_mixed_other_percentage> 10:\n",
    "        suspected_mo_et_discrimination.append(s)  "
   ]
  },
  {
   "cell_type": "code",
   "execution_count": 224,
   "metadata": {
    "ExecuteTime": {
     "end_time": "2021-01-30T18:50:34.254768Z",
     "start_time": "2021-01-30T18:50:34.239198Z"
    }
   },
   "outputs": [
    {
     "data": {
      "text/plain": [
       "[]"
      ]
     },
     "execution_count": 224,
     "metadata": {},
     "output_type": "execute_result"
    }
   ],
   "source": [
    "suspected_fgender_discrimination"
   ]
  },
  {
   "cell_type": "code",
   "execution_count": 225,
   "metadata": {
    "ExecuteTime": {
     "end_time": "2021-01-30T18:50:34.377568Z",
     "start_time": "2021-01-30T18:50:34.257636Z"
    }
   },
   "outputs": [
    {
     "data": {
      "text/plain": [
       "[]"
      ]
     },
     "execution_count": 225,
     "metadata": {},
     "output_type": "execute_result"
    }
   ],
   "source": [
    "suspected_ogender_discrimination"
   ]
  },
  {
   "cell_type": "code",
   "execution_count": 226,
   "metadata": {
    "ExecuteTime": {
     "end_time": "2021-01-30T18:50:34.489504Z",
     "start_time": "2021-01-30T18:50:34.380565Z"
    }
   },
   "outputs": [
    {
     "data": {
      "text/plain": [
       "['metropolitan', 'btp']"
      ]
     },
     "execution_count": 226,
     "metadata": {},
     "output_type": "execute_result"
    }
   ],
   "source": [
    "suspected_b_et_discrimination"
   ]
  },
  {
   "cell_type": "code",
   "execution_count": 227,
   "metadata": {
    "ExecuteTime": {
     "end_time": "2021-01-30T18:50:34.581451Z",
     "start_time": "2021-01-30T18:50:34.493501Z"
    }
   },
   "outputs": [
    {
     "data": {
      "text/plain": [
       "[]"
      ]
     },
     "execution_count": 227,
     "metadata": {},
     "output_type": "execute_result"
    }
   ],
   "source": [
    "suspected_a_et_discrimination"
   ]
  },
  {
   "cell_type": "code",
   "execution_count": 228,
   "metadata": {
    "ExecuteTime": {
     "end_time": "2021-01-30T18:50:34.709379Z",
     "start_time": "2021-01-30T18:50:34.584449Z"
    }
   },
   "outputs": [
    {
     "data": {
      "text/plain": [
       "[]"
      ]
     },
     "execution_count": 228,
     "metadata": {},
     "output_type": "execute_result"
    }
   ],
   "source": [
    "suspected_mo_et_discrimination"
   ]
  },
  {
   "cell_type": "markdown",
   "metadata": {},
   "source": [
    "## 'over34'"
   ]
  },
  {
   "cell_type": "code",
   "execution_count": 229,
   "metadata": {
    "ExecuteTime": {
     "end_time": "2021-01-30T18:51:08.244640Z",
     "start_time": "2021-01-30T18:50:34.712378Z"
    }
   },
   "outputs": [],
   "source": [
    "general_female_percentage = train[(train['Age range']=='over 34') & (train.Gender=='Female')].shape[0]*100/ train.shape[0]\n",
    "general_other_percentage =  train[(train['Age range']=='over 34') & train.Gender=='Other'].shape[0]*100/ train.shape[0]\n",
    "general_black_percentage = train[(train['Age range']=='over 34') & train['Officer-defined ethnicity']=='Black'].shape[0]*100/ train.shape[0]\n",
    "general_asian_percentage = train[(train['Age range']=='over 34') & train['Officer-defined ethnicity']=='Asian'].shape[0]*100/ train.shape[0]\n",
    "general_mixed_other_percentage = train[(train['Age range']=='over 34') & train['Officer-defined ethnicity'].isin(['Mixed', 'Other'])].shape[0]*100/ train.shape[0]\n",
    "\n",
    "suspected_fgender_discrimination = []\n",
    "suspected_ogender_discrimination = []\n",
    "suspected_b_et_discrimination=[]\n",
    "suspected_a_et_discrimination=[]\n",
    "suspected_mo_et_discrimination=[]\n",
    "\n",
    "for s in stations:\n",
    "    if train[(train['Age range']=='over 34') & (train.station==s) & (train.Gender=='Female')].shape[0]* 100/train[train.station==s].shape[0] - general_female_percentage> 10:\n",
    "        suspected_fgender_discrimination.append(s)\n",
    "    if train[(train['Age range']=='over 34') & (train.station==s) & (train.Gender=='Other')].shape[0] * 100 / train[train.station==s].shape[0] - general_other_percentage> 10:\n",
    "        suspected_ogender_discrimination.append(s)\n",
    "    if train[(train['Age range']=='over 34') & (train.station==s) & (train['Officer-defined ethnicity']=='Black')].shape[0] * 100 / train[train.station==s].shape[0] - general_black_percentage> 10:\n",
    "        suspected_b_et_discrimination.append(s)\n",
    "    if train[(train['Age range']=='over 34') & (train.station==s) & (train['Officer-defined ethnicity']=='Asian')].shape[0] * 100  / train[train.station==s].shape[0] - general_asian_percentage > 10:\n",
    "        suspected_a_et_discrimination.append(s)\n",
    "    if train[(train['Age range']=='over 34') & (train.station==s) & (train['Officer-defined ethnicity'].isin(['Mixed', 'Other']))].shape[0] * 100 / train[train.station==s].shape[0] - general_mixed_other_percentage> 10:\n",
    "        suspected_mo_et_discrimination.append(s)  "
   ]
  },
  {
   "cell_type": "code",
   "execution_count": 230,
   "metadata": {
    "ExecuteTime": {
     "end_time": "2021-01-30T18:51:08.260639Z",
     "start_time": "2021-01-30T18:51:08.247642Z"
    }
   },
   "outputs": [
    {
     "data": {
      "text/plain": [
       "[]"
      ]
     },
     "execution_count": 230,
     "metadata": {},
     "output_type": "execute_result"
    }
   ],
   "source": [
    "suspected_fgender_discrimination"
   ]
  },
  {
   "cell_type": "code",
   "execution_count": 231,
   "metadata": {
    "ExecuteTime": {
     "end_time": "2021-01-30T18:51:08.399575Z",
     "start_time": "2021-01-30T18:51:08.263633Z"
    }
   },
   "outputs": [
    {
     "data": {
      "text/plain": [
       "[]"
      ]
     },
     "execution_count": 231,
     "metadata": {},
     "output_type": "execute_result"
    }
   ],
   "source": [
    "suspected_ogender_discrimination"
   ]
  },
  {
   "cell_type": "code",
   "execution_count": 232,
   "metadata": {
    "ExecuteTime": {
     "end_time": "2021-01-30T18:51:08.493500Z",
     "start_time": "2021-01-30T18:51:08.402554Z"
    }
   },
   "outputs": [
    {
     "data": {
      "text/plain": [
       "[]"
      ]
     },
     "execution_count": 232,
     "metadata": {},
     "output_type": "execute_result"
    }
   ],
   "source": [
    "suspected_b_et_discrimination"
   ]
  },
  {
   "cell_type": "code",
   "execution_count": 233,
   "metadata": {
    "ExecuteTime": {
     "end_time": "2021-01-30T18:51:08.588448Z",
     "start_time": "2021-01-30T18:51:08.497501Z"
    }
   },
   "outputs": [
    {
     "data": {
      "text/plain": [
       "[]"
      ]
     },
     "execution_count": 233,
     "metadata": {},
     "output_type": "execute_result"
    }
   ],
   "source": [
    "suspected_a_et_discrimination"
   ]
  },
  {
   "cell_type": "code",
   "execution_count": 234,
   "metadata": {
    "ExecuteTime": {
     "end_time": "2021-01-30T18:51:08.680395Z",
     "start_time": "2021-01-30T18:51:08.591445Z"
    }
   },
   "outputs": [
    {
     "data": {
      "text/plain": [
       "[]"
      ]
     },
     "execution_count": 234,
     "metadata": {},
     "output_type": "execute_result"
    }
   ],
   "source": [
    "suspected_mo_et_discrimination"
   ]
  },
  {
   "cell_type": "markdown",
   "metadata": {},
   "source": [
    "## 'under 10'"
   ]
  },
  {
   "cell_type": "code",
   "execution_count": 235,
   "metadata": {
    "ExecuteTime": {
     "end_time": "2021-01-30T18:51:41.771474Z",
     "start_time": "2021-01-30T18:51:08.683392Z"
    }
   },
   "outputs": [],
   "source": [
    "general_female_percentage = train[(train['Age range']=='under 10') & (train.Gender=='Female')].shape[0]*100/ train.shape[0]\n",
    "general_other_percentage =  train[(train['Age range']=='under 10') & train.Gender=='Other'].shape[0]*100/ train.shape[0]\n",
    "general_black_percentage = train[(train['Age range']=='under 10') & train['Officer-defined ethnicity']=='Black'].shape[0]*100/ train.shape[0]\n",
    "general_asian_percentage = train[(train['Age range']=='under 10') & train['Officer-defined ethnicity']=='Asian'].shape[0]*100/ train.shape[0]\n",
    "general_mixed_other_percentage = train[(train['Age range']=='under 10') & train['Officer-defined ethnicity'].isin(['Mixed', 'Other'])].shape[0]*100/ train.shape[0]\n",
    "\n",
    "suspected_fgender_discrimination = []\n",
    "suspected_ogender_discrimination = []\n",
    "suspected_b_et_discrimination=[]\n",
    "suspected_a_et_discrimination=[]\n",
    "suspected_mo_et_discrimination=[]\n",
    "\n",
    "for s in stations:\n",
    "    if train[(train['Age range']=='under 10') & (train.station==s) & (train.Gender=='Female')].shape[0]* 100/train[train.station==s].shape[0] - general_female_percentage> 10:\n",
    "        suspected_fgender_discrimination.append(s)\n",
    "    if train[(train['Age range']=='under 10') & (train.station==s) & (train.Gender=='Other')].shape[0] * 100 / train[train.station==s].shape[0] - general_other_percentage> 10:\n",
    "        suspected_ogender_discrimination.append(s)\n",
    "    if train[(train['Age range']=='under 10') & (train.station==s) & (train['Officer-defined ethnicity']=='Black')].shape[0] * 100 / train[train.station==s].shape[0] - general_black_percentage> 10:\n",
    "        suspected_b_et_discrimination.append(s)\n",
    "    if train[(train['Age range']=='under 10') & (train.station==s) & (train['Officer-defined ethnicity']=='Asian')].shape[0] * 100  / train[train.station==s].shape[0] - general_asian_percentage > 10:\n",
    "        suspected_a_et_discrimination.append(s)\n",
    "    if train[(train['Age range']=='under 10') & (train.station==s) & (train['Officer-defined ethnicity'].isin(['Mixed', 'Other']))].shape[0] * 100 / train[train.station==s].shape[0] - general_mixed_other_percentage> 10:\n",
    "        suspected_mo_et_discrimination.append(s) "
   ]
  },
  {
   "cell_type": "code",
   "execution_count": 236,
   "metadata": {
    "ExecuteTime": {
     "end_time": "2021-01-30T18:51:41.787044Z",
     "start_time": "2021-01-30T18:51:41.771474Z"
    }
   },
   "outputs": [
    {
     "data": {
      "text/plain": [
       "[]"
      ]
     },
     "execution_count": 236,
     "metadata": {},
     "output_type": "execute_result"
    }
   ],
   "source": [
    "suspected_fgender_discrimination"
   ]
  },
  {
   "cell_type": "code",
   "execution_count": 237,
   "metadata": {
    "ExecuteTime": {
     "end_time": "2021-01-30T18:51:41.929436Z",
     "start_time": "2021-01-30T18:51:41.789495Z"
    }
   },
   "outputs": [
    {
     "data": {
      "text/plain": [
       "[]"
      ]
     },
     "execution_count": 237,
     "metadata": {},
     "output_type": "execute_result"
    }
   ],
   "source": [
    "suspected_ogender_discrimination"
   ]
  },
  {
   "cell_type": "code",
   "execution_count": 238,
   "metadata": {
    "ExecuteTime": {
     "end_time": "2021-01-30T18:51:42.009389Z",
     "start_time": "2021-01-30T18:51:41.932413Z"
    }
   },
   "outputs": [
    {
     "data": {
      "text/plain": [
       "[]"
      ]
     },
     "execution_count": 238,
     "metadata": {},
     "output_type": "execute_result"
    }
   ],
   "source": [
    "suspected_b_et_discrimination"
   ]
  },
  {
   "cell_type": "code",
   "execution_count": 239,
   "metadata": {
    "ExecuteTime": {
     "end_time": "2021-01-30T18:51:42.103315Z",
     "start_time": "2021-01-30T18:51:42.012367Z"
    }
   },
   "outputs": [
    {
     "data": {
      "text/plain": [
       "[]"
      ]
     },
     "execution_count": 239,
     "metadata": {},
     "output_type": "execute_result"
    }
   ],
   "source": [
    "suspected_a_et_discrimination"
   ]
  },
  {
   "cell_type": "code",
   "execution_count": 240,
   "metadata": {
    "ExecuteTime": {
     "end_time": "2021-01-30T18:51:42.183289Z",
     "start_time": "2021-01-30T18:51:42.106316Z"
    }
   },
   "outputs": [
    {
     "data": {
      "text/plain": [
       "[]"
      ]
     },
     "execution_count": 240,
     "metadata": {},
     "output_type": "execute_result"
    }
   ],
   "source": [
    "suspected_mo_et_discrimination"
   ]
  },
  {
   "cell_type": "markdown",
   "metadata": {
    "ExecuteTime": {
     "end_time": "2021-01-26T20:52:12.842077Z",
     "start_time": "2021-01-26T20:52:12.830064Z"
    }
   },
   "source": [
    "# Answering email"
   ]
  },
  {
   "cell_type": "code",
   "execution_count": 3,
   "metadata": {
    "ExecuteTime": {
     "end_time": "2021-02-06T14:26:54.813392Z",
     "start_time": "2021-02-06T14:26:54.807396Z"
    }
   },
   "outputs": [],
   "source": [
    "# dropping Metropolitan because of missing target\n",
    "good_stations = ['devon-and-cornwall', 'dyfed-powys', 'derbyshire', 'bedfordshire',\n",
    "       'avon-and-somerset', 'cheshire', 'sussex', 'north-yorkshire',\n",
    "       'cleveland', 'merseyside', 'north-wales', 'wiltshire', 'norfolk',\n",
    "       'suffolk', 'thames-valley', 'durham', 'warwickshire',\n",
    "       'leicestershire', 'hertfordshire', 'cumbria', \n",
    "       'essex', 'south-yorkshire', 'surrey', 'staffordshire',\n",
    "       'northamptonshire', 'northumbria', 'city-of-london',\n",
    "       'nottinghamshire', 'gloucestershire', 'cambridgeshire',\n",
    "       'lincolnshire', 'btp', 'west-yorkshire', 'dorset', 'west-mercia',\n",
    "       'kent', 'hampshire', 'humberside', 'lancashire',\n",
    "       'greater-manchester', 'gwent']"
   ]
  },
  {
   "cell_type": "code",
   "execution_count": 4,
   "metadata": {
    "ExecuteTime": {
     "end_time": "2021-02-06T14:26:55.390873Z",
     "start_time": "2021-02-06T14:26:55.185444Z"
    }
   },
   "outputs": [],
   "source": [
    "train = train[train.station.isin(good_stations)]"
   ]
  },
  {
   "cell_type": "code",
   "execution_count": 5,
   "metadata": {
    "ExecuteTime": {
     "end_time": "2021-02-06T14:26:55.810659Z",
     "start_time": "2021-02-06T14:26:55.680733Z"
    }
   },
   "outputs": [
    {
     "ename": "NameError",
     "evalue": "name 'analyse_df' is not defined",
     "output_type": "error",
     "traceback": [
      "\u001b[1;31m---------------------------------------------------------------------------\u001b[0m",
      "\u001b[1;31mNameError\u001b[0m                                 Traceback (most recent call last)",
      "\u001b[1;32m<ipython-input-5-75d66a1a6791>\u001b[0m in \u001b[0;36m<module>\u001b[1;34m\u001b[0m\n\u001b[1;32m----> 1\u001b[1;33m \u001b[0manalyse_df\u001b[0m\u001b[1;33m(\u001b[0m\u001b[0mtrain\u001b[0m\u001b[1;33m)\u001b[0m\u001b[1;33m\u001b[0m\u001b[1;33m\u001b[0m\u001b[0m\n\u001b[0m",
      "\u001b[1;31mNameError\u001b[0m: name 'analyse_df' is not defined"
     ]
    }
   ],
   "source": [
    "analyse_df(train)"
   ]
  },
  {
   "cell_type": "code",
   "execution_count": 6,
   "metadata": {
    "ExecuteTime": {
     "end_time": "2021-02-06T14:27:01.231093Z",
     "start_time": "2021-02-06T14:27:01.222080Z"
    }
   },
   "outputs": [],
   "source": [
    "successful = ['Local resolution', \n",
    "              'Community resolution'\n",
    "              'Offender given drugs possession warning'\n",
    "              'Khat or Cannabis warning'\n",
    "              'Caution (simple or conditional)'\n",
    "              'Offender given penalty notice'\n",
    "              'Arrest'\n",
    "              'Penalty Notice for Disorder'\n",
    "              'Suspected psychoactive substances seized - No further action'\n",
    "              'Summons / charged by post'\n",
    "              'Article found - Detailed outcome unavailable'\n",
    "              'Offender cautioned'\n",
    "              'Suspect arrested'\n",
    "              'Suspect summonsed to court']"
   ]
  },
  {
   "cell_type": "markdown",
   "metadata": {},
   "source": [
    "\"If there was a search and the outcome has not been written please consider it to be False.\""
   ]
  },
  {
   "cell_type": "code",
   "execution_count": 7,
   "metadata": {
    "ExecuteTime": {
     "end_time": "2021-02-06T14:27:03.193713Z",
     "start_time": "2021-02-06T14:27:03.156735Z"
    }
   },
   "outputs": [],
   "source": [
    "train['Outcome linked to object of search'] = (\n",
    "    np.where(\n",
    "        train['Outcome linked to object of search'].isnull(),\n",
    "        False, \n",
    "        train['Outcome linked to object of search']))"
   ]
  },
  {
   "cell_type": "code",
   "execution_count": 8,
   "metadata": {
    "ExecuteTime": {
     "end_time": "2021-02-06T14:27:03.617786Z",
     "start_time": "2021-02-06T14:27:03.582786Z"
    }
   },
   "outputs": [
    {
     "data": {
      "text/plain": [
       "0"
      ]
     },
     "execution_count": 8,
     "metadata": {},
     "output_type": "execute_result"
    }
   ],
   "source": [
    "train['Outcome linked to object of search'].isnull().sum()"
   ]
  },
  {
   "cell_type": "code",
   "execution_count": 9,
   "metadata": {
    "ExecuteTime": {
     "end_time": "2021-02-06T14:27:04.952691Z",
     "start_time": "2021-02-06T14:27:04.829759Z"
    }
   },
   "outputs": [
    {
     "data": {
      "text/plain": [
       "False    209044\n",
       "True     100273\n",
       "Name: Outcome linked to object of search, dtype: int64"
      ]
     },
     "execution_count": 9,
     "metadata": {},
     "output_type": "execute_result"
    }
   ],
   "source": [
    "train['Outcome linked to object of search'].value_counts()"
   ]
  },
  {
   "cell_type": "markdown",
   "metadata": {},
   "source": [
    "\"Removal of more than just outer clothing should be filled with False, \n",
    "except when it’s just a vehicle search, in which case it makes no sense\""
   ]
  },
  {
   "cell_type": "code",
   "execution_count": 10,
   "metadata": {
    "ExecuteTime": {
     "end_time": "2021-02-06T14:27:06.570412Z",
     "start_time": "2021-02-06T14:27:06.549444Z"
    }
   },
   "outputs": [
    {
     "data": {
      "text/plain": [
       "(309317, 16)"
      ]
     },
     "execution_count": 10,
     "metadata": {},
     "output_type": "execute_result"
    }
   ],
   "source": [
    "train.shape"
   ]
  },
  {
   "cell_type": "code",
   "execution_count": 11,
   "metadata": {
    "ExecuteTime": {
     "end_time": "2021-02-06T14:27:07.161457Z",
     "start_time": "2021-02-06T14:27:07.103491Z"
    }
   },
   "outputs": [
    {
     "data": {
      "text/plain": [
       "Person search                55870\n",
       "Person and Vehicle search    19322\n",
       "Vehicle search                  63\n",
       "Name: Type, dtype: int64"
      ]
     },
     "execution_count": 11,
     "metadata": {},
     "output_type": "execute_result"
    }
   ],
   "source": [
    "train[train['Removal of more than just outer clothing'].isnull()].Type.value_counts()"
   ]
  },
  {
   "cell_type": "code",
   "execution_count": 12,
   "metadata": {
    "ExecuteTime": {
     "end_time": "2021-02-06T14:27:07.925465Z",
     "start_time": "2021-02-06T14:27:07.645966Z"
    }
   },
   "outputs": [
    {
     "name": "stderr",
     "output_type": "stream",
     "text": [
      "C:\\Users\\ZukiPC\\anaconda3\\lib\\site-packages\\ipykernel_launcher.py:6: SettingWithCopyWarning: \n",
      "A value is trying to be set on a copy of a slice from a DataFrame.\n",
      "Try using .loc[row_indexer,col_indexer] = value instead\n",
      "\n",
      "See the caveats in the documentation: https://pandas.pydata.org/pandas-docs/stable/user_guide/indexing.html#returning-a-view-versus-a-copy\n",
      "  \n"
     ]
    }
   ],
   "source": [
    "aux = train.loc[train.Type != 'Vehicle search']\n",
    "aux['Removal of more than just outer clothing'] = (\n",
    "    np.where(\n",
    "        aux['Removal of more than just outer clothing'].isnull(),\n",
    "        False,\n",
    "        aux['Removal of more than just outer clothing']))\n",
    "train = train.loc[train.Type == 'Vehicle search'].append(aux)"
   ]
  },
  {
   "cell_type": "code",
   "execution_count": 13,
   "metadata": {
    "ExecuteTime": {
     "end_time": "2021-02-06T14:27:09.608232Z",
     "start_time": "2021-02-06T14:27:09.590223Z"
    }
   },
   "outputs": [
    {
     "data": {
      "text/plain": [
       "(309317, 16)"
      ]
     },
     "execution_count": 13,
     "metadata": {},
     "output_type": "execute_result"
    }
   ],
   "source": [
    "train.shape"
   ]
  },
  {
   "cell_type": "code",
   "execution_count": 14,
   "metadata": {
    "ExecuteTime": {
     "end_time": "2021-02-06T14:27:10.293495Z",
     "start_time": "2021-02-06T14:27:10.172545Z"
    }
   },
   "outputs": [
    {
     "data": {
      "text/plain": [
       "Vehicle search    63\n",
       "Name: Type, dtype: int64"
      ]
     },
     "execution_count": 14,
     "metadata": {},
     "output_type": "execute_result"
    }
   ],
   "source": [
    "train[train['Removal of more than just outer clothing'].isnull()].Type.value_counts()"
   ]
  },
  {
   "cell_type": "code",
   "execution_count": 15,
   "metadata": {
    "ExecuteTime": {
     "end_time": "2021-02-06T14:27:10.775080Z",
     "start_time": "2021-02-06T14:27:10.713096Z"
    }
   },
   "outputs": [],
   "source": [
    "no_sense = train.loc[(train.Type=='Vehicle search') & (train['Removal of more than just outer clothing']==True)].index"
   ]
  },
  {
   "cell_type": "code",
   "execution_count": 16,
   "metadata": {
    "ExecuteTime": {
     "end_time": "2021-02-06T14:27:11.475324Z",
     "start_time": "2021-02-06T14:27:11.306102Z"
    }
   },
   "outputs": [],
   "source": [
    "train = train.drop(no_sense, axis=0)"
   ]
  },
  {
   "cell_type": "code",
   "execution_count": 17,
   "metadata": {
    "ExecuteTime": {
     "end_time": "2021-02-06T14:27:11.756804Z",
     "start_time": "2021-02-06T14:27:11.748790Z"
    }
   },
   "outputs": [
    {
     "data": {
      "text/plain": [
       "(309316, 16)"
      ]
     },
     "execution_count": 17,
     "metadata": {},
     "output_type": "execute_result"
    }
   ],
   "source": [
    "train.shape"
   ]
  },
  {
   "cell_type": "markdown",
   "metadata": {},
   "source": [
    "# Exclude 'other' gender"
   ]
  },
  {
   "cell_type": "code",
   "execution_count": 18,
   "metadata": {
    "ExecuteTime": {
     "end_time": "2021-02-06T14:27:14.449822Z",
     "start_time": "2021-02-06T14:27:14.351879Z"
    }
   },
   "outputs": [],
   "source": [
    "train = train[train.Gender.isin(['Male', 'Female'])]"
   ]
  },
  {
   "cell_type": "code",
   "execution_count": 19,
   "metadata": {
    "ExecuteTime": {
     "end_time": "2021-02-06T14:27:15.175212Z",
     "start_time": "2021-02-06T14:27:14.847643Z"
    }
   },
   "outputs": [
    {
     "data": {
      "text/html": [
       "<div>\n",
       "<style scoped>\n",
       "    .dataframe tbody tr th:only-of-type {\n",
       "        vertical-align: middle;\n",
       "    }\n",
       "\n",
       "    .dataframe tbody tr th {\n",
       "        vertical-align: top;\n",
       "    }\n",
       "\n",
       "    .dataframe thead th {\n",
       "        text-align: right;\n",
       "    }\n",
       "</style>\n",
       "<table border=\"1\" class=\"dataframe\">\n",
       "  <thead>\n",
       "    <tr style=\"text-align: right;\">\n",
       "      <th>Age range</th>\n",
       "      <th>10-17</th>\n",
       "      <th>18-24</th>\n",
       "      <th>25-34</th>\n",
       "      <th>over 34</th>\n",
       "      <th>under 10</th>\n",
       "    </tr>\n",
       "    <tr>\n",
       "      <th>Officer-defined ethnicity</th>\n",
       "      <th></th>\n",
       "      <th></th>\n",
       "      <th></th>\n",
       "      <th></th>\n",
       "      <th></th>\n",
       "    </tr>\n",
       "  </thead>\n",
       "  <tbody>\n",
       "    <tr>\n",
       "      <th>Asian</th>\n",
       "      <td>1277</td>\n",
       "      <td>4584</td>\n",
       "      <td>2654</td>\n",
       "      <td>1118</td>\n",
       "      <td>2</td>\n",
       "    </tr>\n",
       "    <tr>\n",
       "      <th>Black</th>\n",
       "      <td>2254</td>\n",
       "      <td>4913</td>\n",
       "      <td>2558</td>\n",
       "      <td>1610</td>\n",
       "      <td>12</td>\n",
       "    </tr>\n",
       "    <tr>\n",
       "      <th>Mixed</th>\n",
       "      <td>153</td>\n",
       "      <td>269</td>\n",
       "      <td>139</td>\n",
       "      <td>76</td>\n",
       "      <td>1</td>\n",
       "    </tr>\n",
       "    <tr>\n",
       "      <th>Other</th>\n",
       "      <td>307</td>\n",
       "      <td>758</td>\n",
       "      <td>519</td>\n",
       "      <td>298</td>\n",
       "      <td>2</td>\n",
       "    </tr>\n",
       "    <tr>\n",
       "      <th>White</th>\n",
       "      <td>12616</td>\n",
       "      <td>27466</td>\n",
       "      <td>19547</td>\n",
       "      <td>17011</td>\n",
       "      <td>65</td>\n",
       "    </tr>\n",
       "  </tbody>\n",
       "</table>\n",
       "</div>"
      ],
      "text/plain": [
       "Age range                  10-17  18-24  25-34  over 34  under 10\n",
       "Officer-defined ethnicity                                        \n",
       "Asian                       1277   4584   2654     1118         2\n",
       "Black                       2254   4913   2558     1610        12\n",
       "Mixed                        153    269    139       76         1\n",
       "Other                        307    758    519      298         2\n",
       "White                      12616  27466  19547    17011        65"
      ]
     },
     "execution_count": 19,
     "metadata": {},
     "output_type": "execute_result"
    }
   ],
   "source": [
    "train[train['Outcome linked to object of search']==True].groupby(['Officer-defined ethnicity', 'Age range']).count()['observation_id'].unstack()"
   ]
  },
  {
   "cell_type": "code",
   "execution_count": 20,
   "metadata": {
    "ExecuteTime": {
     "end_time": "2021-02-06T14:27:16.828727Z",
     "start_time": "2021-02-06T14:27:16.815756Z"
    }
   },
   "outputs": [
    {
     "data": {
      "text/plain": [
       "(309044, 16)"
      ]
     },
     "execution_count": 20,
     "metadata": {},
     "output_type": "execute_result"
    }
   ],
   "source": [
    "train.shape"
   ]
  },
  {
   "cell_type": "code",
   "execution_count": 21,
   "metadata": {
    "ExecuteTime": {
     "end_time": "2021-02-06T14:27:17.214750Z",
     "start_time": "2021-02-06T14:27:17.206758Z"
    }
   },
   "outputs": [],
   "source": [
    "# train.to_csv('clean_train.csv')"
   ]
  },
  {
   "cell_type": "code",
   "execution_count": 22,
   "metadata": {
    "ExecuteTime": {
     "end_time": "2021-02-06T14:27:17.889293Z",
     "start_time": "2021-02-06T14:27:17.659998Z"
    }
   },
   "outputs": [
    {
     "ename": "KeyError",
     "evalue": "'Year'",
     "output_type": "error",
     "traceback": [
      "\u001b[1;31m---------------------------------------------------------------------------\u001b[0m",
      "\u001b[1;31mKeyError\u001b[0m                                  Traceback (most recent call last)",
      "\u001b[1;32m<ipython-input-22-7cea2cc1d2ba>\u001b[0m in \u001b[0;36m<module>\u001b[1;34m\u001b[0m\n\u001b[1;32m----> 1\u001b[1;33m \u001b[0mtrain\u001b[0m\u001b[1;33m[\u001b[0m\u001b[0mtrain\u001b[0m\u001b[1;33m[\u001b[0m\u001b[1;34m'Outcome linked to object of search'\u001b[0m\u001b[1;33m]\u001b[0m\u001b[1;33m==\u001b[0m\u001b[1;32mTrue\u001b[0m\u001b[1;33m]\u001b[0m\u001b[1;33m.\u001b[0m\u001b[0mgroupby\u001b[0m\u001b[1;33m(\u001b[0m\u001b[1;33m[\u001b[0m\u001b[1;34m'Year'\u001b[0m\u001b[1;33m,\u001b[0m \u001b[1;34m'Month'\u001b[0m\u001b[1;33m]\u001b[0m\u001b[1;33m)\u001b[0m\u001b[1;33m.\u001b[0m\u001b[0mcount\u001b[0m\u001b[1;33m(\u001b[0m\u001b[1;33m)\u001b[0m\u001b[1;33m[\u001b[0m\u001b[1;34m'observation_id'\u001b[0m\u001b[1;33m]\u001b[0m\u001b[1;33m.\u001b[0m\u001b[0mplot\u001b[0m\u001b[1;33m(\u001b[0m\u001b[1;33m)\u001b[0m\u001b[1;33m\u001b[0m\u001b[1;33m\u001b[0m\u001b[0m\n\u001b[0m",
      "\u001b[1;32m~\\anaconda3\\lib\\site-packages\\pandas\\core\\frame.py\u001b[0m in \u001b[0;36mgroupby\u001b[1;34m(self, by, axis, level, as_index, sort, group_keys, squeeze, observed, dropna)\u001b[0m\n\u001b[0;32m   6523\u001b[0m             \u001b[0msqueeze\u001b[0m\u001b[1;33m=\u001b[0m\u001b[0msqueeze\u001b[0m\u001b[1;33m,\u001b[0m\u001b[1;33m\u001b[0m\u001b[1;33m\u001b[0m\u001b[0m\n\u001b[0;32m   6524\u001b[0m             \u001b[0mobserved\u001b[0m\u001b[1;33m=\u001b[0m\u001b[0mobserved\u001b[0m\u001b[1;33m,\u001b[0m\u001b[1;33m\u001b[0m\u001b[1;33m\u001b[0m\u001b[0m\n\u001b[1;32m-> 6525\u001b[1;33m             \u001b[0mdropna\u001b[0m\u001b[1;33m=\u001b[0m\u001b[0mdropna\u001b[0m\u001b[1;33m,\u001b[0m\u001b[1;33m\u001b[0m\u001b[1;33m\u001b[0m\u001b[0m\n\u001b[0m\u001b[0;32m   6526\u001b[0m         )\n\u001b[0;32m   6527\u001b[0m \u001b[1;33m\u001b[0m\u001b[0m\n",
      "\u001b[1;32m~\\anaconda3\\lib\\site-packages\\pandas\\core\\groupby\\groupby.py\u001b[0m in \u001b[0;36m__init__\u001b[1;34m(self, obj, keys, axis, level, grouper, exclusions, selection, as_index, sort, group_keys, squeeze, observed, mutated, dropna)\u001b[0m\n\u001b[0;32m    531\u001b[0m                 \u001b[0mobserved\u001b[0m\u001b[1;33m=\u001b[0m\u001b[0mobserved\u001b[0m\u001b[1;33m,\u001b[0m\u001b[1;33m\u001b[0m\u001b[1;33m\u001b[0m\u001b[0m\n\u001b[0;32m    532\u001b[0m                 \u001b[0mmutated\u001b[0m\u001b[1;33m=\u001b[0m\u001b[0mself\u001b[0m\u001b[1;33m.\u001b[0m\u001b[0mmutated\u001b[0m\u001b[1;33m,\u001b[0m\u001b[1;33m\u001b[0m\u001b[1;33m\u001b[0m\u001b[0m\n\u001b[1;32m--> 533\u001b[1;33m                 \u001b[0mdropna\u001b[0m\u001b[1;33m=\u001b[0m\u001b[0mself\u001b[0m\u001b[1;33m.\u001b[0m\u001b[0mdropna\u001b[0m\u001b[1;33m,\u001b[0m\u001b[1;33m\u001b[0m\u001b[1;33m\u001b[0m\u001b[0m\n\u001b[0m\u001b[0;32m    534\u001b[0m             )\n\u001b[0;32m    535\u001b[0m \u001b[1;33m\u001b[0m\u001b[0m\n",
      "\u001b[1;32m~\\anaconda3\\lib\\site-packages\\pandas\\core\\groupby\\grouper.py\u001b[0m in \u001b[0;36mget_grouper\u001b[1;34m(obj, key, axis, level, sort, observed, mutated, validate, dropna)\u001b[0m\n\u001b[0;32m    784\u001b[0m                 \u001b[0min_axis\u001b[0m\u001b[1;33m,\u001b[0m \u001b[0mname\u001b[0m\u001b[1;33m,\u001b[0m \u001b[0mlevel\u001b[0m\u001b[1;33m,\u001b[0m \u001b[0mgpr\u001b[0m \u001b[1;33m=\u001b[0m \u001b[1;32mFalse\u001b[0m\u001b[1;33m,\u001b[0m \u001b[1;32mNone\u001b[0m\u001b[1;33m,\u001b[0m \u001b[0mgpr\u001b[0m\u001b[1;33m,\u001b[0m \u001b[1;32mNone\u001b[0m\u001b[1;33m\u001b[0m\u001b[1;33m\u001b[0m\u001b[0m\n\u001b[0;32m    785\u001b[0m             \u001b[1;32melse\u001b[0m\u001b[1;33m:\u001b[0m\u001b[1;33m\u001b[0m\u001b[1;33m\u001b[0m\u001b[0m\n\u001b[1;32m--> 786\u001b[1;33m                 \u001b[1;32mraise\u001b[0m \u001b[0mKeyError\u001b[0m\u001b[1;33m(\u001b[0m\u001b[0mgpr\u001b[0m\u001b[1;33m)\u001b[0m\u001b[1;33m\u001b[0m\u001b[1;33m\u001b[0m\u001b[0m\n\u001b[0m\u001b[0;32m    787\u001b[0m         \u001b[1;32melif\u001b[0m \u001b[0misinstance\u001b[0m\u001b[1;33m(\u001b[0m\u001b[0mgpr\u001b[0m\u001b[1;33m,\u001b[0m \u001b[0mGrouper\u001b[0m\u001b[1;33m)\u001b[0m \u001b[1;32mand\u001b[0m \u001b[0mgpr\u001b[0m\u001b[1;33m.\u001b[0m\u001b[0mkey\u001b[0m \u001b[1;32mis\u001b[0m \u001b[1;32mnot\u001b[0m \u001b[1;32mNone\u001b[0m\u001b[1;33m:\u001b[0m\u001b[1;33m\u001b[0m\u001b[1;33m\u001b[0m\u001b[0m\n\u001b[0;32m    788\u001b[0m             \u001b[1;31m# Add key to exclusions\u001b[0m\u001b[1;33m\u001b[0m\u001b[1;33m\u001b[0m\u001b[1;33m\u001b[0m\u001b[0m\n",
      "\u001b[1;31mKeyError\u001b[0m: 'Year'"
     ]
    }
   ],
   "source": [
    "train[train['Outcome linked to object of search']==True].groupby(['Year', 'Month']).count()['observation_id'].plot()"
   ]
  },
  {
   "cell_type": "code",
   "execution_count": 23,
   "metadata": {
    "ExecuteTime": {
     "end_time": "2021-02-06T14:27:53.128123Z",
     "start_time": "2021-02-06T14:27:52.537974Z"
    }
   },
   "outputs": [
    {
     "data": {
      "text/plain": [
       "<AxesSubplot:>"
      ]
     },
     "execution_count": 23,
     "metadata": {},
     "output_type": "execute_result"
    },
    {
     "data": {
      "image/png": "[encoded data removed]",
      "text/plain": [
       "<Figure size 432x288 with 1 Axes>"
      ]
     },
     "metadata": {
      "needs_background": "light"
     },
     "output_type": "display_data"
    }
   ],
   "source": [
    "train['Officer-defined ethnicity'].value_counts().plot(kind='bar')"
   ]
  },
  {
   "cell_type": "markdown",
   "metadata": {},
   "source": [
    "\"In your analysis we expect you to check whether these generally match the self-definition, or if there is any\n",
    "significant difference.\"\""
   ]
  },
  {
   "cell_type": "code",
   "execution_count": null,
   "metadata": {
    "ExecuteTime": {
     "end_time": "2021-01-30T18:51:45.948898Z",
     "start_time": "2021-01-30T18:47:57.546Z"
    }
   },
   "outputs": [],
   "source": [
    "train[train['Officer-defined ethnicity']=='Black']['Self-defined ethnicity'].value_counts()"
   ]
  },
  {
   "cell_type": "code",
   "execution_count": null,
   "metadata": {
    "ExecuteTime": {
     "end_time": "2021-01-30T18:51:45.949898Z",
     "start_time": "2021-01-30T18:47:57.555Z"
    }
   },
   "outputs": [],
   "source": [
    "train[train['Officer-defined ethnicity']=='White']['Self-defined ethnicity'].value_counts()"
   ]
  },
  {
   "cell_type": "code",
   "execution_count": null,
   "metadata": {
    "ExecuteTime": {
     "end_time": "2021-01-30T18:51:45.952896Z",
     "start_time": "2021-01-30T18:47:57.563Z"
    }
   },
   "outputs": [],
   "source": [
    "train[train['Officer-defined ethnicity']=='Asian']['Self-defined ethnicity'].value_counts()"
   ]
  },
  {
   "cell_type": "code",
   "execution_count": null,
   "metadata": {
    "ExecuteTime": {
     "end_time": "2021-01-30T18:51:45.954895Z",
     "start_time": "2021-01-30T18:47:57.572Z"
    }
   },
   "outputs": [],
   "source": [
    "train[train['Officer-defined ethnicity']=='Mixed']['Self-defined ethnicity'].value_counts()"
   ]
  },
  {
   "cell_type": "code",
   "execution_count": null,
   "metadata": {
    "ExecuteTime": {
     "end_time": "2021-01-30T18:51:45.956894Z",
     "start_time": "2021-01-30T18:47:57.580Z"
    }
   },
   "outputs": [],
   "source": [
    "train[train['Officer-defined ethnicity']=='Other']['Self-defined ethnicity'].value_counts()"
   ]
  },
  {
   "cell_type": "markdown",
   "metadata": {},
   "source": [
    "# Pre-model analysis on possible discrimination (General) (Clean Dataset)"
   ]
  },
  {
   "cell_type": "code",
   "execution_count": null,
   "metadata": {
    "ExecuteTime": {
     "end_time": "2021-01-30T18:51:45.958893Z",
     "start_time": "2021-01-30T18:47:57.590Z"
    }
   },
   "outputs": [],
   "source": [
    "stations = train.station.unique()\n",
    "general_female_percentage = train[train.Gender=='Female'].shape[0]*100/ train.shape[0]\n",
    "general_other_percentage =  train[train.Gender=='Other'].shape[0]*100/ train.shape[0]\n",
    "general_black_percentage = train[train['Officer-defined ethnicity']=='Black'].shape[0]*100/ train.shape[0]\n",
    "general_asian_percentage = train[train['Officer-defined ethnicity']=='Asian'].shape[0]*100/ train.shape[0]\n",
    "general_mixed_other_percentage = train[train['Officer-defined ethnicity'].isin(['Mixed', 'Other'])].shape[0]*100/ train.shape[0]"
   ]
  },
  {
   "cell_type": "code",
   "execution_count": null,
   "metadata": {
    "ExecuteTime": {
     "end_time": "2021-01-30T18:51:45.960892Z",
     "start_time": "2021-01-30T18:47:57.598Z"
    }
   },
   "outputs": [],
   "source": [
    "suspected_fgender_discrimination = []\n",
    "suspected_ogender_discrimination = []\n",
    "suspected_b_et_discrimination=[]\n",
    "suspected_a_et_discrimination=[]\n",
    "suspected_mo_et_discrimination=[]\n",
    "\n",
    "for s in stations:\n",
    "    if train[(train.station==s) & (train.Gender=='Female')].shape[0]* 100/train[train.station==s].shape[0] - general_female_percentage> 10:\n",
    "        suspected_fgender_discrimination.append(s)\n",
    "    if train[(train.station==s) & (train.Gender=='Other')].shape[0] * 100 / train[train.station==s].shape[0] - general_other_percentage> 10:\n",
    "        suspected_ogender_discrimination.append(s)\n",
    "    if train[(train.station==s) & (train['Officer-defined ethnicity']=='Black')].shape[0] * 100 / train[train.station==s].shape[0] - general_black_percentage > 10:\n",
    "        suspected_b_et_discrimination.append(s)\n",
    "    if train[(train.station==s) & (train['Officer-defined ethnicity']=='Asian')].shape[0] * 100  / train[train.station==s].shape[0] - general_asian_percentage > 10:\n",
    "        suspected_a_et_discrimination.append(s)\n",
    "    if train[(train.station==s) & (train['Officer-defined ethnicity'].isin(['Mixed', 'Other']))].shape[0] * 100 / train[train.station==s].shape[0] - general_mixed_other_percentage> 10:\n",
    "        suspected_mo_et_discrimination.append(s)  "
   ]
  },
  {
   "cell_type": "code",
   "execution_count": null,
   "metadata": {
    "ExecuteTime": {
     "end_time": "2021-01-30T18:51:45.963890Z",
     "start_time": "2021-01-30T18:47:57.609Z"
    }
   },
   "outputs": [],
   "source": [
    "suspected_fgender_discrimination"
   ]
  },
  {
   "cell_type": "code",
   "execution_count": null,
   "metadata": {
    "ExecuteTime": {
     "end_time": "2021-01-30T18:51:45.965888Z",
     "start_time": "2021-01-30T18:47:57.618Z"
    }
   },
   "outputs": [],
   "source": [
    "suspected_ogender_discrimination"
   ]
  },
  {
   "cell_type": "code",
   "execution_count": null,
   "metadata": {
    "ExecuteTime": {
     "end_time": "2021-01-30T18:51:45.968887Z",
     "start_time": "2021-01-30T18:47:57.628Z"
    }
   },
   "outputs": [],
   "source": [
    "suspected_b_et_discrimination"
   ]
  },
  {
   "cell_type": "code",
   "execution_count": null,
   "metadata": {
    "ExecuteTime": {
     "end_time": "2021-01-30T18:51:45.971885Z",
     "start_time": "2021-01-30T18:47:57.636Z"
    }
   },
   "outputs": [],
   "source": [
    "suspected_a_et_discrimination"
   ]
  },
  {
   "cell_type": "code",
   "execution_count": null,
   "metadata": {
    "ExecuteTime": {
     "end_time": "2021-01-30T18:51:45.973886Z",
     "start_time": "2021-01-30T18:47:57.642Z"
    }
   },
   "outputs": [],
   "source": [
    "suspected_mo_et_discrimination"
   ]
  },
  {
   "cell_type": "markdown",
   "metadata": {},
   "source": [
    "## '18 to 24'"
   ]
  },
  {
   "cell_type": "code",
   "execution_count": null,
   "metadata": {
    "ExecuteTime": {
     "end_time": "2021-01-30T18:51:45.974884Z",
     "start_time": "2021-01-30T18:47:57.652Z"
    }
   },
   "outputs": [],
   "source": [
    "general_female_percentage = train[(train['Age range']=='18-24') & (train.Gender=='Female')].shape[0]*100/ train.shape[0]\n",
    "general_other_percentage =  train[(train['Age range']=='18-24') & train.Gender=='Other'].shape[0]*100/ train.shape[0]\n",
    "general_black_percentage = train[(train['Age range']=='18-24') & train['Officer-defined ethnicity']=='Black'].shape[0]*100/ train.shape[0]\n",
    "general_asian_percentage = train[(train['Age range']=='18-24') & train['Officer-defined ethnicity']=='Asian'].shape[0]*100/ train.shape[0]\n",
    "general_mixed_other_percentage = train[(train['Age range']=='18-24') & train['Officer-defined ethnicity'].isin(['Mixed', 'Other'])].shape[0]*100/ train.shape[0]\n",
    "\n",
    "suspected_fgender_discrimination = []\n",
    "suspected_ogender_discrimination = []\n",
    "suspected_b_et_discrimination=[]\n",
    "suspected_a_et_discrimination=[]\n",
    "suspected_mo_et_discrimination=[]\n",
    "\n",
    "for s in stations:\n",
    "    if train[(train['Age range']=='18-24') & (train.station==s) & (train.Gender=='Female')].shape[0]* 100/train[train.station==s].shape[0] - general_female_percentage> 10:\n",
    "        suspected_fgender_discrimination.append(s)\n",
    "    if train[(train['Age range']=='18-24') & (train.station==s) & (train.Gender=='Other')].shape[0] * 100 / train[train.station==s].shape[0] - general_other_percentage> 10:\n",
    "        suspected_ogender_discrimination.append(s)\n",
    "    if train[(train['Age range']=='18-24') & (train.station==s) & (train['Officer-defined ethnicity']=='Black')].shape[0] * 100 / train[train.station==s].shape[0] - general_black_percentage> 10:\n",
    "        suspected_b_et_discrimination.append(s)\n",
    "    if train[(train['Age range']=='18-24') & (train.station==s) & (train['Officer-defined ethnicity']=='Asian')].shape[0] * 100  / train[train.station==s].shape[0] - general_asian_percentage > 10:\n",
    "        suspected_a_et_discrimination.append(s)\n",
    "    if train[(train['Age range']=='18-24') & (train.station==s) & (train['Officer-defined ethnicity'].isin(['Mixed', 'Other']))].shape[0] * 100 / train[train.station==s].shape[0] - general_mixed_other_percentage> 10:\n",
    "        suspected_mo_et_discrimination.append(s)   "
   ]
  },
  {
   "cell_type": "code",
   "execution_count": null,
   "metadata": {
    "ExecuteTime": {
     "end_time": "2021-01-30T18:51:45.976884Z",
     "start_time": "2021-01-30T18:47:57.661Z"
    }
   },
   "outputs": [],
   "source": [
    "suspected_fgender_discrimination"
   ]
  },
  {
   "cell_type": "code",
   "execution_count": null,
   "metadata": {
    "ExecuteTime": {
     "end_time": "2021-01-30T18:51:45.978881Z",
     "start_time": "2021-01-30T18:47:57.669Z"
    }
   },
   "outputs": [],
   "source": [
    "suspected_ogender_discrimination"
   ]
  },
  {
   "cell_type": "code",
   "execution_count": null,
   "metadata": {
    "ExecuteTime": {
     "end_time": "2021-01-30T18:51:45.980880Z",
     "start_time": "2021-01-30T18:47:57.676Z"
    }
   },
   "outputs": [],
   "source": [
    "suspected_b_et_discrimination"
   ]
  },
  {
   "cell_type": "code",
   "execution_count": null,
   "metadata": {
    "ExecuteTime": {
     "end_time": "2021-01-30T18:51:45.983884Z",
     "start_time": "2021-01-30T18:47:57.684Z"
    }
   },
   "outputs": [],
   "source": [
    "suspected_a_et_discrimination"
   ]
  },
  {
   "cell_type": "code",
   "execution_count": null,
   "metadata": {
    "ExecuteTime": {
     "end_time": "2021-01-30T18:51:45.985877Z",
     "start_time": "2021-01-30T18:47:57.690Z"
    }
   },
   "outputs": [],
   "source": [
    "suspected_mo_et_discrimination"
   ]
  },
  {
   "cell_type": "markdown",
   "metadata": {},
   "source": [
    "## '25 to 34'"
   ]
  },
  {
   "cell_type": "code",
   "execution_count": null,
   "metadata": {
    "ExecuteTime": {
     "end_time": "2021-01-30T18:51:45.987876Z",
     "start_time": "2021-01-30T18:47:57.700Z"
    }
   },
   "outputs": [],
   "source": [
    "general_female_percentage = train[(train['Age range']=='25-34') & (train.Gender=='Female')].shape[0]*100/ train.shape[0]\n",
    "general_other_percentage =  train[(train['Age range']=='25-34') & train.Gender=='Other'].shape[0]*100/ train.shape[0]\n",
    "general_black_percentage = train[(train['Age range']=='25-34') & train['Officer-defined ethnicity']=='Black'].shape[0]*100/ train.shape[0]\n",
    "general_asian_percentage = train[(train['Age range']=='25-34') & train['Officer-defined ethnicity']=='Asian'].shape[0]*100/ train.shape[0]\n",
    "general_mixed_other_percentage = train[(train['Age range']=='25-34') & train['Officer-defined ethnicity'].isin(['Mixed', 'Other'])].shape[0]*100/ train.shape[0]\n",
    "\n",
    "suspected_fgender_discrimination = []\n",
    "suspected_ogender_discrimination = []\n",
    "suspected_b_et_discrimination=[]\n",
    "suspected_a_et_discrimination=[]\n",
    "suspected_mo_et_discrimination=[]\n",
    "\n",
    "for s in stations:\n",
    "    if train[(train['Age range']=='25-34') & (train.station==s) & (train.Gender=='Female')].shape[0]* 100/train[train.station==s].shape[0] - general_female_percentage> 10:\n",
    "        suspected_fgender_discrimination.append(s)\n",
    "    if train[(train['Age range']=='25-34') & (train.station==s) & (train.Gender=='Other')].shape[0] * 100 / train[train.station==s].shape[0] - general_other_percentage> 10:\n",
    "        suspected_ogender_discrimination.append(s)\n",
    "    if train[(train['Age range']=='25-34') & (train.station==s) & (train['Officer-defined ethnicity']=='Black')].shape[0] * 100 / train[train.station==s].shape[0] - general_black_percentage> 10:\n",
    "        suspected_b_et_discrimination.append(s)\n",
    "    if train[(train['Age range']=='25-34') & (train.station==s) & (train['Officer-defined ethnicity']=='Asian')].shape[0] * 100  / train[train.station==s].shape[0] - general_asian_percentage > 10:\n",
    "        suspected_a_et_discrimination.append(s)\n",
    "    if train[(train['Age range']=='25-34') & (train.station==s) & (train['Officer-defined ethnicity'].isin(['Mixed', 'Other']))].shape[0] * 100 / train[train.station==s].shape[0] - general_mixed_other_percentage> 10:\n",
    "        suspected_mo_et_discrimination.append(s)  "
   ]
  },
  {
   "cell_type": "code",
   "execution_count": null,
   "metadata": {
    "ExecuteTime": {
     "end_time": "2021-01-30T18:51:45.989875Z",
     "start_time": "2021-01-30T18:47:57.707Z"
    }
   },
   "outputs": [],
   "source": [
    "suspected_fgender_discrimination"
   ]
  },
  {
   "cell_type": "code",
   "execution_count": null,
   "metadata": {
    "ExecuteTime": {
     "end_time": "2021-01-30T18:51:45.991877Z",
     "start_time": "2021-01-30T18:47:57.714Z"
    }
   },
   "outputs": [],
   "source": [
    "suspected_ogender_discrimination"
   ]
  },
  {
   "cell_type": "code",
   "execution_count": null,
   "metadata": {
    "ExecuteTime": {
     "end_time": "2021-01-30T18:51:45.993875Z",
     "start_time": "2021-01-30T18:47:57.722Z"
    }
   },
   "outputs": [],
   "source": [
    "suspected_b_et_discrimination"
   ]
  },
  {
   "cell_type": "code",
   "execution_count": null,
   "metadata": {
    "ExecuteTime": {
     "end_time": "2021-01-30T18:51:45.994872Z",
     "start_time": "2021-01-30T18:47:57.731Z"
    }
   },
   "outputs": [],
   "source": [
    "suspected_a_et_discrimination"
   ]
  },
  {
   "cell_type": "code",
   "execution_count": null,
   "metadata": {
    "ExecuteTime": {
     "end_time": "2021-01-30T18:51:45.997873Z",
     "start_time": "2021-01-30T18:47:57.737Z"
    }
   },
   "outputs": [],
   "source": [
    "suspected_mo_et_discrimination"
   ]
  },
  {
   "cell_type": "markdown",
   "metadata": {},
   "source": [
    "## '10 to 17'"
   ]
  },
  {
   "cell_type": "code",
   "execution_count": null,
   "metadata": {
    "ExecuteTime": {
     "end_time": "2021-01-30T18:51:45.998869Z",
     "start_time": "2021-01-30T18:47:57.745Z"
    }
   },
   "outputs": [],
   "source": [
    "general_female_percentage = train[(train['Age range']=='10-17') & (train.Gender=='Female')].shape[0]*100/ train.shape[0]\n",
    "general_other_percentage =  train[(train['Age range']=='10-17') & train.Gender=='Other'].shape[0]*100/ train.shape[0]\n",
    "general_black_percentage = train[(train['Age range']=='10-17') & train['Officer-defined ethnicity']=='Black'].shape[0]*100/ train.shape[0]\n",
    "general_asian_percentage = train[(train['Age range']=='10-17') & train['Officer-defined ethnicity']=='Asian'].shape[0]*100/ train.shape[0]\n",
    "general_mixed_other_percentage = train[(train['Age range']=='10-17') & train['Officer-defined ethnicity'].isin(['Mixed', 'Other'])].shape[0]*100/ train.shape[0]\n",
    "\n",
    "suspected_fgender_discrimination = []\n",
    "suspected_ogender_discrimination = []\n",
    "suspected_b_et_discrimination=[]\n",
    "suspected_a_et_discrimination=[]\n",
    "suspected_mo_et_discrimination=[]\n",
    "\n",
    "for s in stations:\n",
    "    if train[(train['Age range']=='10-17') & (train.station==s) & (train.Gender=='Female')].shape[0]* 100/train[train.station==s].shape[0] - general_female_percentage> 10:\n",
    "        suspected_fgender_discrimination.append(s)\n",
    "    if train[(train['Age range']=='10-17') & (train.station==s) & (train.Gender=='Other')].shape[0] * 100 / train[train.station==s].shape[0] - general_other_percentage> 10:\n",
    "        suspected_ogender_discrimination.append(s)\n",
    "    if train[(train['Age range']=='10-17') & (train.station==s) & (train['Officer-defined ethnicity']=='Black')].shape[0] * 100 / train[train.station==s].shape[0] - general_black_percentage> 10:\n",
    "        suspected_b_et_discrimination.append(s)\n",
    "    if train[(train['Age range']=='10-17') & (train.station==s) & (train['Officer-defined ethnicity']=='Asian')].shape[0] * 100  / train[train.station==s].shape[0] - general_asian_percentage > 10:\n",
    "        suspected_a_et_discrimination.append(s)\n",
    "    if train[(train['Age range']=='10-17') & (train.station==s) & (train['Officer-defined ethnicity'].isin(['Mixed', 'Other']))].shape[0] * 100 / train[train.station==s].shape[0] - general_mixed_other_percentage> 10:\n",
    "        suspected_mo_et_discrimination.append(s)  "
   ]
  },
  {
   "cell_type": "code",
   "execution_count": null,
   "metadata": {
    "ExecuteTime": {
     "end_time": "2021-01-30T18:51:46.001868Z",
     "start_time": "2021-01-30T18:47:57.753Z"
    }
   },
   "outputs": [],
   "source": [
    "suspected_fgender_discrimination"
   ]
  },
  {
   "cell_type": "code",
   "execution_count": null,
   "metadata": {
    "ExecuteTime": {
     "end_time": "2021-01-30T18:51:46.002867Z",
     "start_time": "2021-01-30T18:47:57.762Z"
    }
   },
   "outputs": [],
   "source": [
    "suspected_ogender_discrimination"
   ]
  },
  {
   "cell_type": "code",
   "execution_count": null,
   "metadata": {
    "ExecuteTime": {
     "end_time": "2021-01-30T18:51:46.004866Z",
     "start_time": "2021-01-30T18:47:57.770Z"
    }
   },
   "outputs": [],
   "source": [
    "suspected_b_et_discrimination"
   ]
  },
  {
   "cell_type": "code",
   "execution_count": null,
   "metadata": {
    "ExecuteTime": {
     "end_time": "2021-01-30T18:51:46.006868Z",
     "start_time": "2021-01-30T18:47:57.777Z"
    }
   },
   "outputs": [],
   "source": [
    "suspected_a_et_discrimination"
   ]
  },
  {
   "cell_type": "code",
   "execution_count": null,
   "metadata": {
    "ExecuteTime": {
     "end_time": "2021-01-30T18:51:46.008864Z",
     "start_time": "2021-01-30T18:47:57.786Z"
    }
   },
   "outputs": [],
   "source": [
    "suspected_mo_et_discrimination"
   ]
  },
  {
   "cell_type": "markdown",
   "metadata": {},
   "source": [
    "## 'Over 34'"
   ]
  },
  {
   "cell_type": "code",
   "execution_count": null,
   "metadata": {
    "ExecuteTime": {
     "end_time": "2021-01-30T18:51:46.010865Z",
     "start_time": "2021-01-30T18:47:57.795Z"
    }
   },
   "outputs": [],
   "source": [
    "general_female_percentage = train[(train['Age range']=='over 34') & (train.Gender=='Female')].shape[0]*100/ train.shape[0]\n",
    "general_other_percentage =  train[(train['Age range']=='over 34') & train.Gender=='Other'].shape[0]*100/ train.shape[0]\n",
    "general_black_percentage = train[(train['Age range']=='over 34') & train['Officer-defined ethnicity']=='Black'].shape[0]*100/ train.shape[0]\n",
    "general_asian_percentage = train[(train['Age range']=='over 34') & train['Officer-defined ethnicity']=='Asian'].shape[0]*100/ train.shape[0]\n",
    "general_mixed_other_percentage = train[(train['Age range']=='over 34') & train['Officer-defined ethnicity'].isin(['Mixed', 'Other'])].shape[0]*100/ train.shape[0]\n",
    "\n",
    "suspected_fgender_discrimination = []\n",
    "suspected_ogender_discrimination = []\n",
    "suspected_b_et_discrimination=[]\n",
    "suspected_a_et_discrimination=[]\n",
    "suspected_mo_et_discrimination=[]\n",
    "\n",
    "for s in stations:\n",
    "    if train[(train['Age range']=='over 34') & (train.station==s) & (train.Gender=='Female')].shape[0]* 100/train[train.station==s].shape[0] - general_female_percentage> 10:\n",
    "        suspected_fgender_discrimination.append(s)\n",
    "    if train[(train['Age range']=='over 34') & (train.station==s) & (train.Gender=='Other')].shape[0] * 100 / train[train.station==s].shape[0] - general_other_percentage> 10:\n",
    "        suspected_ogender_discrimination.append(s)\n",
    "    if train[(train['Age range']=='over 34') & (train.station==s) & (train['Officer-defined ethnicity']=='Black')].shape[0] * 100 / train[train.station==s].shape[0] - general_black_percentage> 10:\n",
    "        suspected_b_et_discrimination.append(s)\n",
    "    if train[(train['Age range']=='over 34') & (train.station==s) & (train['Officer-defined ethnicity']=='Asian')].shape[0] * 100  / train[train.station==s].shape[0] - general_asian_percentage > 10:\n",
    "        suspected_a_et_discrimination.append(s)\n",
    "    if train[(train['Age range']=='over 34') & (train.station==s) & (train['Officer-defined ethnicity'].isin(['Mixed', 'Other']))].shape[0] * 100 / train[train.station==s].shape[0] - general_mixed_other_percentage> 10:\n",
    "        suspected_mo_et_discrimination.append(s)  "
   ]
  },
  {
   "cell_type": "code",
   "execution_count": null,
   "metadata": {
    "ExecuteTime": {
     "end_time": "2021-01-30T18:51:46.012861Z",
     "start_time": "2021-01-30T18:47:57.804Z"
    }
   },
   "outputs": [],
   "source": [
    "suspected_fgender_discrimination"
   ]
  },
  {
   "cell_type": "code",
   "execution_count": null,
   "metadata": {
    "ExecuteTime": {
     "end_time": "2021-01-30T18:51:46.014861Z",
     "start_time": "2021-01-30T18:47:57.811Z"
    }
   },
   "outputs": [],
   "source": [
    "suspected_ogender_discrimination"
   ]
  },
  {
   "cell_type": "code",
   "execution_count": null,
   "metadata": {
    "ExecuteTime": {
     "end_time": "2021-01-30T18:51:46.016860Z",
     "start_time": "2021-01-30T18:47:57.821Z"
    }
   },
   "outputs": [],
   "source": [
    "suspected_b_et_discrimination"
   ]
  },
  {
   "cell_type": "code",
   "execution_count": null,
   "metadata": {
    "ExecuteTime": {
     "end_time": "2021-01-30T18:51:46.018858Z",
     "start_time": "2021-01-30T18:47:57.829Z"
    }
   },
   "outputs": [],
   "source": [
    "suspected_a_et_discrimination"
   ]
  },
  {
   "cell_type": "code",
   "execution_count": null,
   "metadata": {
    "ExecuteTime": {
     "end_time": "2021-01-30T18:51:46.020860Z",
     "start_time": "2021-01-30T18:47:57.837Z"
    }
   },
   "outputs": [],
   "source": [
    "suspected_mo_et_discrimination"
   ]
  },
  {
   "cell_type": "markdown",
   "metadata": {},
   "source": [
    "## 'under 10'"
   ]
  },
  {
   "cell_type": "code",
   "execution_count": null,
   "metadata": {
    "ExecuteTime": {
     "end_time": "2021-01-30T18:51:46.022855Z",
     "start_time": "2021-01-30T18:47:57.845Z"
    }
   },
   "outputs": [],
   "source": [
    "stations = train.station.unique()\n",
    "general_female_percentage = train[train.Gender=='Female'].shape[0]*100/ train.shape[0]\n",
    "general_other_percentage =  train[train.Gender=='Other'].shape[0]*100/ train.shape[0]\n",
    "general_black_percentage = train[train['Officer-defined ethnicity']=='Black'].shape[0]*100/ train.shape[0]\n",
    "general_asian_percentage = train[train['Officer-defined ethnicity']=='Asian'].shape[0]*100/ train.shape[0]\n",
    "general_mixed_other_percentage = train[train['Officer-defined ethnicity'].isin(['Mixed', 'Other'])].shape[0]*100/ train.shape[0]\n",
    "\n",
    "suspected_fgender_discrimination = []\n",
    "suspected_ogender_discrimination = []\n",
    "suspected_b_et_discrimination=[]\n",
    "suspected_a_et_discrimination=[]\n",
    "suspected_mo_et_discrimination=[]\n",
    "\n",
    "for s in stations:\n",
    "    if train[(train['Age range']=='under 10') & (train.station==s) & (train.Gender=='Female')].shape[0]* 100/train[train.station==s].shape[0] - general_female_percentage> 10:\n",
    "        suspected_fgender_discrimination.append(s)\n",
    "    if train[(train['Age range']=='under 10') & (train.station==s) & (train.Gender=='Other')].shape[0] * 100 / train[train.station==s].shape[0] - general_other_percentage> 10:\n",
    "        suspected_ogender_discrimination.append(s)\n",
    "    if train[(train['Age range']=='under 10') & (train.station==s) & (train['Officer-defined ethnicity']=='Black')].shape[0] * 100 / train[train.station==s].shape[0] - general_black_percentage> 10:\n",
    "        suspected_b_et_discrimination.append(s)\n",
    "    if train[(train['Age range']=='under 10') & (train.station==s) & (train['Officer-defined ethnicity']=='Asian')].shape[0] * 100  / train[train.station==s].shape[0] - general_asian_percentage > 10:\n",
    "        suspected_a_et_discrimination.append(s)\n",
    "    if train[(train['Age range']=='under 10') & (train.station==s) & (train['Officer-defined ethnicity'].isin(['Mixed', 'Other']))].shape[0] * 100 / train[train.station==s].shape[0] - general_mixed_other_percentage> 10:\n",
    "        suspected_mo_et_discrimination.append(s) "
   ]
  },
  {
   "cell_type": "code",
   "execution_count": null,
   "metadata": {
    "ExecuteTime": {
     "end_time": "2021-01-30T18:51:46.024856Z",
     "start_time": "2021-01-30T18:47:57.854Z"
    }
   },
   "outputs": [],
   "source": [
    "suspected_fgender_discrimination"
   ]
  },
  {
   "cell_type": "code",
   "execution_count": null,
   "metadata": {
    "ExecuteTime": {
     "end_time": "2021-01-30T18:51:46.026854Z",
     "start_time": "2021-01-30T18:47:57.861Z"
    }
   },
   "outputs": [],
   "source": [
    "suspected_ogender_discrimination"
   ]
  },
  {
   "cell_type": "code",
   "execution_count": null,
   "metadata": {
    "ExecuteTime": {
     "end_time": "2021-01-30T18:51:46.028854Z",
     "start_time": "2021-01-30T18:47:57.870Z"
    }
   },
   "outputs": [],
   "source": [
    "suspected_b_et_discrimination"
   ]
  },
  {
   "cell_type": "code",
   "execution_count": null,
   "metadata": {
    "ExecuteTime": {
     "end_time": "2021-01-30T18:51:46.030852Z",
     "start_time": "2021-01-30T18:47:57.877Z"
    }
   },
   "outputs": [],
   "source": [
    "suspected_a_et_discrimination"
   ]
  },
  {
   "cell_type": "code",
   "execution_count": null,
   "metadata": {
    "ExecuteTime": {
     "end_time": "2021-01-30T18:51:46.031850Z",
     "start_time": "2021-01-30T18:47:57.883Z"
    }
   },
   "outputs": [],
   "source": [
    "suspected_mo_et_discrimination=[]"
   ]
  },
  {
   "cell_type": "code",
   "execution_count": null,
   "metadata": {
    "ExecuteTime": {
     "end_time": "2021-01-30T18:51:46.033849Z",
     "start_time": "2021-01-30T18:47:57.889Z"
    }
   },
   "outputs": [],
   "source": [
    "train.groupby(['Officer-defined ethnicity', 'Removal of more than just outer clothing']).count()['observation_id'].unstack()"
   ]
  },
  {
   "cell_type": "code",
   "execution_count": null,
   "metadata": {
    "ExecuteTime": {
     "end_time": "2021-01-30T18:51:46.035851Z",
     "start_time": "2021-01-30T18:47:57.896Z"
    }
   },
   "outputs": [],
   "source": [
    "train.groupby(['Age range', 'Removal of more than just outer clothing']).count()['observation_id'].unstack()"
   ]
  },
  {
   "cell_type": "code",
   "execution_count": null,
   "metadata": {
    "ExecuteTime": {
     "end_time": "2021-01-30T18:51:46.036848Z",
     "start_time": "2021-01-30T18:47:57.902Z"
    }
   },
   "outputs": [],
   "source": [
    "train.groupby(['Officer-defined ethnicity', 'Age range']).count()['observation_id'].unstack()"
   ]
  },
  {
   "cell_type": "code",
   "execution_count": null,
   "metadata": {
    "ExecuteTime": {
     "end_time": "2021-01-30T18:51:46.038847Z",
     "start_time": "2021-01-30T18:47:57.909Z"
    }
   },
   "outputs": [],
   "source": [
    "train.groupby(['Officer-defined ethnicity', 'Gender']).count()['observation_id'].unstack()"
   ]
  },
  {
   "cell_type": "code",
   "execution_count": null,
   "metadata": {
    "ExecuteTime": {
     "end_time": "2021-01-30T18:51:46.040846Z",
     "start_time": "2021-01-30T18:47:57.915Z"
    }
   },
   "outputs": [],
   "source": [
    "train.groupby(['Gender', 'Removal of more than just outer clothing']).count()['observation_id'].unstack()"
   ]
  },
  {
   "cell_type": "markdown",
   "metadata": {},
   "source": [
    "# Sucessfull operations only"
   ]
  },
  {
   "cell_type": "code",
   "execution_count": null,
   "metadata": {
    "ExecuteTime": {
     "end_time": "2021-01-30T18:51:46.041847Z",
     "start_time": "2021-01-30T18:47:57.924Z"
    },
    "scrolled": true
   },
   "outputs": [],
   "source": [
    "train[train['Outcome linked to object of search']==True].groupby(['Officer-defined ethnicity', 'Removal of more than just outer clothing']).count()['observation_id'].unstack()"
   ]
  },
  {
   "cell_type": "code",
   "execution_count": null,
   "metadata": {
    "ExecuteTime": {
     "end_time": "2021-01-30T18:51:46.043844Z",
     "start_time": "2021-01-30T18:47:57.933Z"
    }
   },
   "outputs": [],
   "source": [
    "train[train['Outcome linked to object of search']==True].groupby(['Age range', 'Removal of more than just outer clothing']).count()['observation_id'].unstack()"
   ]
  },
  {
   "cell_type": "code",
   "execution_count": null,
   "metadata": {
    "ExecuteTime": {
     "end_time": "2021-01-30T18:51:46.045842Z",
     "start_time": "2021-01-30T18:47:57.941Z"
    }
   },
   "outputs": [],
   "source": [
    "train[train['Outcome linked to object of search']==True].groupby(['Gender', 'Removal of more than just outer clothing']).count()['observation_id'].unstack()"
   ]
  },
  {
   "cell_type": "code",
   "execution_count": null,
   "metadata": {
    "ExecuteTime": {
     "end_time": "2021-01-30T18:51:46.047842Z",
     "start_time": "2021-01-30T18:47:57.948Z"
    }
   },
   "outputs": [],
   "source": [
    "analyse_df(train)"
   ]
  },
  {
   "cell_type": "markdown",
   "metadata": {},
   "source": [
    " # Precision analysis"
   ]
  },
  {
   "cell_type": "code",
   "execution_count": null,
   "metadata": {
    "ExecuteTime": {
     "end_time": "2021-01-30T18:51:46.049841Z",
     "start_time": "2021-01-30T18:47:57.956Z"
    }
   },
   "outputs": [],
   "source": [
    "precisions = {}\n",
    "for s in stations:\n",
    "    precisions[s] = {}\n",
    "    precisions[s]['Gender'] = {}\n",
    "    for gender in list(train.Gender.unique()):\n",
    "        precisions[s]['Gender'][gender] = round(train[(train.station == s)\n",
    "                                      &\n",
    "                                      (train['Outcome linked to object of search']==True) \n",
    "                                      & \n",
    "                                      (train.Gender == gender)].shape[0] / train[(train.station == s) & (train.Gender==gender)].shape[0],2)\n",
    "    precisions[s]['Ethnicity'] = {}\n",
    "    for ethnicity in list(train['Officer-defined ethnicity'].unique()):\n",
    "        if train[(train.station == s) & (train['Officer-defined ethnicity'] == ethnicity)].shape[0] !=0:\n",
    "            precisions[s]['Ethnicity'][ethnicity] = round(train[(train.station == s)\n",
    "                                          &\n",
    "                                          (train['Outcome linked to object of search']==True) \n",
    "                                          & \n",
    "                                          (train['Officer-defined ethnicity'] == ethnicity)].shape[0] / train[(train.station == s) & (train['Officer-defined ethnicity'] == ethnicity)].shape[0],2)\n",
    "        else:\n",
    "            precisions[s]['Enthnicity'][ethnicity] = np.nan\n",
    "            \n",
    "    precisions[s]['Age_Range'] = {}\n",
    "    for age in list(train['Age range'].unique()):\n",
    "        if train[(train.station == s) & (train['Age range'] == age)].shape[0] !=0:\n",
    "            precisions[s]['Age_Range'][age] = round(train[(train.station == s)\n",
    "                                          &\n",
    "                                          (train['Outcome linked to object of search']==True) \n",
    "                                          & \n",
    "                                          (train['Age range'] == age)].shape[0] / train[(train.station == s) & (train['Age range'] == age)].shape[0],2)\n",
    "        else:\n",
    "            precisions[s]['Age_Range'][age] = np.nan"
   ]
  },
  {
   "cell_type": "code",
   "execution_count": null,
   "metadata": {
    "ExecuteTime": {
     "end_time": "2021-01-30T18:51:46.050840Z",
     "start_time": "2021-01-30T18:47:57.964Z"
    },
    "scrolled": true
   },
   "outputs": [],
   "source": [
    "for station in precisions.keys():\n",
    "    for group in precisions[station].keys():\n",
    "        if max(list(precisions[station][group].values())) - min(list(precisions[station][group].values()))>0.15:\n",
    "            print(station, precisions[station][group])"
   ]
  },
  {
   "cell_type": "code",
   "execution_count": null,
   "metadata": {
    "ExecuteTime": {
     "end_time": "2021-01-30T18:51:46.052839Z",
     "start_time": "2021-01-30T18:47:57.972Z"
    }
   },
   "outputs": [],
   "source": [
    "train = train[train['Removal of more than just outer clothing']==True]\n",
    "precisions = {}\n",
    "for s in stations:\n",
    "    precisions[s] = {}\n",
    "    precisions[s]['Gender'] = {}\n",
    "    for gender in list(train.Gender.unique()):\n",
    "        if train[(train.station == s) & (train.Gender==gender)].shape[0] != 0:\n",
    "            precisions[s]['Gender'][gender] = round(train[(train.station == s)\n",
    "                                          &\n",
    "                                          (train['Outcome linked to object of search']==True) \n",
    "                                          & \n",
    "                                          (train.Gender == gender)].shape[0] / train[(train.station == s) & (train.Gender==gender)].shape[0],2)\n",
    "        else:\n",
    "         precisions[s]['Gender'][gender] = np.nan\n",
    "            \n",
    "    precisions[s]['Ethnicity'] = {}\n",
    "    for ethnicity in list(train['Officer-defined ethnicity'].unique()):\n",
    "        if train[(train.station == s) & (train['Officer-defined ethnicity'] == ethnicity)].shape[0] !=0:\n",
    "            precisions[s]['Ethnicity'][ethnicity] = round(train[(train.station == s)\n",
    "                                          &\n",
    "                                          (train['Outcome linked to object of search']==True) \n",
    "                                          & \n",
    "                                          (train['Officer-defined ethnicity'] == ethnicity)].shape[0] / train[(train.station == s) & (train['Officer-defined ethnicity'] == ethnicity)].shape[0],2)\n",
    "        else:\n",
    "            precisions[s]['Ethnicity'][ethnicity] = np.nan\n",
    "            \n",
    "    precisions[s]['Age_Range'] = {}\n",
    "    for age in list(train['Age range'].unique()):\n",
    "        if train[(train.station == s) & (train['Age range'] == age)].shape[0] !=0:\n",
    "            precisions[s]['Age_Range'][age] = round(train[(train.station == s)\n",
    "                                          &\n",
    "                                          (train['Outcome linked to object of search']==True) \n",
    "                                          & \n",
    "                                          (train['Age range'] == age)].shape[0] / train[(train.station == s) & (train['Age range'] == age)].shape[0],2)\n",
    "        else:\n",
    "            precisions[s]['Age_Range'][age] = np.nan"
   ]
  },
  {
   "cell_type": "code",
   "execution_count": null,
   "metadata": {
    "ExecuteTime": {
     "end_time": "2021-01-30T18:51:46.054838Z",
     "start_time": "2021-01-30T18:47:57.979Z"
    }
   },
   "outputs": [],
   "source": [
    "for station in precisions.keys():\n",
    "    for group in precisions[station].keys():\n",
    "        if max(list(precisions[station][group].values())) - min(list(precisions[station][group].values()))>0.15:\n",
    "            print(station, pd.DataFrame.from_dict(precisions[station][group], orient='index'))"
   ]
  },
  {
   "cell_type": "code",
   "execution_count": null,
   "metadata": {},
   "outputs": [],
   "source": []
  }
 ],
 "metadata": {
  "kernelspec": {
   "display_name": "Python 3",
   "language": "python",
   "name": "python3"
  },
  "language_info": {
   "codemirror_mode": {
    "name": "ipython",
    "version": 3
   },
   "file_extension": ".py",
   "mimetype": "text/x-python",
   "name": "python",
   "nbconvert_exporter": "python",
   "pygments_lexer": "ipython3",
   "version": "3.7.6"
  },
  "toc": {
   "base_numbering": 1,
   "nav_menu": {},
   "number_sections": true,
   "sideBar": true,
   "skip_h1_title": false,
   "title_cell": "Table of Contents",
   "title_sidebar": "Contents",
   "toc_cell": false,
   "toc_position": {},
   "toc_section_display": true,
   "toc_window_display": false
  },
  "varInspector": {
   "cols": {
    "lenName": 16,
    "lenType": 16,
    "lenVar": 40
   },
   "kernels_config": {
    "python": {
     "delete_cmd_postfix": "",
     "delete_cmd_prefix": "del ",
     "library": "var_list.py",
     "varRefreshCmd": "print(var_dic_list())"
    },
    "r": {
     "delete_cmd_postfix": ") ",
     "delete_cmd_prefix": "rm(",
     "library": "var_list.r",
     "varRefreshCmd": "cat(var_dic_list()) "
    }
   },
   "types_to_exclude": [
    "module",
    "function",
    "builtin_function_or_method",
    "instance",
    "_Feature"
   ],
   "window_display": false
  }
 },
 "nbformat": 4,
 "nbformat_minor": 4
}
