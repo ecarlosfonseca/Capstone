{
 "cells": [
  {
   "cell_type": "code",
   "execution_count": 651,
   "metadata": {
    "ExecuteTime": {
     "end_time": "2021-02-07T15:50:43.488220Z",
     "start_time": "2021-02-07T15:50:43.472230Z"
    }
   },
   "outputs": [],
   "source": [
    "import pandas as pd\n",
    "import numpy as np\n",
    "\n",
    "import matplotlib.pyplot as plt\n",
    "\n",
    "from sklearn.model_selection import train_test_split\n",
    "from sklearn.compose import ColumnTransformer\n",
    "from sklearn.preprocessing import OneHotEncoder\n",
    "from sklearn.pipeline import Pipeline, make_pipeline\n",
    "from sklearn.ensemble import RandomForestClassifier\n",
    "from sklearn.metrics import precision_score, recall_score, accuracy_score, precision_recall_curve, roc_auc_score, roc_curve, confusion_matrix\n",
    "from sklearn.linear_model import LogisticRegression\n",
    "import requests\n",
    "\n",
    "from sklearn.covariance import empirical_covariance\n",
    "\n",
    "import pickle\n",
    "import joblib"
   ]
  },
  {
   "cell_type": "code",
   "execution_count": 652,
   "metadata": {
    "ExecuteTime": {
     "end_time": "2021-02-07T15:50:45.756356Z",
     "start_time": "2021-02-07T15:50:44.105323Z"
    }
   },
   "outputs": [
    {
     "name": "stderr",
     "output_type": "stream",
     "text": [
      "C:\\Users\\ZukiPC\\anaconda3\\lib\\site-packages\\IPython\\core\\interactiveshell.py:3147: DtypeWarning: Columns (15) have mixed types.Specify dtype option on import or set low_memory=False.\n",
      "  interactivity=interactivity, compiler=compiler, result=result)\n"
     ]
    }
   ],
   "source": [
    "data = pd.read_csv('clean_train.csv').drop('Unnamed: 0', axis=1)"
   ]
  },
  {
   "cell_type": "code",
   "execution_count": 653,
   "metadata": {
    "ExecuteTime": {
     "end_time": "2021-02-07T15:50:46.447766Z",
     "start_time": "2021-02-07T15:50:46.402790Z"
    }
   },
   "outputs": [
    {
     "data": {
      "text/html": [
       "<div>\n",
       "<style scoped>\n",
       "    .dataframe tbody tr th:only-of-type {\n",
       "        vertical-align: middle;\n",
       "    }\n",
       "\n",
       "    .dataframe tbody tr th {\n",
       "        vertical-align: top;\n",
       "    }\n",
       "\n",
       "    .dataframe thead th {\n",
       "        text-align: right;\n",
       "    }\n",
       "</style>\n",
       "<table border=\"1\" class=\"dataframe\">\n",
       "  <thead>\n",
       "    <tr style=\"text-align: right;\">\n",
       "      <th></th>\n",
       "      <th>observation_id</th>\n",
       "      <th>Type</th>\n",
       "      <th>Date</th>\n",
       "      <th>Part of a policing operation</th>\n",
       "      <th>Latitude</th>\n",
       "      <th>Longitude</th>\n",
       "      <th>Gender</th>\n",
       "      <th>Age range</th>\n",
       "      <th>Self-defined ethnicity</th>\n",
       "      <th>Officer-defined ethnicity</th>\n",
       "      <th>...</th>\n",
       "      <th>Object of search</th>\n",
       "      <th>Outcome</th>\n",
       "      <th>Outcome linked to object of search</th>\n",
       "      <th>Removal of more than just outer clothing</th>\n",
       "      <th>station</th>\n",
       "      <th>Year</th>\n",
       "      <th>Month</th>\n",
       "      <th>Hour</th>\n",
       "      <th>Day_of_week</th>\n",
       "      <th>Week</th>\n",
       "    </tr>\n",
       "  </thead>\n",
       "  <tbody>\n",
       "    <tr>\n",
       "      <th>0</th>\n",
       "      <td>47b07238-a9b6-4ef7-a209-7a1fd8c88149</td>\n",
       "      <td>Vehicle search</td>\n",
       "      <td>2019-12-03 00:00:00+00:00</td>\n",
       "      <td>NaN</td>\n",
       "      <td>54.548325</td>\n",
       "      <td>-1.271298</td>\n",
       "      <td>Male</td>\n",
       "      <td>18-24</td>\n",
       "      <td>White - English/Welsh/Scottish/Northern Irish/...</td>\n",
       "      <td>White</td>\n",
       "      <td>...</td>\n",
       "      <td>Controlled drugs</td>\n",
       "      <td>Caution (simple or conditional)</td>\n",
       "      <td>False</td>\n",
       "      <td>NaN</td>\n",
       "      <td>cleveland</td>\n",
       "      <td>2019</td>\n",
       "      <td>12</td>\n",
       "      <td>0</td>\n",
       "      <td>Tuesday</td>\n",
       "      <td>49</td>\n",
       "    </tr>\n",
       "    <tr>\n",
       "      <th>1</th>\n",
       "      <td>be1ce6a4-89b7-49a2-bc2a-00868a115c42</td>\n",
       "      <td>Vehicle search</td>\n",
       "      <td>2019-12-04 12:12:00+00:00</td>\n",
       "      <td>False</td>\n",
       "      <td>51.382699</td>\n",
       "      <td>0.543110</td>\n",
       "      <td>Male</td>\n",
       "      <td>10-17</td>\n",
       "      <td>Asian/Asian British - Indian</td>\n",
       "      <td>Asian</td>\n",
       "      <td>...</td>\n",
       "      <td>Psychoactive substances</td>\n",
       "      <td>Arrest</td>\n",
       "      <td>True</td>\n",
       "      <td>False</td>\n",
       "      <td>kent</td>\n",
       "      <td>2019</td>\n",
       "      <td>12</td>\n",
       "      <td>12</td>\n",
       "      <td>Wednesday</td>\n",
       "      <td>49</td>\n",
       "    </tr>\n",
       "    <tr>\n",
       "      <th>2</th>\n",
       "      <td>2f44c551-7fe3-475f-8ed6-ae3e24928505</td>\n",
       "      <td>Vehicle search</td>\n",
       "      <td>2018-09-25 00:41:00+00:00</td>\n",
       "      <td>False</td>\n",
       "      <td>53.608913</td>\n",
       "      <td>-2.138118</td>\n",
       "      <td>Male</td>\n",
       "      <td>18-24</td>\n",
       "      <td>Asian/Asian British - Pakistani</td>\n",
       "      <td>Asian</td>\n",
       "      <td>...</td>\n",
       "      <td>Controlled drugs</td>\n",
       "      <td>A no further action disposal</td>\n",
       "      <td>False</td>\n",
       "      <td>False</td>\n",
       "      <td>greater-manchester</td>\n",
       "      <td>2018</td>\n",
       "      <td>9</td>\n",
       "      <td>0</td>\n",
       "      <td>Tuesday</td>\n",
       "      <td>39</td>\n",
       "    </tr>\n",
       "    <tr>\n",
       "      <th>3</th>\n",
       "      <td>564e42e2-16e5-4fdc-a140-1e4406d8941e</td>\n",
       "      <td>Vehicle search</td>\n",
       "      <td>2018-09-07 19:00:00+00:00</td>\n",
       "      <td>True</td>\n",
       "      <td>51.190980</td>\n",
       "      <td>0.269950</td>\n",
       "      <td>Male</td>\n",
       "      <td>18-24</td>\n",
       "      <td>Other ethnic group - Not stated</td>\n",
       "      <td>Other</td>\n",
       "      <td>...</td>\n",
       "      <td>Controlled drugs</td>\n",
       "      <td>Summons / charged by post</td>\n",
       "      <td>False</td>\n",
       "      <td>NaN</td>\n",
       "      <td>kent</td>\n",
       "      <td>2018</td>\n",
       "      <td>9</td>\n",
       "      <td>19</td>\n",
       "      <td>Friday</td>\n",
       "      <td>36</td>\n",
       "    </tr>\n",
       "    <tr>\n",
       "      <th>4</th>\n",
       "      <td>4fdcc05d-44c0-477a-a9c7-55c15efb319c</td>\n",
       "      <td>Vehicle search</td>\n",
       "      <td>2018-09-07 19:21:00+00:00</td>\n",
       "      <td>True</td>\n",
       "      <td>51.190980</td>\n",
       "      <td>0.269950</td>\n",
       "      <td>Male</td>\n",
       "      <td>18-24</td>\n",
       "      <td>White - English/Welsh/Scottish/Northern Irish/...</td>\n",
       "      <td>White</td>\n",
       "      <td>...</td>\n",
       "      <td>Controlled drugs</td>\n",
       "      <td>Summons / charged by post</td>\n",
       "      <td>False</td>\n",
       "      <td>NaN</td>\n",
       "      <td>kent</td>\n",
       "      <td>2018</td>\n",
       "      <td>9</td>\n",
       "      <td>19</td>\n",
       "      <td>Friday</td>\n",
       "      <td>36</td>\n",
       "    </tr>\n",
       "  </tbody>\n",
       "</table>\n",
       "<p>5 rows × 21 columns</p>\n",
       "</div>"
      ],
      "text/plain": [
       "                         observation_id            Type  \\\n",
       "0  47b07238-a9b6-4ef7-a209-7a1fd8c88149  Vehicle search   \n",
       "1  be1ce6a4-89b7-49a2-bc2a-00868a115c42  Vehicle search   \n",
       "2  2f44c551-7fe3-475f-8ed6-ae3e24928505  Vehicle search   \n",
       "3  564e42e2-16e5-4fdc-a140-1e4406d8941e  Vehicle search   \n",
       "4  4fdcc05d-44c0-477a-a9c7-55c15efb319c  Vehicle search   \n",
       "\n",
       "                        Date Part of a policing operation   Latitude  \\\n",
       "0  2019-12-03 00:00:00+00:00                          NaN  54.548325   \n",
       "1  2019-12-04 12:12:00+00:00                        False  51.382699   \n",
       "2  2018-09-25 00:41:00+00:00                        False  53.608913   \n",
       "3  2018-09-07 19:00:00+00:00                         True  51.190980   \n",
       "4  2018-09-07 19:21:00+00:00                         True  51.190980   \n",
       "\n",
       "   Longitude Gender Age range  \\\n",
       "0  -1.271298   Male     18-24   \n",
       "1   0.543110   Male     10-17   \n",
       "2  -2.138118   Male     18-24   \n",
       "3   0.269950   Male     18-24   \n",
       "4   0.269950   Male     18-24   \n",
       "\n",
       "                              Self-defined ethnicity  \\\n",
       "0  White - English/Welsh/Scottish/Northern Irish/...   \n",
       "1                       Asian/Asian British - Indian   \n",
       "2                    Asian/Asian British - Pakistani   \n",
       "3                    Other ethnic group - Not stated   \n",
       "4  White - English/Welsh/Scottish/Northern Irish/...   \n",
       "\n",
       "  Officer-defined ethnicity  ...         Object of search  \\\n",
       "0                     White  ...         Controlled drugs   \n",
       "1                     Asian  ...  Psychoactive substances   \n",
       "2                     Asian  ...         Controlled drugs   \n",
       "3                     Other  ...         Controlled drugs   \n",
       "4                     White  ...         Controlled drugs   \n",
       "\n",
       "                           Outcome Outcome linked to object of search  \\\n",
       "0  Caution (simple or conditional)                              False   \n",
       "1                           Arrest                               True   \n",
       "2     A no further action disposal                              False   \n",
       "3        Summons / charged by post                              False   \n",
       "4        Summons / charged by post                              False   \n",
       "\n",
       "   Removal of more than just outer clothing             station  Year  Month  \\\n",
       "0                                       NaN           cleveland  2019     12   \n",
       "1                                     False                kent  2019     12   \n",
       "2                                     False  greater-manchester  2018      9   \n",
       "3                                       NaN                kent  2018      9   \n",
       "4                                       NaN                kent  2018      9   \n",
       "\n",
       "   Hour  Day_of_week Week  \n",
       "0     0      Tuesday   49  \n",
       "1    12    Wednesday   49  \n",
       "2     0      Tuesday   39  \n",
       "3    19       Friday   36  \n",
       "4    19       Friday   36  \n",
       "\n",
       "[5 rows x 21 columns]"
      ]
     },
     "execution_count": 653,
     "metadata": {},
     "output_type": "execute_result"
    }
   ],
   "source": [
    "data.head()"
   ]
  },
  {
   "cell_type": "code",
   "execution_count": 654,
   "metadata": {
    "ExecuteTime": {
     "end_time": "2021-02-07T15:50:47.100464Z",
     "start_time": "2021-02-07T15:50:47.041497Z"
    }
   },
   "outputs": [
    {
     "data": {
      "text/plain": [
       "White    243929\n",
       "Black     32521\n",
       "Asian     24789\n",
       "Other      5977\n",
       "Mixed      1828\n",
       "Name: Officer-defined ethnicity, dtype: int64"
      ]
     },
     "execution_count": 654,
     "metadata": {},
     "output_type": "execute_result"
    }
   ],
   "source": [
    "data['Officer-defined ethnicity'].value_counts()"
   ]
  },
  {
   "cell_type": "code",
   "execution_count": 655,
   "metadata": {
    "ExecuteTime": {
     "end_time": "2021-02-07T15:50:47.678120Z",
     "start_time": "2021-02-07T15:50:47.665901Z"
    }
   },
   "outputs": [],
   "source": [
    "data['target']= (\n",
    "    np.where(\n",
    "    data['Outcome linked to object of search']==True,\n",
    "    1,\n",
    "    0)\n",
    ")"
   ]
  },
  {
   "cell_type": "code",
   "execution_count": 656,
   "metadata": {
    "ExecuteTime": {
     "end_time": "2021-02-07T15:50:48.245587Z",
     "start_time": "2021-02-07T15:50:48.233541Z"
    }
   },
   "outputs": [],
   "source": [
    "columns_to_drop = ['observation_id', 'Part of a policing operation', \n",
    "       'Latitude', 'Longitude', \n",
    "       'Self-defined ethnicity', 'Legislation',\n",
    "       'Outcome', 'Outcome linked to object of search',\n",
    "       'Removal of more than just outer clothing', 'Year','Month', 'Hour', 'Day_of_week', 'Week', 'target']"
   ]
  },
  {
   "cell_type": "code",
   "execution_count": 657,
   "metadata": {
    "ExecuteTime": {
     "end_time": "2021-02-07T15:50:48.893220Z",
     "start_time": "2021-02-07T15:50:48.850243Z"
    }
   },
   "outputs": [],
   "source": [
    "X = data.drop(columns=columns_to_drop)\n",
    "y = data['target']"
   ]
  },
  {
   "cell_type": "code",
   "execution_count": 658,
   "metadata": {
    "ExecuteTime": {
     "end_time": "2021-02-07T15:50:49.444903Z",
     "start_time": "2021-02-07T15:50:49.431912Z"
    }
   },
   "outputs": [],
   "source": [
    "categorical_features = ['Type', 'Gender', 'Age range', 'Officer-defined ethnicity',\n",
    "       'Object of search', 'station']"
   ]
  },
  {
   "cell_type": "code",
   "execution_count": 659,
   "metadata": {
    "ExecuteTime": {
     "end_time": "2021-02-07T15:50:50.132547Z",
     "start_time": "2021-02-07T15:50:49.977636Z"
    }
   },
   "outputs": [],
   "source": [
    "X_train, X_test, y_train, y_test = train_test_split(X, y, test_size=0.25, random_state=42)"
   ]
  },
  {
   "cell_type": "markdown",
   "metadata": {
    "ExecuteTime": {
     "end_time": "2021-02-07T15:10:48.461288Z",
     "start_time": "2021-02-07T15:10:43.042384Z"
    }
   },
   "source": [
    "train = X_train.join(y_train)\n",
    "\n",
    "train = (\n",
    "    train\n",
    "    .append(train[train['Officer-defined ethnicity']=='Black'])\n",
    "    .append(train[train['Officer-defined ethnicity']=='Black'])\n",
    "    .append(train[train['Officer-defined ethnicity']=='Black'])\n",
    "    .append(train[train['Officer-defined ethnicity']=='Black'])\n",
    "    .append(train[train['Officer-defined ethnicity']=='Black'])\n",
    "    .append(train[train['Officer-defined ethnicity']=='Black'])\n",
    "    .append(train[train['Officer-defined ethnicity']=='Asian'])\n",
    "    .append(train[train['Officer-defined ethnicity']=='Asian'])\n",
    "    .append(train[train['Officer-defined ethnicity']=='Asian'])\n",
    "    .append(train[train['Officer-defined ethnicity']=='Asian'])\n",
    "    .append(train[train['Officer-defined ethnicity']=='Asian'])\n",
    "    .append(train[train['Officer-defined ethnicity']=='Asian'])\n",
    "    .append(train[train['Officer-defined ethnicity']=='Asian'])\n",
    "    .append(train[train['Officer-defined ethnicity']=='Asian'])\n",
    "    .append(train[train['Officer-defined ethnicity']=='Other'])\n",
    "    .append(train[train['Officer-defined ethnicity']=='Other'])\n",
    "    .append(train[train['Officer-defined ethnicity']=='Other'])\n",
    "    .append(train[train['Officer-defined ethnicity']=='Other'])\n",
    "    .append(train[train['Officer-defined ethnicity']=='Other'])\n",
    "    .append(train[train['Officer-defined ethnicity']=='Other'])\n",
    "    .append(train[train['Officer-defined ethnicity']=='Other'])\n",
    "    .append(train[train['Officer-defined ethnicity']=='Other'])\n",
    "    .append(train[train['Officer-defined ethnicity']=='Other'])\n",
    "    .append(train[train['Officer-defined ethnicity']=='Other'])\n",
    "    .append(train[train['Officer-defined ethnicity']=='Other'])\n",
    "    .append(train[train['Officer-defined ethnicity']=='Other'])\n",
    "    .append(train[train['Officer-defined ethnicity']=='Other'])\n",
    "    .append(train[train['Officer-defined ethnicity']=='Other'])\n",
    "    .append(train[train['Officer-defined ethnicity']=='Other'])\n",
    "    .append(train[train['Officer-defined ethnicity']=='Other'])\n",
    "    .append(train[train['Officer-defined ethnicity']=='Other'])\n",
    "    .append(train[train['Officer-defined ethnicity']=='Other'])\n",
    "    .append(train[train['Officer-defined ethnicity']=='Other'])\n",
    "    .append(train[train['Officer-defined ethnicity']=='Other'])\n",
    "    .append(train[train['Officer-defined ethnicity']=='Other'])\n",
    "    .append(train[train['Officer-defined ethnicity']=='Other'])\n",
    "    .append(train[train['Officer-defined ethnicity']=='Other'])\n",
    "    .append(train[train['Officer-defined ethnicity']=='Other'])\n",
    "    .append(train[train['Officer-defined ethnicity']=='Other'])\n",
    "    .append(train[train['Officer-defined ethnicity']=='Other'])\n",
    "    .append(train[train['Officer-defined ethnicity']=='Other'])\n",
    "    .append(train[train['Officer-defined ethnicity']=='Other'])\n",
    "    .append(train[train['Officer-defined ethnicity']=='Other'])\n",
    "    .append(train[train['Officer-defined ethnicity']=='Other'])\n",
    "    .append(train[train['Officer-defined ethnicity']=='Other'])\n",
    "    .append(train[train['Officer-defined ethnicity']=='Other'])\n",
    "    .append(train[train['Officer-defined ethnicity']=='Other'])\n",
    "    .append(train[train['Officer-defined ethnicity']=='Other'])\n",
    "    .append(train[train['Officer-defined ethnicity']=='Other'])\n",
    "    .append(train[train['Officer-defined ethnicity']=='Other'])\n",
    "    .append(train[train['Officer-defined ethnicity']=='Mixed'])\n",
    "    .append(train[train['Officer-defined ethnicity']=='Mixed'])\n",
    "    .append(train[train['Officer-defined ethnicity']=='Mixed'])\n",
    "    .append(train[train['Officer-defined ethnicity']=='Mixed'])\n",
    "    .append(train[train['Officer-defined ethnicity']=='Mixed'])\n",
    "    .append(train[train['Officer-defined ethnicity']=='Mixed'])\n",
    "    .append(train[train['Officer-defined ethnicity']=='Mixed'])\n",
    "    .append(train[train['Officer-defined ethnicity']=='Mixed'])\n",
    "    .append(train[train['Officer-defined ethnicity']=='Mixed'])\n",
    "    .append(train[train['Officer-defined ethnicity']=='Mixed'])\n",
    "    .append(train[train['Officer-defined ethnicity']=='Mixed'])\n",
    "    .append(train[train['Officer-defined ethnicity']=='Mixed'])\n",
    "    .append(train[train['Officer-defined ethnicity']=='Mixed'])\n",
    "    .append(train[train['Officer-defined ethnicity']=='Mixed'])\n",
    "    .append(train[train['Officer-defined ethnicity']=='Mixed'])\n",
    "    .append(train[train['Officer-defined ethnicity']=='Mixed'])\n",
    "    .append(train[train['Officer-defined ethnicity']=='Mixed'])\n",
    "    .append(train[train['Officer-defined ethnicity']=='Mixed'])\n",
    "    .append(train[train['Officer-defined ethnicity']=='Mixed'])\n",
    "    .append(train[train['Officer-defined ethnicity']=='Mixed'])\n",
    "    .append(train[train['Officer-defined ethnicity']=='Mixed'])\n",
    "    .append(train[train['Officer-defined ethnicity']=='Mixed'])\n",
    "    .append(train[train['Officer-defined ethnicity']=='Mixed'])\n",
    "    .append(train[train['Officer-defined ethnicity']=='Mixed'])\n",
    "    .append(train[train['Officer-defined ethnicity']=='Mixed'])\n",
    "    .append(train[train['Officer-defined ethnicity']=='Mixed'])\n",
    "    .append(train[train['Officer-defined ethnicity']=='Mixed'])\n",
    "    .append(train[train['Officer-defined ethnicity']=='Mixed'])\n",
    ")\n",
    "\n",
    "X_train = train[categorical_features]\n",
    "y_train = train['target']"
   ]
  },
  {
   "cell_type": "code",
   "execution_count": 660,
   "metadata": {
    "ExecuteTime": {
     "end_time": "2021-02-07T15:50:50.719761Z",
     "start_time": "2021-02-07T15:50:50.706749Z"
    }
   },
   "outputs": [],
   "source": [
    "categorical_transformer = Pipeline(steps=[('onehot', OneHotEncoder(handle_unknown='ignore'))])\n",
    "\n",
    "preprocessor = ColumnTransformer(\n",
    "    transformers=[('cat', categorical_transformer, categorical_features)])\n",
    "\n",
    "pipeline = make_pipeline(\n",
    "    preprocessor,\n",
    "    RandomForestClassifier(n_jobs=-1, random_state=42, max_depth = 10, min_samples_split= 500, n_estimators=7, max_leaf_nodes=5),\n",
    ")"
   ]
  },
  {
   "cell_type": "code",
   "execution_count": 661,
   "metadata": {
    "ExecuteTime": {
     "end_time": "2021-02-07T15:50:52.221130Z",
     "start_time": "2021-02-07T15:50:51.286455Z"
    }
   },
   "outputs": [
    {
     "data": {
      "text/plain": [
       "Pipeline(steps=[('columntransformer',\n",
       "                 ColumnTransformer(transformers=[('cat',\n",
       "                                                  Pipeline(steps=[('onehot',\n",
       "                                                                   OneHotEncoder(handle_unknown='ignore'))]),\n",
       "                                                  ['Type', 'Gender',\n",
       "                                                   'Age range',\n",
       "                                                   'Officer-defined ethnicity',\n",
       "                                                   'Object of search',\n",
       "                                                   'station'])])),\n",
       "                ('randomforestclassifier',\n",
       "                 RandomForestClassifier(max_depth=10, max_leaf_nodes=5,\n",
       "                                        min_samples_split=500, n_estimators=7,\n",
       "                                        n_jobs=-1, random_state=42))])"
      ]
     },
     "execution_count": 661,
     "metadata": {},
     "output_type": "execute_result"
    }
   ],
   "source": [
    "pipeline.fit(X_train, y_train)"
   ]
  },
  {
   "cell_type": "code",
   "execution_count": 662,
   "metadata": {
    "ExecuteTime": {
     "end_time": "2021-02-07T15:50:53.129937Z",
     "start_time": "2021-02-07T15:50:52.801797Z"
    }
   },
   "outputs": [],
   "source": [
    "preds = pipeline.predict(X_test)"
   ]
  },
  {
   "cell_type": "code",
   "execution_count": 663,
   "metadata": {
    "ExecuteTime": {
     "end_time": "2021-02-07T15:50:53.697909Z",
     "start_time": "2021-02-07T15:50:53.683897Z"
    }
   },
   "outputs": [
    {
     "data": {
      "text/plain": [
       "77261"
      ]
     },
     "execution_count": 663,
     "metadata": {},
     "output_type": "execute_result"
    }
   ],
   "source": [
    "len(preds)"
   ]
  },
  {
   "cell_type": "code",
   "execution_count": 664,
   "metadata": {
    "ExecuteTime": {
     "end_time": "2021-02-07T15:50:54.328886Z",
     "start_time": "2021-02-07T15:50:54.319893Z"
    }
   },
   "outputs": [],
   "source": [
    "def verify_success_rate_above(y_true, y_pred, min_success_rate=0.5):\n",
    "    \"\"\"\n",
    "    Verifies the success rate on a test set is above a provided minimum\n",
    "    \n",
    "    \n",
    "    \"\"\"\n",
    "    \n",
    "    precision = precision_score(y_true, y_pred, pos_label=True)\n",
    "    is_satisfied = (precision >= min_success_rate)\n",
    "    \n",
    "    return is_satisfied, precision\n"
   ]
  },
  {
   "cell_type": "code",
   "execution_count": 665,
   "metadata": {
    "ExecuteTime": {
     "end_time": "2021-02-07T15:50:54.917313Z",
     "start_time": "2021-02-07T15:50:54.904300Z"
    }
   },
   "outputs": [],
   "source": [
    "def verify_amount_found(y_true, y_pred):\n",
    "    \"\"\"\n",
    "    Verifies the amout of contraband found in the test dataset - a.k.a the recall in our test set\n",
    "    \"\"\"\n",
    "    \n",
    "    recall = recall_score(y_true, y_pred)    \n",
    "    return recall"
   ]
  },
  {
   "cell_type": "code",
   "execution_count": 666,
   "metadata": {
    "ExecuteTime": {
     "end_time": "2021-02-07T15:50:55.500162Z",
     "start_time": "2021-02-07T15:50:55.456204Z"
    }
   },
   "outputs": [
    {
     "data": {
      "text/plain": [
       "(True, 0.8486707566462167)"
      ]
     },
     "execution_count": 666,
     "metadata": {},
     "output_type": "execute_result"
    }
   ],
   "source": [
    "verify_success_rate_above(y_test, preds)"
   ]
  },
  {
   "cell_type": "code",
   "execution_count": 667,
   "metadata": {
    "ExecuteTime": {
     "end_time": "2021-02-07T15:50:56.117677Z",
     "start_time": "2021-02-07T15:50:56.073683Z"
    }
   },
   "outputs": [
    {
     "data": {
      "text/plain": [
       "0.08229555009121917"
      ]
     },
     "execution_count": 667,
     "metadata": {},
     "output_type": "execute_result"
    }
   ],
   "source": [
    "verify_amount_found(y_test, preds)"
   ]
  },
  {
   "cell_type": "code",
   "execution_count": 668,
   "metadata": {
    "ExecuteTime": {
     "end_time": "2021-02-07T15:50:57.280034Z",
     "start_time": "2021-02-07T15:50:56.683466Z"
    }
   },
   "outputs": [
    {
     "name": "stdout",
     "output_type": "stream",
     "text": [
      "Feature ranking:\n",
      "1. feature station_btp (0.200318)\n",
      "2. feature station_west-yorkshire (0.184294)\n",
      "3. feature station_northumbria (0.079439)\n",
      "4. feature Object of search_Controlled drugs (0.078824)\n",
      "5. feature station_west-mercia (0.063652)\n",
      "6. feature station_derbyshire (0.059296)\n",
      "7. feature station_warwickshire (0.059184)\n"
     ]
    },
    {
     "data": {
      "image/png": "[encoded data removed]",
      "text/plain": [
       "<Figure size 432x288 with 1 Axes>"
      ]
     },
     "metadata": {
      "needs_background": "light"
     },
     "output_type": "display_data"
    }
   ],
   "source": [
    "numerical_features = []\n",
    "categorical_encode_step = pipeline.named_steps['columntransformer'].named_transformers_['cat'].named_steps['onehot']\n",
    "random_forest_step = pipeline.named_steps['randomforestclassifier']\n",
    "\n",
    "onehot_columns = categorical_encode_step.get_feature_names(input_features=categorical_features)\n",
    "\n",
    "importances = pd.Series(data=random_forest_step.feature_importances_, index = np.array(numerical_features + list(onehot_columns)))\n",
    "\n",
    "indices = np.argsort(importances)[::-1]\n",
    "print(\"Feature ranking:\")\n",
    "\n",
    "for f in range(X_train.shape[1]):\n",
    "    print(\"%d. feature %s (%f)\" % (f + 1, importances.index[indices[f]], importances[indices[f]]))\n",
    "\n",
    "std = np.std([tree.feature_importances_ for tree in random_forest_step.estimators_], axis=0)\n",
    "\n",
    "plt.figure()\n",
    "plt.title(\"Feature importances\")\n",
    "plt.bar(x=importances.index[indices], height=importances[indices],\n",
    "        color=\"r\", yerr=std[indices], align=\"center\");\n",
    "plt.xticks(range(len(importances.index[indices])), importances.index[indices], rotation=45, ha=\"right\")\n",
    "plt.xlim([-1, X_train.shape[1]])\n",
    "plt.xlabel('Features');\n",
    "plt.ylabel('Importance');\n",
    "\n",
    "plt.show()"
   ]
  },
  {
   "cell_type": "code",
   "execution_count": 669,
   "metadata": {
    "ExecuteTime": {
     "end_time": "2021-02-07T15:50:57.819876Z",
     "start_time": "2021-02-07T15:50:57.790849Z"
    }
   },
   "outputs": [],
   "source": [
    "roc_auc = roc_auc_score(y_test, preds)"
   ]
  },
  {
   "cell_type": "code",
   "execution_count": 670,
   "metadata": {
    "ExecuteTime": {
     "end_time": "2021-02-07T15:50:58.446234Z",
     "start_time": "2021-02-07T15:50:58.419027Z"
    }
   },
   "outputs": [],
   "source": [
    "fpr, tpr, thresholds = roc_curve(y_test, preds)"
   ]
  },
  {
   "cell_type": "code",
   "execution_count": 671,
   "metadata": {
    "ExecuteTime": {
     "end_time": "2021-02-07T15:50:58.987379Z",
     "start_time": "2021-02-07T15:50:58.975086Z"
    },
    "scrolled": true
   },
   "outputs": [],
   "source": [
    "def plot_roc_curve(roc_auc, fpr, tpr):\n",
    "    # Function to plot ROC Curve\n",
    "    # Inputs: \n",
    "    #     roc_auc - AU ROC value (float)\n",
    "    #     fpr - false positive rate (output of roc_curve()) array\n",
    "    #     tpr - true positive rate (output of roc_curve()) array\n",
    "    plt.figure(figsize=(8, 6))\n",
    "    lw = 2\n",
    "    plt.plot(fpr, tpr, color='orange', lw=lw, label='ROC curve (AUROC = %0.2f)' % roc_auc)\n",
    "    plt.plot([0, 1], [0, 1], color='navy', lw=lw, linestyle='--', label='random')\n",
    "    plt.xlim([0.0, 1.0])\n",
    "    plt.ylim([0.0, 1.05])\n",
    "    plt.grid()\n",
    "    plt.xlabel('False Positive Rate')\n",
    "    plt.ylabel('True Positive Rate')\n",
    "    plt.title('Receiver operating characteristic example')\n",
    "    plt.legend(loc=\"lower right\")\n",
    "    plt.show()"
   ]
  },
  {
   "cell_type": "code",
   "execution_count": 672,
   "metadata": {
    "ExecuteTime": {
     "end_time": "2021-02-07T15:50:59.592202Z",
     "start_time": "2021-02-07T15:50:59.495257Z"
    }
   },
   "outputs": [],
   "source": [
    "confmat = confusion_matrix(y_test, preds)"
   ]
  },
  {
   "cell_type": "code",
   "execution_count": 673,
   "metadata": {
    "ExecuteTime": {
     "end_time": "2021-02-07T15:51:00.203876Z",
     "start_time": "2021-02-07T15:51:00.191858Z"
    }
   },
   "outputs": [],
   "source": [
    "def make_confmat_pretty(confmat):\n",
    "    # Plot the confusion matrix\n",
    "    fig, ax = plt.subplots(figsize=(4, 4))\n",
    "    ax.matshow(confmat, cmap=plt.cm.Blues, alpha=0.4)\n",
    "    for i in range(confmat.shape[0]):\n",
    "        for j in range(confmat.shape[1]):\n",
    "            ax.text(x=j, y=i,\n",
    "                    s=confmat[i, j],\n",
    "                    va='center', ha='center')\n",
    "    plt.xlabel('predicted label')\n",
    "    plt.ylabel('true label')\n",
    "    plt.title('Confusion Matrix')\n",
    "    plt.show()"
   ]
  },
  {
   "cell_type": "code",
   "execution_count": 674,
   "metadata": {
    "ExecuteTime": {
     "end_time": "2021-02-07T15:51:00.756339Z",
     "start_time": "2021-02-07T15:51:00.728316Z"
    }
   },
   "outputs": [
    {
     "data": {
      "text/plain": [
       "0.6957197033432133"
      ]
     },
     "execution_count": 674,
     "metadata": {},
     "output_type": "execute_result"
    }
   ],
   "source": [
    "accuracy_score(y_test, preds)"
   ]
  },
  {
   "cell_type": "code",
   "execution_count": 675,
   "metadata": {
    "ExecuteTime": {
     "end_time": "2021-02-07T15:51:01.307265Z",
     "start_time": "2021-02-07T15:51:01.295263Z"
    }
   },
   "outputs": [],
   "source": [
    "def verify_no_discrimination(X_test, y_true, y_pred, sensitive_column='Officer-defined ethnicity', max_diff=0.10, min_samples=500):\n",
    "    \"\"\"\n",
    "    Verifies that no subdeparment has discrimination in between protected races\n",
    "    \n",
    "    \n",
    "    \"\"\"\n",
    "    \n",
    "    departments = X_test['station'].unique()\n",
    "    sensitive_classes = X_test[sensitive_column].unique()\n",
    "    \n",
    "    is_satisfied = True\n",
    "    problematic_departments = []\n",
    "    good_deparments = []\n",
    "    for department in departments:\n",
    "        precisions = {}\n",
    "        for sensitive_class in sensitive_classes:\n",
    "            mask = (X_test[sensitive_column] == sensitive_class) & (X_test['station'] == department)\n",
    "            if mask.sum():\n",
    "                precisions[sensitive_class] = precision_score(y_true[mask], y_pred[mask], pos_label=1)\n",
    "                \n",
    "        if len(precisions) > 1:    \n",
    "            diff = np.max(list(precisions.values())) - np.min(list(precisions.values()))\n",
    "\n",
    "            if diff > max_diff:\n",
    "                is_satisfied = False\n",
    "                problematic_departments.append((department, diff, precisions))\n",
    "            else:\n",
    "                good_deparments.append((department, diff, precisions))\n",
    "        else:\n",
    "            ignored_departments.append((department, None, []))\n",
    "    \n",
    "    global_precisions = {}\n",
    "    for sensitive_class in sensitive_classes:\n",
    "        mask = (X_test[sensitive_column] == sensitive_class)\n",
    "        if np.sum(mask) > min_samples:\n",
    "            global_precisions[sensitive_class] = precision_score(y_true[mask], y_pred[mask], pos_label=1)\n",
    "    \n",
    "    if len(precisions) > 1:    \n",
    "        diff = np.max(list(precisions.values())) - np.min(list(precisions.values()))\n",
    "        if diff > max_diff:\n",
    "            is_satisfied = False\n",
    "        \n",
    "    return is_satisfied, problematic_departments, good_deparments, global_precisions"
   ]
  },
  {
   "cell_type": "code",
   "execution_count": 676,
   "metadata": {
    "ExecuteTime": {
     "end_time": "2021-02-07T15:51:04.243759Z",
     "start_time": "2021-02-07T15:51:01.824960Z"
    }
   },
   "outputs": [
    {
     "name": "stderr",
     "output_type": "stream",
     "text": [
      "C:\\Users\\ZukiPC\\anaconda3\\lib\\site-packages\\sklearn\\metrics\\_classification.py:1221: UndefinedMetricWarning: Precision is ill-defined and being set to 0.0 due to no predicted samples. Use `zero_division` parameter to control this behavior.\n",
      "  _warn_prf(average, modifier, msg_start, len(result))\n"
     ]
    },
    {
     "name": "stdout",
     "output_type": "stream",
     "text": [
      "Requirement satisfied! 🚀\n",
      "avg diff: nan\n"
     ]
    },
    {
     "name": "stderr",
     "output_type": "stream",
     "text": [
      "C:\\Users\\ZukiPC\\anaconda3\\lib\\site-packages\\numpy\\core\\fromnumeric.py:3335: RuntimeWarning: Mean of empty slice.\n",
      "  out=out, **kwargs)\n",
      "C:\\Users\\ZukiPC\\anaconda3\\lib\\site-packages\\numpy\\core\\_methods.py:161: RuntimeWarning: invalid value encountered in double_scalars\n",
      "  ret = ret.dtype.type(ret / rcount)\n"
     ]
    }
   ],
   "source": [
    "is_satisfied, problematic_departments, good_deparments, global_precisions  = verify_no_discrimination(\n",
    "    X_test, y_test, preds)\n",
    "\n",
    "if not is_satisfied:\n",
    "    print(\"Requirement failed 😢\")\n",
    "    print(\"Num problematic departments: {}\".format(len(problematic_departments)))\n",
    "    print(\"Num good departments: {}\".format(len(good_deparments)))\n",
    "else:\n",
    "    print(\"Requirement satisfied! 🚀\")\n",
    "\n",
    "print(\"avg diff:\", np.mean([p[1] for p in problematic_departments]))"
   ]
  },
  {
   "cell_type": "code",
   "execution_count": 677,
   "metadata": {
    "ExecuteTime": {
     "end_time": "2021-02-07T15:51:05.843230Z",
     "start_time": "2021-02-07T15:51:04.785836Z"
    }
   },
   "outputs": [
    {
     "name": "stderr",
     "output_type": "stream",
     "text": [
      "C:\\Users\\ZukiPC\\anaconda3\\lib\\site-packages\\sklearn\\metrics\\_classification.py:1221: UndefinedMetricWarning: Precision is ill-defined and being set to 0.0 due to no predicted samples. Use `zero_division` parameter to control this behavior.\n",
      "  _warn_prf(average, modifier, msg_start, len(result))\n"
     ]
    },
    {
     "name": "stdout",
     "output_type": "stream",
     "text": [
      "Requirement satisfied! 🚀\n",
      "avg diff: nan\n"
     ]
    },
    {
     "name": "stderr",
     "output_type": "stream",
     "text": [
      "C:\\Users\\ZukiPC\\anaconda3\\lib\\site-packages\\numpy\\core\\fromnumeric.py:3335: RuntimeWarning: Mean of empty slice.\n",
      "  out=out, **kwargs)\n",
      "C:\\Users\\ZukiPC\\anaconda3\\lib\\site-packages\\numpy\\core\\_methods.py:161: RuntimeWarning: invalid value encountered in double_scalars\n",
      "  ret = ret.dtype.type(ret / rcount)\n"
     ]
    }
   ],
   "source": [
    "is_satisfied, problematic_departments, good_deparments, global_precisions  = verify_no_discrimination(\n",
    "    X_test, y_test, preds, sensitive_column='Gender')\n",
    "\n",
    "if not is_satisfied:\n",
    "    print(\"Requirement failed 😢\")\n",
    "    print(\"Num problematic departments: {}\".format(len(problematic_departments)))\n",
    "    print(\"Num good departments: {}\".format(len(good_deparments)))\n",
    "else:\n",
    "    print(\"Requirement satisfied! 🚀\")\n",
    "\n",
    "print(\"avg diff:\", np.mean([p[1] for p in problematic_departments]))"
   ]
  },
  {
   "cell_type": "code",
   "execution_count": 678,
   "metadata": {
    "ExecuteTime": {
     "end_time": "2021-02-07T15:51:06.678572Z",
     "start_time": "2021-02-07T15:51:06.368003Z"
    }
   },
   "outputs": [],
   "source": [
    "proba = pipeline.predict_proba(X_test)\n",
    "precision, recall, thresholds = precision_recall_curve(y_test, proba[:, 1])"
   ]
  },
  {
   "cell_type": "code",
   "execution_count": 679,
   "metadata": {
    "ExecuteTime": {
     "end_time": "2021-02-07T15:51:07.260725Z",
     "start_time": "2021-02-07T15:51:07.247720Z"
    }
   },
   "outputs": [
    {
     "name": "stdout",
     "output_type": "stream",
     "text": [
      "67 67 66\n"
     ]
    }
   ],
   "source": [
    "print(len(precision), len(recall), len(thresholds))"
   ]
  },
  {
   "cell_type": "code",
   "execution_count": 680,
   "metadata": {
    "ExecuteTime": {
     "end_time": "2021-02-07T15:51:07.855742Z",
     "start_time": "2021-02-07T15:51:07.843537Z"
    }
   },
   "outputs": [],
   "source": [
    "precision = precision[:-1]\n",
    "recall = recall[:-1]"
   ]
  },
  {
   "cell_type": "code",
   "execution_count": 681,
   "metadata": {
    "ExecuteTime": {
     "end_time": "2021-02-07T15:51:09.363105Z",
     "start_time": "2021-02-07T15:51:09.126244Z"
    }
   },
   "outputs": [
    {
     "data": {
      "image/png": "[encoded data removed]",
      "text/plain": [
       "<Figure size 432x288 with 2 Axes>"
      ]
     },
     "metadata": {
      "needs_background": "light"
     },
     "output_type": "display_data"
    }
   ],
   "source": [
    "fig=plt.figure()\n",
    "ax1 = plt.subplot(211)\n",
    "ax2 = plt.subplot(212)\n",
    "ax1.hlines(y=0.82,xmin=0, xmax=1, colors='red')\n",
    "ax1.hlines(y=0.3263483,xmin=0, xmax=1, colors='green')\n",
    "ax1.plot(thresholds,precision)\n",
    "ax2.plot(thresholds,recall)\n",
    "ax1.get_shared_x_axes().join(ax1, ax2)\n",
    "ax1.set_xticklabels([])\n",
    "ax1.set_title('Precision')\n",
    "ax2.set_title('Recall')\n",
    "plt.xlabel('Threshold')\n",
    "plt.show()"
   ]
  },
  {
   "cell_type": "code",
   "execution_count": 682,
   "metadata": {
    "ExecuteTime": {
     "end_time": "2021-02-07T15:51:11.874382Z",
     "start_time": "2021-02-07T15:51:11.864388Z"
    }
   },
   "outputs": [
    {
     "name": "stdout",
     "output_type": "stream",
     "text": [
      "60\n"
     ]
    }
   ],
   "source": [
    "min_index = [i for i, prec in enumerate(precision) if prec >= 0.82][0]\n",
    "print(min_index)"
   ]
  },
  {
   "cell_type": "code",
   "execution_count": 683,
   "metadata": {
    "ExecuteTime": {
     "end_time": "2021-02-07T15:51:12.524031Z",
     "start_time": "2021-02-07T15:51:12.512017Z"
    }
   },
   "outputs": [
    {
     "data": {
      "text/plain": [
       "0.8227468615326963"
      ]
     },
     "execution_count": 683,
     "metadata": {},
     "output_type": "execute_result"
    }
   ],
   "source": [
    "precision[min_index]"
   ]
  },
  {
   "cell_type": "code",
   "execution_count": 684,
   "metadata": {
    "ExecuteTime": {
     "end_time": "2021-02-07T15:51:13.219817Z",
     "start_time": "2021-02-07T15:51:13.207825Z"
    }
   },
   "outputs": [
    {
     "data": {
      "text/plain": [
       "0.17414928214484016"
      ]
     },
     "execution_count": 684,
     "metadata": {},
     "output_type": "execute_result"
    }
   ],
   "source": [
    "recall[min_index]"
   ]
  },
  {
   "cell_type": "code",
   "execution_count": 685,
   "metadata": {
    "ExecuteTime": {
     "end_time": "2021-02-07T15:51:13.959979Z",
     "start_time": "2021-02-07T15:51:13.946987Z"
    }
   },
   "outputs": [
    {
     "data": {
      "text/plain": [
       "0.4490314298609562"
      ]
     },
     "execution_count": 685,
     "metadata": {},
     "output_type": "execute_result"
    }
   ],
   "source": [
    "thresholds[min_index]"
   ]
  },
  {
   "cell_type": "code",
   "execution_count": 686,
   "metadata": {
    "ExecuteTime": {
     "end_time": "2021-02-07T15:51:14.633570Z",
     "start_time": "2021-02-07T15:51:14.574607Z"
    }
   },
   "outputs": [],
   "source": [
    "best_preds = [1 if prob > thresholds[min_index] else 0 for prob in proba[:, 1]]"
   ]
  },
  {
   "cell_type": "code",
   "execution_count": 687,
   "metadata": {
    "ExecuteTime": {
     "end_time": "2021-02-07T15:51:15.247012Z",
     "start_time": "2021-02-07T15:51:15.233998Z"
    }
   },
   "outputs": [
    {
     "data": {
      "text/plain": [
       "4819"
      ]
     },
     "execution_count": 687,
     "metadata": {},
     "output_type": "execute_result"
    }
   ],
   "source": [
    "np.array(best_preds).sum()"
   ]
  },
  {
   "cell_type": "code",
   "execution_count": 688,
   "metadata": {
    "ExecuteTime": {
     "end_time": "2021-02-07T15:51:16.427042Z",
     "start_time": "2021-02-07T15:51:16.219418Z"
    }
   },
   "outputs": [
    {
     "data": {
      "image/png": "[encoded data removed]",
      "text/plain": [
       "<Figure size 576x432 with 1 Axes>"
      ]
     },
     "metadata": {
      "needs_background": "light"
     },
     "output_type": "display_data"
    }
   ],
   "source": [
    "fpr, tpr, thresholds = roc_curve(y_test, best_preds)\n",
    "plot_roc_curve(roc_auc=roc_auc, fpr=fpr, tpr=tpr)"
   ]
  },
  {
   "cell_type": "code",
   "execution_count": 689,
   "metadata": {
    "ExecuteTime": {
     "end_time": "2021-02-07T15:51:18.645472Z",
     "start_time": "2021-02-07T15:51:18.630461Z"
    }
   },
   "outputs": [
    {
     "data": {
      "text/plain": [
       "77261"
      ]
     },
     "execution_count": 689,
     "metadata": {},
     "output_type": "execute_result"
    }
   ],
   "source": [
    "len(best_preds)"
   ]
  },
  {
   "cell_type": "code",
   "execution_count": 690,
   "metadata": {
    "ExecuteTime": {
     "end_time": "2021-02-07T15:51:19.288666Z",
     "start_time": "2021-02-07T15:51:19.260661Z"
    }
   },
   "outputs": [
    {
     "data": {
      "text/plain": [
       "4819"
      ]
     },
     "execution_count": 690,
     "metadata": {},
     "output_type": "execute_result"
    }
   ],
   "source": [
    "np.array(best_preds).sum()"
   ]
  },
  {
   "cell_type": "code",
   "execution_count": 691,
   "metadata": {
    "ExecuteTime": {
     "end_time": "2021-02-07T15:51:21.936985Z",
     "start_time": "2021-02-07T15:51:21.845018Z"
    },
    "scrolled": true
   },
   "outputs": [
    {
     "data": {
      "text/plain": [
       "(True, 0.8240298817181988)"
      ]
     },
     "execution_count": 691,
     "metadata": {},
     "output_type": "execute_result"
    }
   ],
   "source": [
    "verify_success_rate_above(y_test, best_preds)"
   ]
  },
  {
   "cell_type": "code",
   "execution_count": 692,
   "metadata": {
    "ExecuteTime": {
     "end_time": "2021-02-07T15:51:22.568265Z",
     "start_time": "2021-02-07T15:51:22.491307Z"
    }
   },
   "outputs": [
    {
     "data": {
      "text/plain": [
       "0.15749186959625605"
      ]
     },
     "execution_count": 692,
     "metadata": {},
     "output_type": "execute_result"
    }
   ],
   "source": [
    "verify_amount_found(y_test, best_preds)"
   ]
  },
  {
   "cell_type": "code",
   "execution_count": 693,
   "metadata": {
    "ExecuteTime": {
     "end_time": "2021-02-07T15:51:23.213796Z",
     "start_time": "2021-02-07T15:51:23.170823Z"
    }
   },
   "outputs": [
    {
     "data": {
      "text/plain": [
       "0.7140730769728583"
      ]
     },
     "execution_count": 693,
     "metadata": {},
     "output_type": "execute_result"
    }
   ],
   "source": [
    "accuracy_score(y_test, best_preds)"
   ]
  },
  {
   "cell_type": "code",
   "execution_count": 694,
   "metadata": {
    "ExecuteTime": {
     "end_time": "2021-02-07T15:51:24.032963Z",
     "start_time": "2021-02-07T15:51:23.800064Z"
    }
   },
   "outputs": [
    {
     "data": {
      "image/png": "[encoded data removed]",
      "text/plain": [
       "<Figure size 288x288 with 1 Axes>"
      ]
     },
     "metadata": {
      "needs_background": "light"
     },
     "output_type": "display_data"
    }
   ],
   "source": [
    "confmat = confusion_matrix(y_test, best_preds)  \n",
    "make_confmat_pretty(confmat=confmat)"
   ]
  },
  {
   "cell_type": "code",
   "execution_count": 695,
   "metadata": {
    "ExecuteTime": {
     "end_time": "2021-02-07T15:51:28.527339Z",
     "start_time": "2021-02-07T15:51:26.071726Z"
    }
   },
   "outputs": [
    {
     "name": "stderr",
     "output_type": "stream",
     "text": [
      "C:\\Users\\ZukiPC\\anaconda3\\lib\\site-packages\\sklearn\\metrics\\_classification.py:1221: UndefinedMetricWarning: Precision is ill-defined and being set to 0.0 due to no predicted samples. Use `zero_division` parameter to control this behavior.\n",
      "  _warn_prf(average, modifier, msg_start, len(result))\n"
     ]
    },
    {
     "name": "stdout",
     "output_type": "stream",
     "text": [
      "Requirement satisfied! 🚀\n",
      "avg diff: nan\n"
     ]
    },
    {
     "name": "stderr",
     "output_type": "stream",
     "text": [
      "C:\\Users\\ZukiPC\\anaconda3\\lib\\site-packages\\numpy\\core\\fromnumeric.py:3335: RuntimeWarning: Mean of empty slice.\n",
      "  out=out, **kwargs)\n",
      "C:\\Users\\ZukiPC\\anaconda3\\lib\\site-packages\\numpy\\core\\_methods.py:161: RuntimeWarning: invalid value encountered in double_scalars\n",
      "  ret = ret.dtype.type(ret / rcount)\n"
     ]
    }
   ],
   "source": [
    "is_satisfied, problematic_departments, good_deparments, global_precisions  = verify_no_discrimination(\n",
    "    X_test, y_test, np.array(best_preds))\n",
    "\n",
    "if not is_satisfied:\n",
    "    print(\"Requirement failed 😢\")\n",
    "    print(\"Num problematic departments: {}\".format(len(problematic_departments)))\n",
    "    print(\"Num good departments: {}\".format(len(good_deparments)))\n",
    "else:\n",
    "    print(\"Requirement satisfied! 🚀\")\n",
    "\n",
    "print(\"avg diff:\", np.mean([p[1] for p in problematic_departments]))"
   ]
  },
  {
   "cell_type": "code",
   "execution_count": 696,
   "metadata": {
    "ExecuteTime": {
     "end_time": "2021-02-07T15:51:30.252374Z",
     "start_time": "2021-02-07T15:51:29.109028Z"
    }
   },
   "outputs": [
    {
     "name": "stderr",
     "output_type": "stream",
     "text": [
      "C:\\Users\\ZukiPC\\anaconda3\\lib\\site-packages\\sklearn\\metrics\\_classification.py:1221: UndefinedMetricWarning: Precision is ill-defined and being set to 0.0 due to no predicted samples. Use `zero_division` parameter to control this behavior.\n",
      "  _warn_prf(average, modifier, msg_start, len(result))\n"
     ]
    },
    {
     "name": "stdout",
     "output_type": "stream",
     "text": [
      "Requirement satisfied! 🚀\n",
      "avg diff: nan\n"
     ]
    },
    {
     "name": "stderr",
     "output_type": "stream",
     "text": [
      "C:\\Users\\ZukiPC\\anaconda3\\lib\\site-packages\\numpy\\core\\fromnumeric.py:3335: RuntimeWarning: Mean of empty slice.\n",
      "  out=out, **kwargs)\n",
      "C:\\Users\\ZukiPC\\anaconda3\\lib\\site-packages\\numpy\\core\\_methods.py:161: RuntimeWarning: invalid value encountered in double_scalars\n",
      "  ret = ret.dtype.type(ret / rcount)\n"
     ]
    }
   ],
   "source": [
    "is_satisfied, problematic_departments, good_deparments, global_precisions  = verify_no_discrimination(\n",
    "    X_test, y_test, np.array(best_preds), sensitive_column='Gender')\n",
    "\n",
    "if not is_satisfied:\n",
    "    print(\"Requirement failed 😢\")\n",
    "    print(\"Num problematic departments: {}\".format(len(problematic_departments)))\n",
    "    print(\"Num good departments: {}\".format(len(good_deparments)))\n",
    "else:\n",
    "    print(\"Requirement satisfied! 🚀\")\n",
    "\n",
    "print(\"avg diff:\", np.mean([p[1] for p in problematic_departments]))"
   ]
  },
  {
   "cell_type": "markdown",
   "metadata": {},
   "source": [
    "# Try non Tree model"
   ]
  },
  {
   "cell_type": "code",
   "execution_count": 503,
   "metadata": {
    "ExecuteTime": {
     "end_time": "2021-02-07T15:18:27.116483Z",
     "start_time": "2021-02-07T15:18:27.100492Z"
    }
   },
   "outputs": [],
   "source": [
    "categorical_transformer = Pipeline(steps=[('onehot', OneHotEncoder(handle_unknown='ignore'))])\n",
    "\n",
    "preprocessor = ColumnTransformer(\n",
    "    transformers=[('cat', categorical_transformer, categorical_features)])\n",
    "\n",
    "pipeline = make_pipeline(\n",
    "    preprocessor,\n",
    "    LogisticRegression(max_iter=10, tol=0.1),\n",
    ")"
   ]
  },
  {
   "cell_type": "code",
   "execution_count": 504,
   "metadata": {
    "ExecuteTime": {
     "end_time": "2021-02-07T15:18:32.027621Z",
     "start_time": "2021-02-07T15:18:29.327605Z"
    }
   },
   "outputs": [
    {
     "name": "stderr",
     "output_type": "stream",
     "text": [
      "C:\\Users\\ZukiPC\\anaconda3\\lib\\site-packages\\sklearn\\linear_model\\_logistic.py:764: ConvergenceWarning: lbfgs failed to converge (status=1):\n",
      "STOP: TOTAL NO. of ITERATIONS REACHED LIMIT.\n",
      "\n",
      "Increase the number of iterations (max_iter) or scale the data as shown in:\n",
      "    https://scikit-learn.org/stable/modules/preprocessing.html\n",
      "Please also refer to the documentation for alternative solver options:\n",
      "    https://scikit-learn.org/stable/modules/linear_model.html#logistic-regression\n",
      "  extra_warning_msg=_LOGISTIC_SOLVER_CONVERGENCE_MSG)\n"
     ]
    },
    {
     "data": {
      "text/plain": [
       "Pipeline(steps=[('columntransformer',\n",
       "                 ColumnTransformer(transformers=[('cat',\n",
       "                                                  Pipeline(steps=[('onehot',\n",
       "                                                                   OneHotEncoder(handle_unknown='ignore'))]),\n",
       "                                                  ['Type', 'Gender',\n",
       "                                                   'Age range',\n",
       "                                                   'Officer-defined ethnicity',\n",
       "                                                   'Object of search',\n",
       "                                                   'station'])])),\n",
       "                ('logisticregression',\n",
       "                 LogisticRegression(max_iter=10, tol=0.1))])"
      ]
     },
     "execution_count": 504,
     "metadata": {},
     "output_type": "execute_result"
    }
   ],
   "source": [
    "pipeline.fit(X_train, y_train)"
   ]
  },
  {
   "cell_type": "code",
   "execution_count": null,
   "metadata": {
    "ExecuteTime": {
     "end_time": "2021-02-05T20:21:13.120359Z",
     "start_time": "2021-02-05T20:21:09.439Z"
    }
   },
   "outputs": [],
   "source": [
    "preds2 = pipeline.predict(X_test)"
   ]
  },
  {
   "cell_type": "code",
   "execution_count": null,
   "metadata": {
    "ExecuteTime": {
     "end_time": "2021-02-05T20:21:13.122357Z",
     "start_time": "2021-02-05T20:21:09.444Z"
    }
   },
   "outputs": [],
   "source": [
    "verify_success_rate_above(y_test, preds2)"
   ]
  },
  {
   "cell_type": "code",
   "execution_count": null,
   "metadata": {
    "ExecuteTime": {
     "end_time": "2021-02-05T20:21:13.124357Z",
     "start_time": "2021-02-05T20:21:09.458Z"
    }
   },
   "outputs": [],
   "source": [
    "verify_amount_found(y_test, preds2)"
   ]
  },
  {
   "cell_type": "code",
   "execution_count": null,
   "metadata": {
    "ExecuteTime": {
     "end_time": "2021-02-05T20:21:13.127355Z",
     "start_time": "2021-02-05T20:21:09.464Z"
    }
   },
   "outputs": [],
   "source": [
    "is_satisfied, problematic_departments, good_deparments, global_precisions  = verify_no_discrimination(\n",
    "    X_test, y_test, preds2)\n",
    "\n",
    "if not is_satisfied:\n",
    "    print(\"Requirement failed 😢\")\n",
    "    print(\"Num problematic departments: {}\".format(len(problematic_departments)))\n",
    "    print(\"Num good departments: {}\".format(len(good_deparments)))\n",
    "else:\n",
    "    print(\"Requirement satisfied! 🚀\")\n",
    "\n",
    "print(\"avg diff:\", np.mean([p[1] for p in problematic_departments]))"
   ]
  },
  {
   "cell_type": "code",
   "execution_count": null,
   "metadata": {
    "ExecuteTime": {
     "end_time": "2021-02-05T20:21:13.130353Z",
     "start_time": "2021-02-05T20:21:09.469Z"
    }
   },
   "outputs": [],
   "source": [
    "is_satisfied, problematic_departments, good_deparments, global_precisions  = verify_no_discrimination(\n",
    "    X_test, y_test, preds2, sensitive_column='Gender')\n",
    "\n",
    "if not is_satisfied:\n",
    "    print(\"Requirement failed 😢\")\n",
    "    print(\"Num problematic departments: {}\".format(len(problematic_departments)))\n",
    "    print(\"Num good departments: {}\".format(len(good_deparments)))\n",
    "else:\n",
    "    print(\"Requirement satisfied! 🚀\")\n",
    "\n",
    "print(\"avg diff:\", np.mean([p[1] for p in problematic_departments]))"
   ]
  },
  {
   "cell_type": "code",
   "execution_count": null,
   "metadata": {
    "ExecuteTime": {
     "end_time": "2021-02-05T20:21:13.132352Z",
     "start_time": "2021-02-05T20:21:09.473Z"
    }
   },
   "outputs": [],
   "source": [
    "is_satisfied, problematic_departments, good_deparments, global_precisions  = verify_no_discrimination(\n",
    "    X_test, y_test, preds2, sensitive_column='Age range')\n",
    "\n",
    "if not is_satisfied:\n",
    "    print(\"Requirement failed 😢\")\n",
    "    print(\"Num problematic departments: {}\".format(len(problematic_departments)))\n",
    "    print(\"Num good departments: {}\".format(len(good_deparments)))\n",
    "else:\n",
    "    print(\"Requirement satisfied! 🚀\")\n",
    "\n",
    "print(\"avg diff:\", np.mean([p[1] for p in problematic_departments]))"
   ]
  },
  {
   "cell_type": "code",
   "execution_count": null,
   "metadata": {
    "ExecuteTime": {
     "end_time": "2021-02-05T20:21:13.135357Z",
     "start_time": "2021-02-05T20:21:09.479Z"
    }
   },
   "outputs": [],
   "source": [
    "# data['aux'] = [tuple(data[['station', 'Officer-defined ethnicity', 'Gender']].iloc[i].values) for i in range(data.shape[0])]\n",
    "# data.to_csv('train_with_norelevant.csv')"
   ]
  },
  {
   "cell_type": "code",
   "execution_count": null,
   "metadata": {
    "ExecuteTime": {
     "end_time": "2021-01-31T12:19:19.245921Z",
     "start_time": "2021-01-31T12:19:14.065Z"
    }
   },
   "outputs": [],
   "source": [
    "category_map = {\n",
    "    \"Type\": [\"Person search\", \"Person and Vehicle search\", \"Vehicle search\"],\n",
    "    \"Part of a policing operation\": [True, False],\n",
    "    \"Gender\": [\"Male\", \"Female\"],\n",
    "    \"Age range\": [\"10-17\", \"18-24\", \"25-34\", \"over 34\"],\n",
    "    \"Officer-defined ethnicity\": [\"Asian\", \"White\", \"Black\", \"Other\", \"Mixed\"],\n",
    "    \"Legislation\": ['Misuse of Drugs Act 1971 (section 23)', \n",
    "                    'Police and Criminal Evidence Act 1984 (section 1)', \n",
    "                    'Psychoactive Substances Act 2016 (s36(2))', \n",
    "                    'Criminal Justice Act 1988 (section 139B)',\n",
    "                    'Firearms Act 1968 (section 47)',\n",
    "                    'Poaching Prevention Act 1862 (section 2)',\n",
    "                    'Criminal Justice and Public Order Act 1994 (section 60)',\n",
    "                    'Police and Criminal Evidence Act 1984 (section 6)', \n",
    "                    'Wildlife and Countryside Act 1981 (section 19)', \n",
    "                    'Psychoactive Substances Act 2016 (s37(2))', \n",
    "                    'Aviation Security Act 1982 (section 27(1))', \n",
    "                    'Protection of Badgers Act 1992 (section 11)',\n",
    "                    'Crossbows Act 1987 (section 4)',  \n",
    "                    'Public Stores Act 1875 (section 6)',\n",
    "                    'Customs and Excise Management Act 1979 (section 163)',\n",
    "                    'Deer Act 1991 (section 12)',\n",
    "                    'Conservation of Seals Act 1970 (section 4)'],\n",
    "    \"station\": ['avon-and-somerset',\n",
    "                 'bedfordshire',\n",
    "                 'btp',\n",
    "                 'cambridgeshire',\n",
    "                 'cheshire',\n",
    "                 'city-of-london',\n",
    "                 'cleveland',\n",
    "                 'cumbria',\n",
    "                 'derbyshire',\n",
    "                 'devon-and-cornwall',\n",
    "                 'dorset',\n",
    "                 'durham',\n",
    "                 'dyfed-powys',\n",
    "                 'essex',\n",
    "                 'gloucestershire',\n",
    "                 'greater-manchester',\n",
    "                 'gwent',\n",
    "                 'hampshire',\n",
    "                 'hertfordshire',\n",
    "                 'humberside',\n",
    "                 'kent',\n",
    "                 'lancashire',\n",
    "                 'leicestershire',\n",
    "                 'lincolnshire',\n",
    "                 'merseyside',\n",
    "                 'metropolitan',\n",
    "                 'norfolk',\n",
    "                 'north-wales',\n",
    "                 'north-yorkshire',\n",
    "                 'northamptonshire',\n",
    "                 'northumbria',\n",
    "                 'nottinghamshire',\n",
    "                 'south-yorkshire',\n",
    "                 'staffordshire',\n",
    "                 'suffolk',\n",
    "                 'surrey',\n",
    "                 'sussex',\n",
    "                 'thames-valley',\n",
    "                 'warwickshire',\n",
    "                 'west-mercia',\n",
    "                 'west-yorkshire',\n",
    "                 'wiltshire']\n",
    "}"
   ]
  },
  {
   "cell_type": "markdown",
   "metadata": {
    "ExecuteTime": {
     "end_time": "2021-02-05T20:21:13.138349Z",
     "start_time": "2021-02-05T20:21:09.496Z"
    }
   },
   "source": [
    "with open('columns.json', 'w') as fh:\n",
    "    json.dump(X_train.columns.tolist(), fh)\n",
    "    \n",
    "with open('dtypes.pickle', 'wb') as fh:\n",
    "    pickle.dump(X_train.dtypes, fh)\n",
    "    \n",
    "joblib.dump(pipeline, 'pipeline.pickle');"
   ]
  },
  {
   "cell_type": "code",
   "execution_count": 61,
   "metadata": {
    "ExecuteTime": {
     "end_time": "2021-02-06T12:25:20.787852Z",
     "start_time": "2021-02-06T12:25:20.412203Z"
    }
   },
   "outputs": [
    {
     "data": {
      "text/plain": [
       "{'outcome': False}"
      ]
     },
     "execution_count": 61,
     "metadata": {},
     "output_type": "execute_result"
    }
   ],
   "source": [
    "# Test should_search/ API\n",
    "payload = {\n",
    "        \"observation_id\":\"test3\",\n",
    "        \"Type\":\"Person search\",\n",
    "        \"Date\":'2019-12-01 00:00:00+00:00',\n",
    "        \"Part of a policing operation\":True,\n",
    "        \"Latitude\":23,\n",
    "        \"Longitude\":34,\n",
    "        \"Gender\":'Male',\n",
    "        \"Age range\":\"18-24\",\n",
    "        \"Officer-defined ethnicity\":\"Asian\",\n",
    "        \"Legislation\":'Misuse of Drugs Act 1971 (section 23)',\n",
    "        \"Object of search\":'Controlled drugs?',\n",
    "        \"station\":'lancashire'\n",
    "    }\n",
    "\n",
    "#url = f\"http://localhost:5000/should_search\"\n",
    "url = f\"https://capstonecarlosfonseca.herokuapp.com/should_search\"\n",
    "r = requests.post(url, json=payload)\n",
    "r.json()"
   ]
  },
  {
   "cell_type": "code",
   "execution_count": 62,
   "metadata": {
    "ExecuteTime": {
     "end_time": "2021-02-06T12:25:46.494313Z",
     "start_time": "2021-02-06T12:25:46.225971Z"
    }
   },
   "outputs": [
    {
     "data": {
      "text/plain": [
       "{'observation_id': 'test3', 'outcome': True, 'predicted_outcome': False}"
      ]
     },
     "execution_count": 62,
     "metadata": {},
     "output_type": "execute_result"
    }
   ],
   "source": [
    "# Test search_result/ API\n",
    "payload = {\"observation_id\":\"test3\", \"outcome\":True}\n",
    "\n",
    "# url = f\"http://localhost:5000/search_result\"\n",
    "url = f\"https://capstonecarlosfonseca.herokuapp.com/search_result\"\n",
    "r = requests.post(url, json=payload)\n",
    "r.json()"
   ]
  },
  {
   "cell_type": "code",
   "execution_count": null,
   "metadata": {
    "ExecuteTime": {
     "end_time": "2021-02-05T20:21:13.142347Z",
     "start_time": "2021-02-05T20:21:09.509Z"
    }
   },
   "outputs": [],
   "source": [
    "# http://localhost:5000/search_result"
   ]
  },
  {
   "cell_type": "code",
   "execution_count": null,
   "metadata": {},
   "outputs": [],
   "source": []
  }
 ],
 "metadata": {
  "kernelspec": {
   "display_name": "Python 3",
   "language": "python",
   "name": "python3"
  },
  "language_info": {
   "codemirror_mode": {
    "name": "ipython",
    "version": 3
   },
   "file_extension": ".py",
   "mimetype": "text/x-python",
   "name": "python",
   "nbconvert_exporter": "python",
   "pygments_lexer": "ipython3",
   "version": "3.7.6"
  },
  "toc": {
   "base_numbering": 1,
   "nav_menu": {},
   "number_sections": true,
   "sideBar": true,
   "skip_h1_title": false,
   "title_cell": "Table of Contents",
   "title_sidebar": "Contents",
   "toc_cell": false,
   "toc_position": {},
   "toc_section_display": true,
   "toc_window_display": false
  },
  "varInspector": {
   "cols": {
    "lenName": 16,
    "lenType": 16,
    "lenVar": 40
   },
   "kernels_config": {
    "python": {
     "delete_cmd_postfix": "",
     "delete_cmd_prefix": "del ",
     "library": "var_list.py",
     "varRefreshCmd": "print(var_dic_list())"
    },
    "r": {
     "delete_cmd_postfix": ") ",
     "delete_cmd_prefix": "rm(",
     "library": "var_list.r",
     "varRefreshCmd": "cat(var_dic_list()) "
    }
   },
   "types_to_exclude": [
    "module",
    "function",
    "builtin_function_or_method",
    "instance",
    "_Feature"
   ],
   "window_display": false
  }
 },
 "nbformat": 4,
 "nbformat_minor": 4
}
